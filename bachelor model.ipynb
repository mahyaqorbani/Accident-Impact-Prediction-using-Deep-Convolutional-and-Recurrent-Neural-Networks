{
 "cells": [
  {
   "cell_type": "code",
   "execution_count": 1,
   "metadata": {
    "colab": {
     "base_uri": "https://localhost:8080/"
    },
    "id": "ALMoohaCsOZW",
    "outputId": "e0ca806c-0d55-4616-d16b-3f664f9559f7"
   },
   "outputs": [],
   "source": [
    "import numpy as np\n",
    "import pandas as pd\n",
    "import matplotlib.pyplot as plt\n",
    "from matplotlib.pyplot import figure\n",
    "import plotly.express as px\n",
    "from sklearn.manifold import TSNE\n",
    "\n",
    "import tensorflow as tf\n",
    "from tensorflow import keras\n",
    "from tensorflow.keras.models import Model,Sequential\n",
    "from tensorflow.keras.layers import Dense, Conv2D, Flatten,Input,LSTM,Embedding,Dropout,concatenate\n",
    "from tensorflow.keras.regularizers import l2\n",
    "\n",
    "from sklearn import preprocessing\n",
    "from sklearn.ensemble import GradientBoostingClassifier,RandomForestClassifier\n",
    "from sklearn.metrics import classification_report, confusion_matrix, f1_score\n",
    "from sklearn.linear_model import LogisticRegression\n",
    "from sklearn.preprocessing import MinMaxScaler\n",
    "from sklearn.utils import class_weight\n",
    "from sklearn.preprocessing import LabelEncoder\n",
    "\n",
    "from collections import Counter\n",
    "from imblearn.over_sampling import SMOTE\n",
    "from tqdm import trange\n",
    "from time import sleep\n",
    "from keras import regularizers"
   ]
  },
  {
   "cell_type": "code",
   "execution_count": 2,
   "metadata": {
    "colab": {
     "base_uri": "https://localhost:8080/"
    },
    "id": "TwABC3KMs3JP",
    "outputId": "bad1acc1-6628-47f5-c77f-b1f3d780323c"
   },
   "outputs": [
    {
     "data": {
      "text/plain": [
       "(910000, 38)"
      ]
     },
     "execution_count": 2,
     "metadata": {},
     "output_type": "execute_result"
    }
   ],
   "source": [
    "df = pd.read_csv(r'E:\\bachelor project\\datasets\\8. normalized_2classes.csv')\n",
    "df.shape"
   ]
  },
  {
   "cell_type": "code",
   "execution_count": 3,
   "metadata": {
    "colab": {
     "base_uri": "https://localhost:8080/"
    },
    "id": "cgEcZmycsOZY",
    "outputId": "a18074f8-30a7-402a-ceb0-8a4a4d2d2f1c"
   },
   "outputs": [
    {
     "name": "stdout",
     "output_type": "stream",
     "text": [
      "(910000, 38)\n"
     ]
    },
    {
     "name": "stderr",
     "output_type": "stream",
     "text": [
      "100%|██████████| 140/140 [00:19<00:00,  7.04it/s]\n",
      "loop 1: 100%|██████████| 140/140 [00:00<00:00, 899.60it/s]\n",
      "loop 1: 100%|██████████| 140/140 [00:00<00:00, 1671.10it/s]\n",
      "loop 1: 100%|██████████| 140/140 [00:00<00:00, 3592.79it/s]\n",
      "loop 1: 100%|██████████| 140/140 [00:00<00:00, 4010.73it/s]\n"
     ]
    },
    {
     "name": "stdout",
     "output_type": "stream",
     "text": [
      "test shape:  (65940, 4, 33) (65940,)\n"
     ]
    },
    {
     "data": {
      "image/png": "[encoded data removed]",
      "text/plain": [
       "<Figure size 480x360 with 1 Axes>"
      ]
     },
     "metadata": {
      "needs_background": "light"
     },
     "output_type": "display_data"
    },
    {
     "data": {
      "text/plain": [
       "<Figure size 480x360 with 0 Axes>"
      ]
     },
     "metadata": {},
     "output_type": "display_data"
    },
    {
     "data": {
      "image/png": "[encoded data removed]",
      "text/plain": [
       "<Figure size 480x360 with 1 Axes>"
      ]
     },
     "metadata": {
      "needs_background": "light"
     },
     "output_type": "display_data"
    },
    {
     "data": {
      "image/png": "[encoded data removed]",
      "text/plain": [
       "<Figure size 480x360 with 1 Axes>"
      ]
     },
     "metadata": {
      "needs_background": "light"
     },
     "output_type": "display_data"
    }
   ],
   "source": [
    "df = df.fillna(0)\n",
    "print(df.shape)\n",
    "\n",
    "#a little bit of preprocessing\n",
    "df = df[df['time_index']>2019020000]\n",
    "df = df[df['time_index']<=2019110000]\n",
    "tedad=df[\"time_index\"].nunique()\n",
    "window_size = 4\n",
    "#to put gamma to the last colomn\n",
    "df['gamma_level2'] = df['gamma_quantile_y']\n",
    "df.drop(['gamma_quantile_y'],axis=1,inplace=True)\n",
    "df.drop(['gamma_value_y'],axis=1,inplace=True)\n",
    "df.drop(['gamma_kmeans_y'],axis=1,inplace=True)\n",
    "df.drop(['geohash'],axis=1,inplace=True)\n",
    "\n",
    "conditions = [\n",
    "    (df['gamma_level2'] ==0),\n",
    "    (df['gamma_level2'] ==1),\n",
    "    (df['gamma_level2'] ==2) \n",
    "    ]\n",
    "values = [0,-1,-1]\n",
    "\n",
    "zone_count = len(df[\"geohash_code\"].unique())\n",
    "gamma_index = df.columns.get_loc(\"gamma_level2\")\n",
    "geohash_index = df.columns.get_loc(\"geohash_code\")\n",
    "\n",
    "df.drop(['time_index'],axis=1,inplace=True)\n",
    "j=0\n",
    "k=tedad\n",
    "df=df[['geohash_code', 'acc_count_y', 'Severity_y', 'duration_y', 'cng_count',\n",
    "       'Cloudy', 'Fair', 'Fog',\n",
    "       'Haze', 'Heavy Rain',\n",
    "       'Light Rain', 'Mist',\n",
    "       'Mostly Cloudy', 'Overcast',\n",
    "       'Partly Cloudy', 'Smoke', 'weekend', 'Amenity', 'Bump', 'Crossing', 'Entrance',\n",
    "       'Give_Way', 'Junction', 'Noexit', 'Railway', 'Roundabout', 'Station',\n",
    "       'Stop', 'Traffic_Calming', 'Traffic_Signal', 'Turning_Circle',\n",
    "       'Turning_Loop', 'gamma_level2']]\n",
    "\n",
    "for i in range(1,zone_count+1):\n",
    "    globals()['df%s' % i] = df[j:k]\n",
    "    j=j+tedad\n",
    "    k=k+tedad\n",
    "    \n",
    "#split data to train, test, validation\n",
    "for i in range(1,zone_count+1):\n",
    "    globals()['train%s' % i] = globals()['df%s' % i][:round(tedad*0.75)]\n",
    "    globals()['valid%s' % i] = globals()['df%s' % i][round(tedad*0.75):round(tedad*0.85)]\n",
    "    globals()['test%s' % i] = globals()['df%s' % i][round(tedad*0.85):]\n",
    "    \n",
    "## function for converting dataset into inputs and outputs\n",
    "def split_sequences(sequences, n_steps):\n",
    "    arr = df.to_numpy() \n",
    "    size = arr.shape[1]\n",
    "    X, y = list(), list()\n",
    "    for i in range(len(sequences)):\n",
    "        # find the end of this pattern\n",
    "        end_ix = i + n_steps\n",
    "        # check if we are beyond the dataset\n",
    "        if end_ix > len(sequences)-1:\n",
    "            break\n",
    "        # gather input and output parts of the pattern\n",
    "        seq_x, seq_y = sequences[i:end_ix,:size], sequences[end_ix, size-1]      \n",
    "        X.append(seq_x)\n",
    "        y.append(seq_y)\n",
    "    return np.array(X), np.array(y)\n",
    "\n",
    "#converting each zone's records to inputs and outputs\n",
    "for i in trange(1,zone_count+1):\n",
    "    arr = globals()['train%s' % i].to_numpy() \n",
    "    globals()['x_train%s' % i] , globals()['y_train%s' % i] = split_sequences(arr, window_size)\n",
    "\n",
    "    arr = globals()['valid%s' % i].to_numpy() \n",
    "    globals()['x_valid%s' % i] , globals()['y_valid%s' % i] = split_sequences(arr, window_size) \n",
    "    \n",
    "    arr = globals()['test%s' % i].to_numpy() \n",
    "    globals()['x_test%s' % i] , globals()['y_test%s' % i] = split_sequences(arr, window_size) \n",
    "        \n",
    "    \n",
    "import random\n",
    "random.seed(10)\n",
    "for j in trange(1,zone_count+1,  desc =\"loop 1\"): \n",
    "    a = ((globals()['y_train%s' % j])==0)\n",
    "    b = [not i for i in a]\n",
    "    (globals()['y_train0_%s' % j]) = (globals()['y_train%s' % j])[a]\n",
    "    (globals()['x_train0_%s' % j]) = (globals()['x_train%s' % j])[a]\n",
    "    (globals()['y_train1_%s' % j]) = (globals()['y_train%s' % j])[b]\n",
    "    (globals()['x_train1_%s' % j]) = (globals()['x_train%s' % j])[b]\n",
    "\n",
    "for j in trange(1,zone_count+1,  desc =\"loop 1\"):\n",
    "    a=np.array([random.random() for i in range((len(globals()['y_train0_%s' % j]))) ])\n",
    "    a = (a>=0.97)\n",
    "    (globals()['x_train0_%s' % j]) = (globals()['x_train0_%s' % j])[a]\n",
    "    (globals()['y_train0_%s' % j]) = (globals()['y_train0_%s' % j])[a]\n",
    "for k in trange(1,zone_count+1,  desc =\"loop 1\"): \n",
    "    globals()['x_train%s' % k] = np.concatenate((globals()['x_train0_%s' % k], globals()['x_train1_%s' % k]), axis=0)\n",
    "    globals()['y_train%s' % k] = np.concatenate((globals()['y_train0_%s' % k], globals()['y_train1_%s' % k]), axis=0)\n",
    "\n",
    "#validation\n",
    "for j in trange(1,zone_count+1,  desc =\"loop 1\"): \n",
    "    a = ((globals()['y_valid%s' % j])==0)\n",
    "    b = [not i for i in a]\n",
    "    (globals()['y_valid0_%s' % j]) = (globals()['y_valid%s' % j])[a]\n",
    "    (globals()['x_valid0_%s' % j]) = (globals()['x_valid%s' % j])[a]\n",
    "    (globals()['y_valid1_%s' % j]) = (globals()['y_valid%s' % j])[b]\n",
    "    (globals()['x_valid1_%s' % j]) = (globals()['x_valid%s' % j])[b]\n",
    "\n",
    "\n",
    "    \n",
    "#concatenating records of each zone and save it in x_train1,x_valid1,x_test1 and their y's\n",
    "\n",
    "globals()['x_train%s' % 1000] = np.concatenate((globals()['x_train%s' % 1], globals()['x_train%s' % 2]), axis=0)\n",
    "for k in range(3,zone_count+1):\n",
    "    globals()['x_train%s' % 1000] = np.concatenate((globals()['x_train%s' % 1000], globals()['x_train%s' % k]), axis=0)\n",
    "\n",
    "globals()['y_train%s' % 1000] = np.concatenate((globals()['y_train%s' % 1], globals()['y_train%s' % 2]), axis=0)\n",
    "for k in range(3,zone_count+1):\n",
    "    globals()['y_train%s' % 1000] = np.concatenate((globals()['y_train%s' % 1000], globals()['y_train%s' % k]), axis=0)\n",
    "\n",
    "globals()['x_valid%s' % 1000] = np.concatenate((globals()['x_valid%s' % 1], globals()['x_valid%s' % 2]), axis=0)\n",
    "for k in range(3,zone_count+1):\n",
    "    globals()['x_valid%s' % 1000] = np.concatenate((globals()['x_valid%s' % 1000], globals()['x_valid%s' % k]), axis=0)\n",
    "\n",
    "globals()['y_valid%s' % 1000] = np.concatenate((globals()['y_valid%s' % 1], globals()['y_valid%s' % 2]), axis=0)\n",
    "for k in range(3,zone_count+1):\n",
    "    globals()['y_valid%s' % 1000] = np.concatenate((globals()['y_valid%s' % 1000], globals()['y_valid%s' % k]), axis=0)\n",
    " \n",
    "globals()['x_test%s' % 1000] = np.concatenate((globals()['x_test%s' % 1], globals()['x_test%s' % 2]), axis=0)    \n",
    "for k in range(3,zone_count+1):\n",
    "    globals()['x_test%s' % 1000] = np.concatenate((globals()['x_test%s' % 1000], globals()['x_test%s' % k]), axis=0)\n",
    "    \n",
    "globals()['y_test%s' % 1000] = np.concatenate((globals()['y_test%s' % 1], globals()['y_test%s' % 2]), axis=0)\n",
    "for k in range(3,zone_count+1):\n",
    "    globals()['y_test%s' % 1000] = np.concatenate((globals()['y_test%s' % 1000], globals()['y_test%s' % k]), axis=0)\n",
    "\n",
    "    \n",
    "print(\"test shape: \",x_test1000.shape,y_test1000.shape)\n",
    "\n",
    "figure(figsize=(8, 6), dpi=60)\n",
    "plt.hist(y_train1000)\n",
    "plt.show()\n",
    "figure(figsize=(8, 6), dpi=60)\n",
    "\n",
    "figure(figsize=(8, 6), dpi=60)\n",
    "plt.hist(y_valid1000)\n",
    "plt.show()\n",
    "\n",
    "figure(figsize=(8, 6), dpi=60)\n",
    "plt.hist(y_test1000)\n",
    "plt.show()"
   ]
  },
  {
   "cell_type": "code",
   "execution_count": 4,
   "metadata": {
    "id": "okwSxO8RsOZb"
   },
   "outputs": [],
   "source": [
    "def LSTMM(new_x_train, new_y_train, new_x_test, new_y_test, new_x_valid, new_y_valid, \n",
    "          classweightt2, epoch, unit1, unit2, unit3, dense1, dense2):    \n",
    "    from numpy.random import seed\n",
    "    tf.random.set_seed(0)\n",
    "    seed(10)\n",
    "  \n",
    "    dropout=0.2\n",
    "    \n",
    "    time_sensetive_inputs = Input(shape=(window_size,32))\n",
    "    Xc_train = new_x_train.reshape(-1,window_size,33,1)\n",
    "    Xc_valid = new_x_valid.reshape(-1,window_size,33,1)\n",
    "    Xc_test = new_x_test.reshape(-1,window_size,33,1)\n",
    "\n",
    "    e_inputs=Input(shape=(window_size,1))\n",
    "\n",
    "    ######LSTM layers########\n",
    "    l1 = LSTM(units = 12, return_sequences = True,kernel_regularizer=regularizers.l2(0),recurrent_regularizer = regularizers.l2(0),\n",
    "                         dropout=dropout,recurrent_dropout=dropout,unroll = True)(time_sensetive_inputs)\n",
    "    l2 = LSTM(units = 24, return_sequences = False,kernel_regularizer=regularizers.l2(0),recurrent_regularizer = regularizers.l2(0),\n",
    "                        dropout=dropout,recurrent_dropout=dropout,unroll = True)(l1)\n",
    "    \n",
    "    #######Embedding layer##########\n",
    "    em = Embedding(input_dim=zone_count+1, output_dim=20, embeddings_initializer='uniform',input_length=1, name='embedding')(e_inputs)\n",
    "    d = Flatten()(em)\n",
    "    d = Dense(50,activation='relu')(d)\n",
    "\n",
    "\n",
    "    ###########Dense layers#############  \n",
    "    level_3 = concatenate([d,l2])\n",
    "    D = tf.keras.layers.BatchNormalization()(level_3)\n",
    "    D = Dense(25, activation='relu',kernel_regularizer=regularizers.l1_l2(l1=5e-5, l2=1e-4),\n",
    "        bias_regularizer=regularizers.l2(1e-4),\n",
    "        activity_regularizer=regularizers.l2(1e-5))(level_3)\n",
    "    r = tf.keras.layers.Dropout(0.2)(D) \n",
    "    D = Dense(25, activation='relu',kernel_regularizer=regularizers.l1_l2(l1=5e-5, l2=1e-4),\n",
    "        bias_regularizer=regularizers.l2(1e-4),\n",
    "        activity_regularizer=regularizers.l2(1e-5))(D)\n",
    "    outputs = Dense(2,activation=\"softmax\",name=\"last\")(D)\n",
    "    model1 = Model(inputs=[time_sensetive_inputs, e_inputs],outputs=outputs)\n",
    "    opt = tf.keras.optimizers.Adam(learning_rate=0.005)\n",
    "    model1.compile(optimizer = opt, loss='sparse_categorical_crossentropy',metrics=[\"accuracy\"])\n",
    "    callback=tf.keras.callbacks.EarlyStopping(monitor=\"val_loss\",patience=40)\n",
    "\n",
    "    history1 = model1.fit([new_x_train[:,:,1:],new_x_train[:,:,0]], new_y_train,batch_size=512 ,callbacks=[callback], epochs=150,validation_data=([new_x_valid[:,:,1:], new_x_valid[:,:,0]],new_y_valid),shuffle=False, verbose=0,class_weight=classweightt2)\n",
    "\n",
    "\n",
    "    output2_train = model1.predict([new_x_train[:,:,1:],new_x_train[:,:,0]])\n",
    "    output2_train = output2_train.argmax(axis=-1)\n",
    "    output2 = model1.predict([new_x_test[:,:,1:],new_x_test[:,:,0]])\n",
    "    output2 = output2.argmax(axis=-1)\n",
    "   \n",
    "    return output2_train, output2"
   ]
  },
  {
   "cell_type": "code",
   "execution_count": 5,
   "metadata": {
    "id": "F_6lWGqVsOZc"
   },
   "outputs": [],
   "source": [
    "def CNN(new_x_train, new_y_train, new_x_test, new_y_test, new_x_valid, new_y_valid, classweightt2, epoch, conv1, conv2, conv3):        \n",
    "    \n",
    "    cnn_model = Sequential()#add model layers\n",
    "    cnn_model.add(Conv2D(32, kernel_size=3, activation=\"relu\", input_shape=(window_size,33,1)))\n",
    "    \n",
    "    Xc_train = new_x_train.reshape(-1,window_size,33,1)\n",
    "    Xc_test = new_x_test.reshape(-1,window_size,33,1)\n",
    "\n",
    "    cnn_model.add(Conv2D(64,padding=\"same\", kernel_size=3, activation=\"relu\"))\n",
    "    cnn_model.add(Conv2D(64,padding=\"same\", kernel_size=4, activation=\"relu\"))\n",
    "    cnn_model.add(Conv2D(128,padding=\"same\", kernel_size=3, activation=\"relu\"))\n",
    "    cnn_model.add(Flatten())\n",
    "    cnn_model.add(Dense(40, activation=\"relu\"))\n",
    "    cnn_model.add(Dropout(0.2))\n",
    "    cnn_model.add(Dense(20, activation=\"relu\"))\n",
    "#     cnn_model.add(Dense(3, activation=\"softmax\"))\n",
    "    cnn_model.compile(optimizer = 'adam',loss = 'sparse_categorical_crossentropy',metrics=[\"accuracy\"])\n",
    "    \n",
    "    cnn_model.fit(Xc_train, new_y_train,batch_size=256 ,epochs=25,shuffle=False,class_weight=classweightt2, verbose=0)   \n",
    "    \n",
    "    \n",
    "    output2_train = cnn_model.predict(Xc_train)\n",
    "    output2_train = output2_train.argmax(axis=-1)\n",
    "    output2 = cnn_model.predict(Xc_test)\n",
    "    output2 = output2.argmax(axis=-1)\n",
    "    \n",
    "    return output2_train, output2"
   ]
  },
  {
   "cell_type": "code",
   "execution_count": 6,
   "metadata": {
    "id": "S42qIcAosOZc"
   },
   "outputs": [],
   "source": [
    "#بهش xوy میدی بهت نتیج مدل ابشاری رو برمیگردونه\n",
    "def results(model1, model2, x_train100, y_train100, x_valid100, y_valid100, x_test100, y_test100, classweightt1, \n",
    "            classweightt2, epoch, unit1, unit2, unit3, dense1, dense2, conv1, conv2, conv3):\n",
    "    print('model1 is: {} model2 is: {}'.format(str(model1), str(model2)))\n",
    "    \n",
    "    #Create zero and nonzero classes\n",
    "    a=y_train100>0\n",
    "    y_train_n=np.copy(y_train100)\n",
    "    y_train_n[a]=1\n",
    "    a=y_valid100>0\n",
    "    y_valid_n=np.copy(y_valid100)\n",
    "    y_valid_n[a]=1\n",
    "    a=y_test100>0\n",
    "    y_test_n=np.copy(y_test100)\n",
    "    y_test_n[a]=1\n",
    "    \n",
    "    o1_train, o1= model1(x_train100, y_train_n, x_test100, y_test_n, x_valid100, y_valid_n, \n",
    "                         classweightt1, epoch, unit1, unit2, unit3, dense1, dense2) \n",
    "    g=o1>0\n",
    "    conf_matrix=np.zeros((len(set(y_test100)),len(set(y_test100))))\n",
    "    for i in range(len(o1)):\n",
    "        if (o1[i]==0)and(y_test100[i]==0):\n",
    "            conf_matrix[0,0]+=1     \n",
    "        if (o1[i]==0)and(y_test100[i]==1):\n",
    "            conf_matrix[1,0]+=1\n",
    "        if (o1[i]==0)and(y_test100[i]==2):\n",
    "            conf_matrix[2,0]+=1        \n",
    "    \n",
    "    t = o1_train>0\n",
    "    new_y_trainn=y_train100[t]\n",
    "    new_x_trainn=x_train100[t]\n",
    "    tedad = new_x_trainn.shape[0]\n",
    "    new_x_train=np.copy(new_x_trainn[: round(tedad*0.90)] )\n",
    "    new_y_train=np.copy(new_y_trainn[: round(tedad*0.90)])\n",
    "    new_x_valid=np.copy(new_x_trainn[round(tedad*0.90) :]  )\n",
    "    new_y_valid=np.copy(new_y_trainn[round(tedad*0.90) :]  )\n",
    "    new_x_test =np.copy(x_test100[g])\n",
    "    new_y_test =np.copy(y_test100[g])\n",
    "    \n",
    "    print(new_x_train.shape)\n",
    "    o2_train, o2 = model2(new_x_train, new_y_train,new_x_test, new_y_test, new_x_valid, new_y_valid, classweightt2, epoch, conv1, conv2, conv3)\n",
    "\n",
    "    conf_matrix=confusion_matrix(new_y_test, o2, labels=[0,1,2]) + conf_matrix \n",
    "    # print(\"results for first model weights {} is: \".format(classweightt1))\n",
    "    # print(\"results for second model weights {} is: \".format(classweightt2))\n",
    "    f=0\n",
    "    for i in range(len(conf_matrix)):\n",
    "            if i ==0 :\n",
    "                precision0.append(conf_matrix[i,i]/conf_matrix.sum(axis=0)[i])\n",
    "                recall0.append(conf_matrix[i,i]/conf_matrix.sum(axis=1)[i])\n",
    "                print(\"precision class {} is: {}\".format(i,precision0[-1]))\n",
    "                print(\"recall class {} is: {}\".format(i,recall0[-1]))\n",
    "                print(\"f1 score class {} is: {}\".format(i,(2*recall0[-1]*precision0[-1])/(recall0[-1]+precision0[-1])))\n",
    "                f+=conf_matrix.sum(axis=0)[i]*(2*recall0[-1]*precision0[-1])/(recall0[-1]+precision0[-1])\n",
    "                print()\n",
    "            if i ==1 :\n",
    "                precision1.append(conf_matrix[i,i]/conf_matrix.sum(axis=0)[i])\n",
    "                recall1.append(conf_matrix[i,i]/conf_matrix.sum(axis=1)[i])\n",
    "                print(\"precision class {} is: {}\".format(i,precision1[-1]))\n",
    "                print(\"recall class {} is: {}\".format(i,recall1[-1]))\n",
    "                print(\"f1 score class {} is: {}\".format(i,(2*recall1[-1]*precision1[-1])/(recall1[-1]+precision1[-1])))\n",
    "                f+=conf_matrix.sum(axis=0)[i]*(2*recall1[-1]*precision1[-1])/(recall1[-1]+precision1[-1])\n",
    "                print()\n",
    "            if i ==2 :\n",
    "                precision2.append(conf_matrix[i,i]/conf_matrix.sum(axis=0)[i])\n",
    "                recall2.append(conf_matrix[i,i]/conf_matrix.sum(axis=1)[i])\n",
    "                print(\"precision class {} is: {}\".format(i,precision2[-1]))\n",
    "                print(\"recall class {} is: {}\".format(i,recall2[-1]))\n",
    "                print(\"f1 score class {} is: {}\".format(i,(2*recall2[-1]*precision2[-1])/(recall2[-1]+precision2[-1])))\n",
    "                f+=conf_matrix.sum(axis=0)[i]*(2*recall2[-1]*precision2[-1])/(recall2[-1]+precision2[-1])\n",
    "                print()\n",
    "\n",
    "    f1.append(f/conf_matrix.sum()) \n",
    "    \n",
    "    print(\"Weighted F1 score: \",f1[-1]) \n",
    "    print(\"Accuracy of model: \",(conf_matrix[0,0]+conf_matrix[1,1]+conf_matrix[2,2])/conf_matrix.sum())   \n",
    "\n",
    "    print()\n",
    "    print(\"-------------------------------------------------------------\")\n",
    "    return o2_train, new_y_train"
   ]
  },
  {
   "cell_type": "code",
   "execution_count": 7,
   "metadata": {
    "colab": {
     "base_uri": "https://localhost:8080/",
     "height": 1000
    },
    "id": "-UC7b_gTsOZd",
    "outputId": "148dc611-c6a6-48e4-ec9c-6f04a7d276ec"
   },
   "outputs": [],
   "source": [
    "#In order to create an excel colomns\n",
    "precision0=[]\n",
    "precision1=[]\n",
    "precision2=[]\n",
    "recall0=[]\n",
    "recall1=[]\n",
    "recall2=[]\n",
    "f1=[]\n",
    "acc=[]\n",
    "models = []\n",
    "weightss1 = []\n",
    "weightss2 = []"
   ]
  },
  {
   "cell_type": "markdown",
   "metadata": {},
   "source": [
    "# best model"
   ]
  },
  {
   "cell_type": "code",
   "execution_count": 8,
   "metadata": {},
   "outputs": [
    {
     "name": "stdout",
     "output_type": "stream",
     "text": [
      "model1 is: <function LSTMM at 0x00000132858BFDC0> model2 is: <function CNN at 0x00000132B91CBDC0>\n",
      "(13219, 4, 33)\n",
      "precision class 0 is: 0.9587352625937835\n",
      "recall class 0 is: 0.24153643635872685\n",
      "f1 score class 0 is: 0.3858617993583349\n",
      "\n",
      "precision class 1 is: 0.08715643200163482\n",
      "recall class 1 is: 0.49315860474079787\n",
      "f1 score class 1 is: 0.14813314037626626\n",
      "\n",
      "precision class 2 is: 0.03029883146274999\n",
      "recall class 2 is: 0.43820975283901137\n",
      "f1 score class 2 is: 0.05667876274408156\n",
      "\n",
      "Weighted F1 score:  0.17192347539552455\n",
      "Accuracy of model:  0.2658022444646648\n",
      "\n",
      "-------------------------------------------------------------\n"
     ]
    }
   ],
   "source": [
    "o2, yyy = results(LSTMM, CNN, x_train1000, y_train1000, x_valid1000, y_valid1000, x_test1000, y_test1000, {0: 1,1: 3}, {0: 0.7, 1: 4.5, 2:2.5}, 150, 12, 24, -1, 25, 25, 64, 64, 128)"
   ]
  },
  {
   "cell_type": "markdown",
   "metadata": {},
   "source": [
    "# window size tunning : It takes long time to run"
   ]
  },
  {
   "cell_type": "code",
   "execution_count": 46,
   "metadata": {},
   "outputs": [
    {
     "name": "stderr",
     "output_type": "stream",
     "text": [
      "100%|██████████| 140/140 [00:18<00:00,  7.53it/s]\n",
      "loop 1: 100%|██████████| 140/140 [00:00<00:00, 1018.71it/s]\n",
      "loop 1: 100%|██████████| 140/140 [00:00<00:00, 1895.96it/s]\n",
      "loop 1: 100%|██████████| 140/140 [00:00<00:00, 4528.47it/s]\n",
      "loop 1: 100%|██████████| 140/140 [00:00<00:00, 6380.97it/s]\n"
     ]
    },
    {
     "name": "stdout",
     "output_type": "stream",
     "text": [
      "test shape:  (66080, 3, 33) (66080,)\n",
      "model1 is: <function LSTMM at 0x000001EA771AC160> model2 is: <function CNN at 0x000001EA771AC280>\n",
      "(12850, 3, 33)\n"
     ]
    },
    {
     "name": "stderr",
     "output_type": "stream",
     "text": [
      "  1%|          | 1/140 [00:00<00:22,  6.27it/s]"
     ]
    },
    {
     "name": "stdout",
     "output_type": "stream",
     "text": [
      "precision class 0 is: 0.9577298952078181\n",
      "recall class 0 is: 0.27392278031285255\n",
      "f1 score class 0 is: 0.4260032733224222\n",
      "\n",
      "precision class 1 is: 0.09199745951095586\n",
      "recall class 1 is: 0.5579738058551618\n",
      "f1 score class 1 is: 0.15795212910964507\n",
      "\n",
      "precision class 2 is: 0.02908429902294933\n",
      "recall class 2 is: 0.34156104069379584\n",
      "f1 score class 2 is: 0.053604145945662984\n",
      "\n",
      "Weighted F1 score:  0.1990564699083662\n",
      "Accuracy of model:  0.29777542372881355\n",
      "\n",
      "-------------------------------------------------------------\n"
     ]
    },
    {
     "name": "stderr",
     "output_type": "stream",
     "text": [
      "100%|██████████| 140/140 [00:18<00:00,  7.49it/s]\n",
      "loop 1: 100%|██████████| 140/140 [00:00<00:00, 788.62it/s]\n",
      "loop 1: 100%|██████████| 140/140 [00:00<00:00, 1493.34it/s]\n",
      "loop 1: 100%|██████████| 140/140 [00:00<00:00, 3509.42it/s]\n",
      "loop 1: 100%|██████████| 140/140 [00:00<00:00, 4840.83it/s]\n"
     ]
    },
    {
     "name": "stdout",
     "output_type": "stream",
     "text": [
      "test shape:  (65940, 4, 33) (65940,)\n",
      "model1 is: <function LSTMM at 0x000001EA771AC160> model2 is: <function CNN at 0x000001EA771AC280>\n",
      "(13219, 4, 33)\n"
     ]
    },
    {
     "name": "stderr",
     "output_type": "stream",
     "text": [
      "  1%|          | 1/140 [00:00<00:20,  6.68it/s]"
     ]
    },
    {
     "name": "stdout",
     "output_type": "stream",
     "text": [
      "precision class 0 is: 0.9587352625937835\n",
      "recall class 0 is: 0.24153643635872685\n",
      "f1 score class 0 is: 0.3858617993583349\n",
      "\n",
      "precision class 1 is: 0.08715643200163482\n",
      "recall class 1 is: 0.49315860474079787\n",
      "f1 score class 1 is: 0.14813314037626626\n",
      "\n",
      "precision class 2 is: 0.03029883146274999\n",
      "recall class 2 is: 0.43820975283901137\n",
      "f1 score class 2 is: 0.05667876274408156\n",
      "\n",
      "Weighted F1 score:  0.17192347539552455\n",
      "Accuracy of model:  0.2658022444646648\n",
      "\n",
      "-------------------------------------------------------------\n"
     ]
    },
    {
     "name": "stderr",
     "output_type": "stream",
     "text": [
      "100%|██████████| 140/140 [00:17<00:00,  7.96it/s]\n",
      "loop 1: 100%|██████████| 140/140 [00:00<00:00, 697.87it/s]\n",
      "loop 1: 100%|██████████| 140/140 [00:00<00:00, 1477.61it/s]\n",
      "loop 1: 100%|██████████| 140/140 [00:00<00:00, 2697.35it/s]\n",
      "loop 1: 100%|██████████| 140/140 [00:00<00:00, 3190.33it/s]\n"
     ]
    },
    {
     "name": "stdout",
     "output_type": "stream",
     "text": [
      "test shape:  (65800, 5, 33) (65800,)\n",
      "model1 is: <function LSTMM at 0x000001EA771AC160> model2 is: <function CNN at 0x000001EA771AC280>\n",
      "(13266, 5, 33)\n"
     ]
    },
    {
     "name": "stderr",
     "output_type": "stream",
     "text": [
      "  1%|          | 1/140 [00:00<00:16,  8.40it/s]"
     ]
    },
    {
     "name": "stdout",
     "output_type": "stream",
     "text": [
      "precision class 0 is: 0.9594770347046341\n",
      "recall class 0 is: 0.23707800554766253\n",
      "f1 score class 0 is: 0.38020967545061235\n",
      "\n",
      "precision class 1 is: 0.09481758986709482\n",
      "recall class 1 is: 0.6153994596680818\n",
      "f1 score class 1 is: 0.16431791833054232\n",
      "\n",
      "precision class 2 is: 0.027622736074723774\n",
      "recall class 2 is: 0.3246318607764391\n",
      "f1 score class 2 is: 0.05091328994331304\n",
      "\n",
      "Weighted F1 score:  0.18198971490416133\n",
      "Accuracy of model:  0.26886018237082066\n",
      "\n",
      "-------------------------------------------------------------\n"
     ]
    },
    {
     "name": "stderr",
     "output_type": "stream",
     "text": [
      "100%|██████████| 140/140 [00:17<00:00,  7.80it/s]\n",
      "loop 1: 100%|██████████| 140/140 [00:00<00:00, 716.05it/s]\n",
      "loop 1: 100%|██████████| 140/140 [00:00<00:00, 1478.31it/s]\n",
      "loop 1: 100%|██████████| 140/140 [00:00<00:00, 2552.34it/s]\n",
      "loop 1: 100%|██████████| 140/140 [00:00<00:00, 4821.43it/s]\n"
     ]
    },
    {
     "name": "stdout",
     "output_type": "stream",
     "text": [
      "test shape:  (65660, 6, 33) (65660,)\n",
      "model1 is: <function LSTMM at 0x000001EA771AC160> model2 is: <function CNN at 0x000001EA771AC280>\n",
      "(13455, 6, 33)\n"
     ]
    },
    {
     "name": "stderr",
     "output_type": "stream",
     "text": [
      "  1%|          | 1/140 [00:00<00:15,  9.05it/s]"
     ]
    },
    {
     "name": "stdout",
     "output_type": "stream",
     "text": [
      "precision class 0 is: 0.9595223325062034\n",
      "recall class 0 is: 0.20973947827855655\n",
      "f1 score class 0 is: 0.34423379188516273\n",
      "\n",
      "precision class 1 is: 0.08349115801483172\n",
      "recall class 1 is: 0.7076000773544769\n",
      "f1 score class 1 is: 0.14935913135766185\n",
      "\n",
      "precision class 2 is: 0.039937353171495694\n",
      "recall class 2 is: 0.23927613941018766\n",
      "f1 score class 2 is: 0.06844981305723324\n",
      "\n",
      "Weighted F1 score:  0.17661857738073708\n",
      "Accuracy of model:  0.24961925068534876\n",
      "\n",
      "-------------------------------------------------------------\n"
     ]
    },
    {
     "name": "stderr",
     "output_type": "stream",
     "text": [
      "100%|██████████| 140/140 [00:17<00:00,  8.08it/s]\n",
      "loop 1: 100%|██████████| 140/140 [00:00<00:00, 622.16it/s]\n",
      "loop 1: 100%|██████████| 140/140 [00:00<00:00, 1452.26it/s]\n",
      "loop 1: 100%|██████████| 140/140 [00:00<00:00, 2033.90it/s]\n",
      "loop 1: 100%|██████████| 140/140 [00:00<00:00, 6020.00it/s]\n"
     ]
    },
    {
     "name": "stdout",
     "output_type": "stream",
     "text": [
      "test shape:  (65520, 7, 33) (65520,)\n",
      "model1 is: <function LSTMM at 0x000001EA771AC160> model2 is: <function CNN at 0x000001EA771AC280>\n",
      "(13015, 7, 33)\n"
     ]
    },
    {
     "name": "stderr",
     "output_type": "stream",
     "text": [
      "  1%|          | 1/140 [00:00<00:21,  6.53it/s]"
     ]
    },
    {
     "name": "stdout",
     "output_type": "stream",
     "text": [
      "precision class 0 is: 0.9579153946794592\n",
      "recall class 0 is: 0.22388135765976966\n",
      "f1 score class 0 is: 0.3629378717779247\n",
      "\n",
      "precision class 1 is: 0.08469100732447712\n",
      "recall class 1 is: 0.5887705711519845\n",
      "f1 score class 1 is: 0.14808141799766267\n",
      "\n",
      "precision class 2 is: 0.032040365815200256\n",
      "recall class 2 is: 0.34116856950973806\n",
      "f1 score class 2 is: 0.058579335793357945\n",
      "\n",
      "Weighted F1 score:  0.17153898176078222\n",
      "Accuracy of model:  0.2553113553113553\n",
      "\n",
      "-------------------------------------------------------------\n"
     ]
    },
    {
     "name": "stderr",
     "output_type": "stream",
     "text": [
      "100%|██████████| 140/140 [00:17<00:00,  8.13it/s]\n",
      "loop 1: 100%|██████████| 140/140 [00:00<00:00, 532.36it/s]\n",
      "loop 1: 100%|██████████| 140/140 [00:00<00:00, 1134.24it/s]\n",
      "loop 1: 100%|██████████| 140/140 [00:00<00:00, 2294.59it/s]\n",
      "loop 1: 100%|██████████| 140/140 [00:00<00:00, 2967.09it/s]\n"
     ]
    },
    {
     "name": "stdout",
     "output_type": "stream",
     "text": [
      "test shape:  (65380, 8, 33) (65380,)\n",
      "model1 is: <function LSTMM at 0x000001EA771AC160> model2 is: <function CNN at 0x000001EA771AC280>\n",
      "(12605, 8, 33)\n"
     ]
    },
    {
     "name": "stderr",
     "output_type": "stream",
     "text": [
      "  1%|          | 1/140 [00:00<00:21,  6.39it/s]"
     ]
    },
    {
     "name": "stdout",
     "output_type": "stream",
     "text": [
      "precision class 0 is: 0.9554845858046015\n",
      "recall class 0 is: 0.2495701469161233\n",
      "f1 score class 0 is: 0.39576696722639165\n",
      "\n",
      "precision class 1 is: 0.08840108562736736\n",
      "recall class 1 is: 0.5753105590062112\n",
      "f1 score class 1 is: 0.15325353532742175\n",
      "\n",
      "precision class 2 is: 0.031075842015992245\n",
      "recall class 2 is: 0.3449899125756557\n",
      "f1 score class 2 is: 0.057015837732703537\n",
      "\n",
      "Weighted F1 score:  0.18586582767572837\n",
      "Accuracy of model:  0.2774089935760171\n",
      "\n",
      "-------------------------------------------------------------\n"
     ]
    },
    {
     "name": "stderr",
     "output_type": "stream",
     "text": [
      "100%|██████████| 140/140 [00:16<00:00,  8.62it/s]\n",
      "loop 1: 100%|██████████| 140/140 [00:00<00:00, 536.11it/s]\n",
      "loop 1: 100%|██████████| 140/140 [00:00<00:00, 1207.98it/s]\n",
      "loop 1: 100%|██████████| 140/140 [00:00<00:00, 1454.05it/s]\n",
      "loop 1: 100%|██████████| 140/140 [00:00<00:00, 2054.99it/s]\n"
     ]
    },
    {
     "name": "stdout",
     "output_type": "stream",
     "text": [
      "test shape:  (65240, 9, 33) (65240,)\n",
      "model1 is: <function LSTMM at 0x000001EA771AC160> model2 is: <function CNN at 0x000001EA771AC280>\n",
      "(11638, 9, 33)\n"
     ]
    },
    {
     "name": "stderr",
     "output_type": "stream",
     "text": [
      "  1%|          | 1/140 [00:00<00:17,  7.89it/s]"
     ]
    },
    {
     "name": "stdout",
     "output_type": "stream",
     "text": [
      "precision class 0 is: 0.9536347160692711\n",
      "recall class 0 is: 0.3231821749070188\n",
      "f1 score class 0 is: 0.4827594994775606\n",
      "\n",
      "precision class 1 is: 0.09173222502597596\n",
      "recall class 1 is: 0.6006998444790047\n",
      "f1 score class 1 is: 0.1591593911766978\n",
      "\n",
      "precision class 2 is: 0.03635274997861603\n",
      "recall class 2 is: 0.286774628879892\n",
      "f1 score class 2 is: 0.06452592423897366\n",
      "\n",
      "Weighted F1 score:  0.24072948144830122\n",
      "Accuracy of model:  0.34423666462293073\n",
      "\n",
      "-------------------------------------------------------------\n"
     ]
    },
    {
     "name": "stderr",
     "output_type": "stream",
     "text": [
      "100%|██████████| 140/140 [00:17<00:00,  7.82it/s]\n",
      "loop 1: 100%|██████████| 140/140 [00:00<00:00, 429.97it/s]\n",
      "loop 1: 100%|██████████| 140/140 [00:00<00:00, 1032.54it/s]\n",
      "loop 1: 100%|██████████| 140/140 [00:00<00:00, 1470.78it/s]\n",
      "loop 1: 100%|██████████| 140/140 [00:00<00:00, 1754.84it/s]\n"
     ]
    },
    {
     "name": "stdout",
     "output_type": "stream",
     "text": [
      "test shape:  (65100, 10, 33) (65100,)\n",
      "model1 is: <function LSTMM at 0x000001EA771AC160> model2 is: <function CNN at 0x000001EA771AC280>\n",
      "(12731, 10, 33)\n",
      "precision class 0 is: 0.9581765738650615\n",
      "recall class 0 is: 0.26126280155242865\n",
      "f1 score class 0 is: 0.4105753858967986\n",
      "\n",
      "precision class 1 is: 0.08885429279824714\n",
      "recall class 1 is: 0.6003116478379431\n",
      "f1 score class 1 is: 0.15479658463083878\n",
      "\n",
      "precision class 2 is: 0.03248997649661275\n",
      "recall class 2 is: 0.3182125930941097\n",
      "f1 score class 2 is: 0.05896004516088566\n",
      "\n",
      "Weighted F1 score:  0.19616047007810736\n",
      "Accuracy of model:  0.28929339477726573\n",
      "\n",
      "-------------------------------------------------------------\n"
     ]
    }
   ],
   "source": [
    "  for u in range (3,11):\n",
    "        window_size = u   \n",
    "\n",
    "        #converting each zone's records to inputs and outputs\n",
    "        for i in trange(1,zone_count+1):\n",
    "            arr = globals()['train%s' % i].to_numpy() \n",
    "            globals()['x_train%s' % i] , globals()['y_train%s' % i] = split_sequences(arr, window_size)\n",
    "\n",
    "            arr = globals()['valid%s' % i].to_numpy() \n",
    "            globals()['x_valid%s' % i] , globals()['y_valid%s' % i] = split_sequences(arr, window_size) \n",
    "\n",
    "            arr = globals()['test%s' % i].to_numpy() \n",
    "            globals()['x_test%s' % i] , globals()['y_test%s' % i] = split_sequences(arr, window_size) \n",
    "\n",
    "\n",
    "        import random\n",
    "        random.seed(10)\n",
    "        for j in trange(1,zone_count+1,  desc =\"loop 1\"): \n",
    "            a = ((globals()['y_train%s' % j])==0)\n",
    "            b = [not i for i in a]\n",
    "            (globals()['y_train0_%s' % j]) = (globals()['y_train%s' % j])[a]\n",
    "            (globals()['x_train0_%s' % j]) = (globals()['x_train%s' % j])[a]\n",
    "            (globals()['y_train1_%s' % j]) = (globals()['y_train%s' % j])[b]\n",
    "            (globals()['x_train1_%s' % j]) = (globals()['x_train%s' % j])[b]\n",
    "\n",
    "        for j in trange(1,zone_count+1,  desc =\"loop 1\"):\n",
    "            a=np.array([random.random() for i in range((len(globals()['y_train0_%s' % j]))) ])\n",
    "            a = (a>=0.97)\n",
    "            (globals()['x_train0_%s' % j]) = (globals()['x_train0_%s' % j])[a]\n",
    "            (globals()['y_train0_%s' % j]) = (globals()['y_train0_%s' % j])[a]\n",
    "        for k in trange(1,zone_count+1,  desc =\"loop 1\"): \n",
    "            globals()['x_train%s' % k] = np.concatenate((globals()['x_train0_%s' % k], globals()['x_train1_%s' % k]), axis=0)\n",
    "            globals()['y_train%s' % k] = np.concatenate((globals()['y_train0_%s' % k], globals()['y_train1_%s' % k]), axis=0)\n",
    "\n",
    "        #validation\n",
    "        for j in trange(1,zone_count+1,  desc =\"loop 1\"): \n",
    "            a = ((globals()['y_valid%s' % j])==0)\n",
    "            b = [not i for i in a]\n",
    "            (globals()['y_valid0_%s' % j]) = (globals()['y_valid%s' % j])[a]\n",
    "            (globals()['x_valid0_%s' % j]) = (globals()['x_valid%s' % j])[a]\n",
    "            (globals()['y_valid1_%s' % j]) = (globals()['y_valid%s' % j])[b]\n",
    "            (globals()['x_valid1_%s' % j]) = (globals()['x_valid%s' % j])[b]\n",
    "\n",
    "\n",
    "\n",
    "        #concatenating records of each zone and save it in x_train1,x_valid1,x_test1 and their y's\n",
    "\n",
    "        globals()['x_train%s' % 1000] = np.concatenate((globals()['x_train%s' % 1], globals()['x_train%s' % 2]), axis=0)\n",
    "        for k in range(3,zone_count+1):\n",
    "                globals()['x_train%s' % 1000] = np.concatenate((globals()['x_train%s' % 1000], globals()['x_train%s' % k]), axis=0)\n",
    "\n",
    "        globals()['y_train%s' % 1000] = np.concatenate((globals()['y_train%s' % 1], globals()['y_train%s' % 2]), axis=0)\n",
    "        for k in range(3,zone_count+1):\n",
    "            globals()['y_train%s' % 1000] = np.concatenate((globals()['y_train%s' % 1000], globals()['y_train%s' % k]), axis=0)\n",
    "\n",
    "        globals()['x_valid%s' % 1000] = np.concatenate((globals()['x_valid%s' % 1], globals()['x_valid%s' % 2]), axis=0)\n",
    "        for k in range(3,zone_count+1):\n",
    "            globals()['x_valid%s' % 1000] = np.concatenate((globals()['x_valid%s' % 1000], globals()['x_valid%s' % k]), axis=0)\n",
    "\n",
    "        globals()['y_valid%s' % 1000] = np.concatenate((globals()['y_valid%s' % 1], globals()['y_valid%s' % 2]), axis=0)\n",
    "        for k in range(3,zone_count+1):\n",
    "            globals()['y_valid%s' % 1000] = np.concatenate((globals()['y_valid%s' % 1000], globals()['y_valid%s' % k]), axis=0)\n",
    "\n",
    "\n",
    "        # print(\"train shape: \",x_train100.shape,y_train100.shape)\n",
    "\n",
    "        globals()['x_test%s' % 1000] = np.concatenate((globals()['x_test%s' % 1], globals()['x_test%s' % 2]), axis=0)    \n",
    "        for k in range(3,zone_count+1):\n",
    "            globals()['x_test%s' % 1000] = np.concatenate((globals()['x_test%s' % 1000], globals()['x_test%s' % k]), axis=0)\n",
    "\n",
    "        globals()['y_test%s' % 1000] = np.concatenate((globals()['y_test%s' % 1], globals()['y_test%s' % 2]), axis=0)\n",
    "        for k in range(3,zone_count+1):\n",
    "            globals()['y_test%s' % 1000] = np.concatenate((globals()['y_test%s' % 1000], globals()['y_test%s' % k]), axis=0)\n",
    "\n",
    "\n",
    "        print(\"test shape: \",x_test1000.shape,y_test1000.shape)\n",
    "\n",
    "        o2, yyy = results(LSTMM, CNN, x_train1000, y_train1000, x_valid1000, y_valid1000, x_test1000, y_test1000, {0: 1,1: 3}, {0: 0.7, 1: 4.5, 2:2.5}, 150, 12, 24, -1, 25, 25, 64, 64, 128)"
   ]
  },
  {
   "cell_type": "code",
   "execution_count": null,
   "metadata": {},
   "outputs": [],
   "source": []
  },
  {
   "cell_type": "code",
   "execution_count": null,
   "metadata": {},
   "outputs": [],
   "source": []
  },
  {
   "cell_type": "code",
   "execution_count": null,
   "metadata": {},
   "outputs": [],
   "source": []
  },
  {
   "cell_type": "markdown",
   "metadata": {},
   "source": [
    "# best model"
   ]
  },
  {
   "cell_type": "code",
   "execution_count": 42,
   "metadata": {},
   "outputs": [
    {
     "name": "stdout",
     "output_type": "stream",
     "text": [
      "model1 is: <function LSTMM at 0x000001909A7F8820> model2 is: <function CNN at 0x000001909A7F8CA0>\n",
      "(13348, 4, 33)\n",
      "precision class 0 is: 0.9579979709164694\n",
      "recall class 0 is: 0.23903871468592838\n",
      "f1 score class 0 is: 0.3826091654398358\n",
      "\n",
      "precision class 1 is: 0.08262903986361493\n",
      "recall class 1 is: 0.439005588745423\n",
      "f1 score class 1 is: 0.1390805299468832\n",
      "\n",
      "precision class 2 is: 0.031247350122954296\n",
      "recall class 2 is: 0.4923179692718771\n",
      "f1 score class 2 is: 0.058764900530239604\n",
      "\n",
      "Weighted F1 score:  0.16495627214194458\n",
      "Accuracy of model:  0.2605247194419169\n",
      "\n",
      "-------------------------------------------------------------\n",
      "model1 is: <function LSTMM at 0x000001909A7F8820> model2 is: <function CNN at 0x000001909A7F8CA0>\n",
      "(12963, 4, 33)\n",
      "precision class 0 is: 0.9580500949231429\n",
      "recall class 0 is: 0.264015931413913\n",
      "f1 score class 0 is: 0.41395551909820993\n",
      "\n",
      "precision class 1 is: 0.09358215293911915\n",
      "recall class 1 is: 0.7219117363653883\n",
      "f1 score class 1 is: 0.16568623114688844\n",
      "\n",
      "precision class 2 is: 0.03151742851179295\n",
      "recall class 2 is: 0.2017368069472278\n",
      "f1 score class 2 is: 0.054517555736077264\n",
      "\n",
      "Weighted F1 score:  0.21101184466176157\n",
      "Accuracy of model:  0.2986351228389445\n",
      "\n",
      "-------------------------------------------------------------\n",
      "model1 is: <function LSTMM at 0x000001909A7F8820> model2 is: <function CNN at 0x000001909A7F8CA0>\n",
      "(13250, 4, 33)\n",
      "precision class 0 is: 0.9606140594609613\n",
      "recall class 0 is: 0.2333850879265535\n",
      "f1 score class 0 is: 0.37553292600135774\n",
      "\n",
      "precision class 1 is: 0.09023865615077332\n",
      "recall class 1 is: 0.509346694931586\n",
      "f1 score class 1 is: 0.15331515749173386\n",
      "\n",
      "precision class 2 is: 0.02952145585261739\n",
      "recall class 2 is: 0.43887775551102204\n",
      "f1 score class 2 is: 0.05532165712361064\n",
      "\n",
      "Weighted F1 score:  0.16875649271727167\n",
      "Accuracy of model:  0.2597664543524416\n",
      "\n",
      "-------------------------------------------------------------\n",
      "model1 is: <function LSTMM at 0x000001909A7F8820> model2 is: <function CNN at 0x000001909A7F8CA0>\n",
      "(12766, 4, 33)\n",
      "precision class 0 is: 0.9526837280771473\n",
      "recall class 0 is: 0.30343943024943465\n",
      "f1 score class 0 is: 0.4602762169288466\n",
      "\n",
      "precision class 1 is: 0.09550248386154132\n",
      "recall class 1 is: 0.6928117170938524\n",
      "f1 score class 1 is: 0.16786514755323123\n",
      "\n",
      "precision class 2 is: 0.03480475382003396\n",
      "recall class 2 is: 0.21910487641950568\n",
      "f1 score class 2 is: 0.06006775936269572\n",
      "\n",
      "Weighted F1 score:  0.2361513399405285\n",
      "Accuracy of model:  0.3321656050955414\n",
      "\n",
      "-------------------------------------------------------------\n",
      "model1 is: <function LSTMM at 0x000001909A7F8820> model2 is: <function CNN at 0x000001909A7F8CA0>\n",
      "(12854, 4, 33)\n",
      "precision class 0 is: 0.9576162185337171\n",
      "recall class 0 is: 0.2638640429338104\n",
      "f1 score class 0 is: 0.41372831796350934\n",
      "\n",
      "precision class 1 is: 0.09152510906896871\n",
      "recall class 1 is: 0.5700520331470418\n",
      "f1 score class 1 is: 0.15772635171163485\n",
      "\n",
      "precision class 2 is: 0.03168729038973054\n",
      "recall class 2 is: 0.36606546426185704\n",
      "f1 score class 2 is: 0.058325794263211106\n",
      "\n",
      "Weighted F1 score:  0.1950437745578786\n",
      "Accuracy of model:  0.2902790415529269\n",
      "\n",
      "-------------------------------------------------------------\n",
      "model1 is: <function LSTMM at 0x000001909A7F8820> model2 is: <function CNN at 0x000001909A7F8CA0>\n",
      "(13603, 4, 33)\n",
      "precision class 0 is: 0.9613414438930686\n",
      "recall class 0 is: 0.20270361494582645\n",
      "f1 score class 0 is: 0.3348107264313988\n",
      "\n",
      "precision class 1 is: 0.08600140935690431\n",
      "recall class 1 is: 0.5409520138755058\n",
      "f1 score class 1 is: 0.14840858623242045\n",
      "\n",
      "precision class 2 is: 0.029365117508530783\n",
      "recall class 2 is: 0.4081496325985304\n",
      "f1 score class 2 is: 0.0547883787661406\n",
      "\n",
      "Weighted F1 score:  0.15418584863604723\n",
      "Accuracy of model:  0.23398544131028207\n",
      "\n",
      "-------------------------------------------------------------\n"
     ]
    }
   ],
   "source": [
    "for i in range(6):\n",
    "    o2, yyy = results(LSTMM, CNN, x_train1000, y_train1000, x_valid1000, y_valid1000, x_test1000, y_test1000, {0: 1,1: 3}, {0: 0.7, 1: 4.5, 2:2.5}, 150, 12, 24, -1, 25, 25, 64, 64, 128)"
   ]
  },
  {
   "cell_type": "markdown",
   "metadata": {},
   "source": [
    "# base models"
   ]
  },
  {
   "cell_type": "markdown",
   "metadata": {},
   "source": [
    "# LSTM"
   ]
  },
  {
   "cell_type": "code",
   "execution_count": 20,
   "metadata": {
    "scrolled": true
   },
   "outputs": [
    {
     "name": "stdout",
     "output_type": "stream",
     "text": [
      "Confusion Matrix:\n",
      "[[35313 13487 10454]\n",
      " [ 1849  1481  1859]\n",
      " [  539   389   569]]\n",
      "Classification Report\n",
      "              precision    recall  f1-score   support\n",
      "\n",
      "         0.0       0.94      0.60      0.73     59254\n",
      "         1.0       0.10      0.29      0.14      5189\n",
      "         2.0       0.04      0.38      0.08      1497\n",
      "\n",
      "    accuracy                           0.57     65940\n",
      "   macro avg       0.36      0.42      0.32     65940\n",
      "weighted avg       0.85      0.57      0.67     65940\n",
      "\n",
      "Confusion Matrix:\n",
      "[[35141 13902 10211]\n",
      " [ 1831  1756  1602]\n",
      " [  526   495   476]]\n",
      "Classification Report\n",
      "              precision    recall  f1-score   support\n",
      "\n",
      "         0.0       0.94      0.59      0.73     59254\n",
      "         1.0       0.11      0.34      0.16      5189\n",
      "         2.0       0.04      0.32      0.07      1497\n",
      "\n",
      "    accuracy                           0.57     65940\n",
      "   macro avg       0.36      0.42      0.32     65940\n",
      "weighted avg       0.85      0.57      0.67     65940\n",
      "\n",
      "Confusion Matrix:\n",
      "[[32346 14632 12276]\n",
      " [ 1586  1750  1853]\n",
      " [  475   482   540]]\n",
      "Classification Report\n",
      "              precision    recall  f1-score   support\n",
      "\n",
      "         0.0       0.94      0.55      0.69     59254\n",
      "         1.0       0.10      0.34      0.16      5189\n",
      "         2.0       0.04      0.36      0.07      1497\n",
      "\n",
      "    accuracy                           0.53     65940\n",
      "   macro avg       0.36      0.41      0.31     65940\n",
      "weighted avg       0.85      0.53      0.63     65940\n",
      "\n",
      "Confusion Matrix:\n",
      "[[33509 15113 10632]\n",
      " [ 1709  1795  1685]\n",
      " [  496   491   510]]\n",
      "Classification Report\n",
      "              precision    recall  f1-score   support\n",
      "\n",
      "         0.0       0.94      0.57      0.71     59254\n",
      "         1.0       0.10      0.35      0.16      5189\n",
      "         2.0       0.04      0.34      0.07      1497\n",
      "\n",
      "    accuracy                           0.54     65940\n",
      "   macro avg       0.36      0.42      0.31     65940\n",
      "weighted avg       0.85      0.54      0.65     65940\n",
      "\n",
      "Confusion Matrix:\n",
      "[[34209 16199  8846]\n",
      " [ 1745  1937  1507]\n",
      " [  513   542   442]]\n",
      "Classification Report\n",
      "              precision    recall  f1-score   support\n",
      "\n",
      "         0.0       0.94      0.58      0.71     59254\n",
      "         1.0       0.10      0.37      0.16      5189\n",
      "         2.0       0.04      0.30      0.07      1497\n",
      "\n",
      "    accuracy                           0.55     65940\n",
      "   macro avg       0.36      0.42      0.32     65940\n",
      "weighted avg       0.85      0.55      0.66     65940\n",
      "\n"
     ]
    }
   ],
   "source": [
    "for u in range(0,5):\n",
    "    dropout=0.020\n",
    "    #LSTM model\n",
    "    np.random.seed(7)\n",
    "    window_size=4\n",
    "    inputs=Input(shape=(window_size,32))\n",
    "    e_inputs=Input(shape=(window_size,1))\n",
    "    Learning_rate=0.0035\n",
    "    ######LSTM layers########\n",
    "    l1=LSTM(units = 35, return_sequences = True,kernel_regularizer=regularizers.l2(0),recurrent_regularizer = regularizers.l2(0),\n",
    "                         dropout=dropout,recurrent_dropout=dropout,unroll = True)(inputs)\n",
    "    l2=LSTM(units = 50, return_sequences = True,kernel_regularizer=regularizers.l2(0),recurrent_regularizer = regularizers.l2(0),\n",
    "                         dropout=dropout,recurrent_dropout=dropout,unroll = True)(l1)\n",
    "    l3=LSTM(units = 30, return_sequences = False,\n",
    "                         kernel_regularizer=regularizers.l2(0),recurrent_regularizer = regularizers.l2(0),\n",
    "                         dropout=dropout,recurrent_dropout=dropout,unroll = True)(l2)\n",
    "    #######Embedding layer##########\n",
    "    em=Embedding(input_dim=zone_count+1, output_dim=20, embeddings_initializer='uniform',input_length=1, name='embedding')(e_inputs)\n",
    "    d=Flatten()(em)\n",
    "    d=Dense(50,activation='relu')(d)\n",
    "    level_3 = concatenate([d,l3])\n",
    "    ###########Dense layers#############                      \n",
    "    d1=Dense(50,activation='relu')(level_3)\n",
    "    d2=Dense(40,activation='relu')(d1)\n",
    "    d3=Dense(40,activation='relu')(d2)\n",
    "    d4=Dense(20,activation='relu')(d3)\n",
    "    outputs=Dense(3,activation=\"softmax\")(d4)\n",
    "\n",
    "    model=Model(inputs=[inputs, e_inputs],outputs=outputs)\n",
    "    # l3_model = Model(inputs,l3)\n",
    "    # d2_model = Model(inputs,d2)\n",
    "    # d4_model = Model(inputs,d4)\n",
    "    opt = tf.keras.optimizers.Adam(learning_rate=0.0004)\n",
    "    model.compile(optimizer=opt, loss='sparse_categorical_crossentropy',metrics=[\"accuracy\"])\n",
    "    callback=tf.keras.callbacks.EarlyStopping(monitor=\"val_loss\",patience=30)\n",
    "\n",
    "    # history=model.fit([x_train100[:,:,0:35], x_train100[:,:,35:]], y_train100,batch_size=512 ,callbacks=[callback],epochs=30,validation_split=0.20,shuffle=True, verbose=1)\n",
    "    history=model.fit([x_train1000[:,:,1:], x_train1000[:,:,0]], y_train1000,batch_size=512 ,callbacks=[callback],epochs=150,\n",
    "                      validation_data=([x_valid1000[:,:,1:], x_valid1000[:,:,0]],y_valid1000),shuffle=True, verbose=0,\n",
    "                      class_weight={0 : 1, 1:2.7, 2:2})\n",
    "    # print(\"train accuracy: \",model.evaluate([x_train100[:,:,1:], x_train100[:,:,0]],y_train100)[1])\n",
    "    # print(\"test accuracy: \",model.evaluate([x_test100[:,:,1:], x_test100[:,:,0]],y_test100)[1])\n",
    "\n",
    "    #Confusion Matrix\n",
    "    y_prob = model.predict([x_test1000[:,:,1:], x_test1000[:,:,0]])\n",
    "    predictions = y_prob.argmax(axis=-1)\n",
    "\n",
    "    print(\"Confusion Matrix:\")\n",
    "    print(confusion_matrix(y_test1000, predictions, labels=[0,1,2]))\n",
    "    print(\"Classification Report\")\n",
    "    print(classification_report(y_test1000, predictions))"
   ]
  },
  {
   "cell_type": "markdown",
   "metadata": {},
   "source": [
    "# Base Models"
   ]
  },
  {
   "cell_type": "markdown",
   "metadata": {},
   "source": [
    "# CNN "
   ]
  },
  {
   "cell_type": "code",
   "execution_count": 18,
   "metadata": {
    "scrolled": true
   },
   "outputs": [
    {
     "name": "stdout",
     "output_type": "stream",
     "text": [
      "Confusion Matrix:\n",
      "[[40049  9723  9482]\n",
      " [ 2167  1509  1513]\n",
      " [  638   404   455]]\n",
      "              precision    recall  f1-score   support\n",
      "\n",
      "         0.0       0.93      0.68      0.78     59254\n",
      "         1.0       0.13      0.29      0.18      5189\n",
      "         2.0       0.04      0.30      0.07      1497\n",
      "\n",
      "    accuracy                           0.64     65940\n",
      "   macro avg       0.37      0.42      0.34     65940\n",
      "weighted avg       0.85      0.64      0.72     65940\n",
      "\n",
      "Confusion Matrix:\n",
      "[[37050  8745 13459]\n",
      " [ 1860  1453  1876]\n",
      " [  525   417   555]]\n",
      "              precision    recall  f1-score   support\n",
      "\n",
      "         0.0       0.94      0.63      0.75     59254\n",
      "         1.0       0.14      0.28      0.18      5189\n",
      "         2.0       0.03      0.37      0.06      1497\n",
      "\n",
      "    accuracy                           0.59     65940\n",
      "   macro avg       0.37      0.43      0.33     65940\n",
      "weighted avg       0.86      0.59      0.69     65940\n",
      "\n",
      "Confusion Matrix:\n",
      "[[35775 14670  8809]\n",
      " [ 1850  2137  1202]\n",
      " [  563   589   345]]\n",
      "              precision    recall  f1-score   support\n",
      "\n",
      "         0.0       0.94      0.60      0.73     59254\n",
      "         1.0       0.12      0.41      0.19      5189\n",
      "         2.0       0.03      0.23      0.06      1497\n",
      "\n",
      "    accuracy                           0.58     65940\n",
      "   macro avg       0.36      0.42      0.33     65940\n",
      "weighted avg       0.85      0.58      0.68     65940\n",
      "\n",
      "Confusion Matrix:\n",
      "[[33653 12064 13537]\n",
      " [ 1661  1577  1951]\n",
      " [  491   426   580]]\n",
      "              precision    recall  f1-score   support\n",
      "\n",
      "         0.0       0.94      0.57      0.71     59254\n",
      "         1.0       0.11      0.30      0.16      5189\n",
      "         2.0       0.04      0.39      0.07      1497\n",
      "\n",
      "    accuracy                           0.54     65940\n",
      "   macro avg       0.36      0.42      0.31     65940\n",
      "weighted avg       0.85      0.54      0.65     65940\n",
      "\n",
      "Confusion Matrix:\n",
      "[[33878 10049 15327]\n",
      " [ 1641  1459  2089]\n",
      " [  494   388   615]]\n",
      "              precision    recall  f1-score   support\n",
      "\n",
      "         0.0       0.94      0.57      0.71     59254\n",
      "         1.0       0.12      0.28      0.17      5189\n",
      "         2.0       0.03      0.41      0.06      1497\n",
      "\n",
      "    accuracy                           0.55     65940\n",
      "   macro avg       0.37      0.42      0.32     65940\n",
      "weighted avg       0.86      0.55      0.65     65940\n",
      "\n"
     ]
    }
   ],
   "source": [
    "for u in range(0,5):      \n",
    "    #create model\n",
    "    window_size=4\n",
    "    cnn_model = Sequential()#add model layers\n",
    "    cnn_model.add(Conv2D(32, kernel_size=3, activation=\"relu\", input_shape=(window_size,33,1)))\n",
    "\n",
    "    Xc_train = x_train1000.reshape(-1,window_size,33,1)\n",
    "    Xc_test = x_test1000.reshape(-1,window_size,33,1)\n",
    "\n",
    "    cnn_model.add(Conv2D(64,padding=\"same\", kernel_size=3, activation=\"relu\"))\n",
    "    cnn_model.add(Conv2D(64,padding=\"same\", kernel_size=4, activation=\"relu\"))\n",
    "    cnn_model.add(Conv2D(128,padding=\"same\", kernel_size=3, activation=\"relu\"))\n",
    "    cnn_model.add(Flatten())\n",
    "    cnn_model.add(Dense(40, activation=\"relu\"))\n",
    "    cnn_model.add(Dropout(0.2))\n",
    "    cnn_model.add(Dense(20, activation=\"relu\"))\n",
    "    cnn_model.add(Dense(3, activation=\"softmax\"))\n",
    "    cnn_model.compile(optimizer = 'adam',loss = 'sparse_categorical_crossentropy',metrics=[\"accuracy\"])\n",
    "\n",
    "    cnn_model.fit(Xc_train, y_train1000,batch_size=256 ,epochs=25,shuffle=False,class_weight={0 : 1, 1:2.7, 2:2}, verbose=0)   \n",
    "\n",
    "    output2_train = cnn_model.predict(Xc_train)\n",
    "    output2_train = output2_train.argmax(axis=-1)\n",
    "    output2 = cnn_model.predict(Xc_test)\n",
    "    output2 = output2.argmax(axis=-1)\n",
    "\n",
    "    print(\"Confusion Matrix:\")\n",
    "    print(confusion_matrix(y_test1000, output2 , labels=[0,1,2]))\n",
    "    predictions = gb.predict(x_test1001)\n",
    "    print(classification_report(y_test1000, output2 ))"
   ]
  },
  {
   "cell_type": "markdown",
   "metadata": {},
   "source": [
    "# RF"
   ]
  },
  {
   "cell_type": "code",
   "execution_count": 15,
   "metadata": {
    "scrolled": true
   },
   "outputs": [
    {
     "name": "stdout",
     "output_type": "stream",
     "text": [
      "Confusion Matrix:\n",
      "[[41457 10131  7666]\n",
      " [ 2284  1591  1314]\n",
      " [  708   375   414]]\n",
      "              precision    recall  f1-score   support\n",
      "\n",
      "         0.0       0.93      0.70      0.80     59254\n",
      "         1.0       0.13      0.31      0.18      5189\n",
      "         2.0       0.04      0.28      0.08      1497\n",
      "\n",
      "    accuracy                           0.66     65940\n",
      "   macro avg       0.37      0.43      0.35     65940\n",
      "weighted avg       0.85      0.66      0.73     65940\n",
      "\n",
      "Confusion Matrix:\n",
      "[[41457 10131  7666]\n",
      " [ 2284  1591  1314]\n",
      " [  708   375   414]]\n",
      "              precision    recall  f1-score   support\n",
      "\n",
      "         0.0       0.93      0.70      0.80     59254\n",
      "         1.0       0.13      0.31      0.18      5189\n",
      "         2.0       0.04      0.28      0.08      1497\n",
      "\n",
      "    accuracy                           0.66     65940\n",
      "   macro avg       0.37      0.43      0.35     65940\n",
      "weighted avg       0.85      0.66      0.73     65940\n",
      "\n",
      "Confusion Matrix:\n",
      "[[41457 10131  7666]\n",
      " [ 2284  1591  1314]\n",
      " [  708   375   414]]\n",
      "              precision    recall  f1-score   support\n",
      "\n",
      "         0.0       0.93      0.70      0.80     59254\n",
      "         1.0       0.13      0.31      0.18      5189\n",
      "         2.0       0.04      0.28      0.08      1497\n",
      "\n",
      "    accuracy                           0.66     65940\n",
      "   macro avg       0.37      0.43      0.35     65940\n",
      "weighted avg       0.85      0.66      0.73     65940\n",
      "\n",
      "Confusion Matrix:\n",
      "[[41457 10131  7666]\n",
      " [ 2284  1591  1314]\n",
      " [  708   375   414]]\n",
      "              precision    recall  f1-score   support\n",
      "\n",
      "         0.0       0.93      0.70      0.80     59254\n",
      "         1.0       0.13      0.31      0.18      5189\n",
      "         2.0       0.04      0.28      0.08      1497\n",
      "\n",
      "    accuracy                           0.66     65940\n",
      "   macro avg       0.37      0.43      0.35     65940\n",
      "weighted avg       0.85      0.66      0.73     65940\n",
      "\n",
      "Confusion Matrix:\n",
      "[[41457 10131  7666]\n",
      " [ 2284  1591  1314]\n",
      " [  708   375   414]]\n",
      "              precision    recall  f1-score   support\n",
      "\n",
      "         0.0       0.93      0.70      0.80     59254\n",
      "         1.0       0.13      0.31      0.18      5189\n",
      "         2.0       0.04      0.28      0.08      1497\n",
      "\n",
      "    accuracy                           0.66     65940\n",
      "   macro avg       0.37      0.43      0.35     65940\n",
      "weighted avg       0.85      0.66      0.73     65940\n",
      "\n"
     ]
    }
   ],
   "source": [
    "x_train1001 = x_train1000.reshape(x_train1000.shape[0],-1)\n",
    "x_test1001 = x_test1000.reshape(x_test1000.shape[0],-1)\n",
    "x_valid1001 = x_valid1000.reshape(x_valid1000.shape[0],-1)\n",
    "\n",
    "for u in range(0,5):\n",
    "    rf = RandomForestClassifier(n_estimators = 200, max_depth= 12, random_state=0, min_samples_split =2, \n",
    "                                class_weight = {0 : 1, 1:3, 2:1.5} )\n",
    "    rf = rf.fit(x_train1001, y_train1000)\n",
    "    rf.score(x_train1001, y_train1000)\n",
    "\n",
    "    predictions =rf.predict(x_test1001)\n",
    "    print(\"Confusion Matrix:\")\n",
    "    print(confusion_matrix(y_test1000, predictions, labels=[0,1,2]))\n",
    "    predictions = rf.predict(x_test1001)\n",
    "    print(classification_report(y_test1000, predictions))\n",
    "    #  1 3 1.5"
   ]
  },
  {
   "cell_type": "markdown",
   "metadata": {},
   "source": [
    "# Geadient Boosting"
   ]
  },
  {
   "cell_type": "code",
   "execution_count": 16,
   "metadata": {
    "scrolled": true
   },
   "outputs": [
    {
     "name": "stdout",
     "output_type": "stream",
     "text": [
      "Confusion Matrix:\n",
      "[[47826  5306  6122]\n",
      " [ 3246   853  1090]\n",
      " [  968   195   334]]\n",
      "              precision    recall  f1-score   support\n",
      "\n",
      "         0.0       0.92      0.81      0.86     59254\n",
      "         1.0       0.13      0.16      0.15      5189\n",
      "         2.0       0.04      0.22      0.07      1497\n",
      "\n",
      "    accuracy                           0.74     65940\n",
      "   macro avg       0.37      0.40      0.36     65940\n",
      "weighted avg       0.84      0.74      0.79     65940\n",
      "\n",
      "Confusion Matrix:\n",
      "[[47826  5306  6122]\n",
      " [ 3246   853  1090]\n",
      " [  968   195   334]]\n",
      "              precision    recall  f1-score   support\n",
      "\n",
      "         0.0       0.92      0.81      0.86     59254\n",
      "         1.0       0.13      0.16      0.15      5189\n",
      "         2.0       0.04      0.22      0.07      1497\n",
      "\n",
      "    accuracy                           0.74     65940\n",
      "   macro avg       0.37      0.40      0.36     65940\n",
      "weighted avg       0.84      0.74      0.79     65940\n",
      "\n",
      "Confusion Matrix:\n",
      "[[47826  5306  6122]\n",
      " [ 3246   853  1090]\n",
      " [  968   195   334]]\n",
      "              precision    recall  f1-score   support\n",
      "\n",
      "         0.0       0.92      0.81      0.86     59254\n",
      "         1.0       0.13      0.16      0.15      5189\n",
      "         2.0       0.04      0.22      0.07      1497\n",
      "\n",
      "    accuracy                           0.74     65940\n",
      "   macro avg       0.37      0.40      0.36     65940\n",
      "weighted avg       0.84      0.74      0.79     65940\n",
      "\n",
      "Confusion Matrix:\n",
      "[[47826  5306  6122]\n",
      " [ 3246   853  1090]\n",
      " [  968   195   334]]\n",
      "              precision    recall  f1-score   support\n",
      "\n",
      "         0.0       0.92      0.81      0.86     59254\n",
      "         1.0       0.13      0.16      0.15      5189\n",
      "         2.0       0.04      0.22      0.07      1497\n",
      "\n",
      "    accuracy                           0.74     65940\n",
      "   macro avg       0.37      0.40      0.36     65940\n",
      "weighted avg       0.84      0.74      0.79     65940\n",
      "\n",
      "Confusion Matrix:\n",
      "[[47826  5306  6122]\n",
      " [ 3246   853  1090]\n",
      " [  968   195   334]]\n",
      "              precision    recall  f1-score   support\n",
      "\n",
      "         0.0       0.92      0.81      0.86     59254\n",
      "         1.0       0.13      0.16      0.15      5189\n",
      "         2.0       0.04      0.22      0.07      1497\n",
      "\n",
      "    accuracy                           0.74     65940\n",
      "   macro avg       0.37      0.40      0.36     65940\n",
      "weighted avg       0.84      0.74      0.79     65940\n",
      "\n"
     ]
    }
   ],
   "source": [
    "for u in range(0,5):    \n",
    "    x_train1001 = x_train1000.reshape(x_train1000.shape[0],-1)\n",
    "    x_test1001 = x_test1000.reshape(x_test1000.shape[0],-1)\n",
    "    x_valid1001 = x_valid1000.reshape(x_valid1000.shape[0],-1)\n",
    "\n",
    "    gb = GradientBoostingClassifier(n_estimators=300, learning_rate=0.8,\n",
    "          max_depth=2, random_state=0, subsample = 0.4 )         # subsample = 0.8\n",
    "    gb = gb.fit(x_train1001, y_train1000)\n",
    "    gb.score(x_train1001, y_train1000)\n",
    "    predictions = gb.predict(x_test1001)\n",
    "\n",
    "    print(\"Confusion Matrix:\")\n",
    "    print(confusion_matrix(y_test1000, predictions, labels=[0,1,2]))\n",
    "    predictions = gb.predict(x_test1001)\n",
    "    print(classification_report(y_test1000, predictions))"
   ]
  },
  {
   "cell_type": "code",
   "execution_count": null,
   "metadata": {},
   "outputs": [],
   "source": []
  }
 ],
 "metadata": {
  "accelerator": "GPU",
  "colab": {
   "collapsed_sections": [],
   "name": "model tuning.ipynb",
   "provenance": []
  },
  "kernelspec": {
   "display_name": "Python 3",
   "language": "python",
   "name": "python3"
  },
  "language_info": {
   "codemirror_mode": {
    "name": "ipython",
    "version": 3
   },
   "file_extension": ".py",
   "mimetype": "text/x-python",
   "name": "python",
   "nbconvert_exporter": "python",
   "pygments_lexer": "ipython3",
   "version": "3.8.3"
  }
 },
 "nbformat": 4,
 "nbformat_minor": 1
}
