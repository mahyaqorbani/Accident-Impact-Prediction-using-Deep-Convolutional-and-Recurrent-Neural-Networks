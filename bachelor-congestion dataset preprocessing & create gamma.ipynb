{
 "cells": [
  {
   "cell_type": "code",
   "execution_count": 1,
   "metadata": {},
   "outputs": [],
   "source": [
    "import pandas as pd\n",
    "import matplotlib.pyplot as plt\n",
    "#import pandas_profiling\n",
    "import plotly.express as px\n",
    "import plotly.figure_factory as ff\n",
    "import numpy as np\n",
    "import seaborn as sns\n",
    "from sklearn.preprocessing import StandardScaler\n",
    "import tensorflow as tf\n",
    "import pygeohash as gh"
   ]
  },
  {
   "cell_type": "code",
   "execution_count": 134,
   "metadata": {},
   "outputs": [],
   "source": [
    "df = pd.read_csv(r'E:\\bachelor project\\congestion2018-2019.csv')"
   ]
  },
  {
   "cell_type": "code",
   "execution_count": 135,
   "metadata": {},
   "outputs": [
    {
     "data": {
      "text/html": [
       "<div>\n",
       "<style scoped>\n",
       "    .dataframe tbody tr th:only-of-type {\n",
       "        vertical-align: middle;\n",
       "    }\n",
       "\n",
       "    .dataframe tbody tr th {\n",
       "        vertical-align: top;\n",
       "    }\n",
       "\n",
       "    .dataframe thead th {\n",
       "        text-align: right;\n",
       "    }\n",
       "</style>\n",
       "<table border=\"1\" class=\"dataframe\">\n",
       "  <thead>\n",
       "    <tr style=\"text-align: right;\">\n",
       "      <th></th>\n",
       "      <th>Unnamed: 0</th>\n",
       "      <th>a</th>\n",
       "      <th>b</th>\n",
       "      <th>c</th>\n",
       "      <th>d</th>\n",
       "      <th>e</th>\n",
       "      <th>f</th>\n",
       "      <th>g</th>\n",
       "      <th>h</th>\n",
       "      <th>i</th>\n",
       "      <th>...</th>\n",
       "      <th>s</th>\n",
       "      <th>cng_Time_Year</th>\n",
       "      <th>cng_Time_Month</th>\n",
       "      <th>cng_Time_Day</th>\n",
       "      <th>cng_Time_Hour</th>\n",
       "      <th>cng_2H_pattern</th>\n",
       "      <th>cng_Time_index</th>\n",
       "      <th>duration</th>\n",
       "      <th>Severity</th>\n",
       "      <th>Delay</th>\n",
       "    </tr>\n",
       "  </thead>\n",
       "  <tbody>\n",
       "    <tr>\n",
       "      <th>0</th>\n",
       "      <td>0</td>\n",
       "      <td>T-23258213</td>\n",
       "      <td>Congestion</td>\n",
       "      <td>Moderate</td>\n",
       "      <td>72</td>\n",
       "      <td>Delays increasing and delays of two minutes on...</td>\n",
       "      <td>1/1/2018 0:26</td>\n",
       "      <td>1/1/2018 1:13</td>\n",
       "      <td>US/Pacific</td>\n",
       "      <td>34.076149</td>\n",
       "      <td>...</td>\n",
       "      <td>90026</td>\n",
       "      <td>2018</td>\n",
       "      <td>1</td>\n",
       "      <td>1</td>\n",
       "      <td>0</td>\n",
       "      <td>1</td>\n",
       "      <td>2018010101</td>\n",
       "      <td>47.300000</td>\n",
       "      <td>2</td>\n",
       "      <td>2</td>\n",
       "    </tr>\n",
       "    <tr>\n",
       "      <th>1</th>\n",
       "      <td>1</td>\n",
       "      <td>T-23258216</td>\n",
       "      <td>Congestion</td>\n",
       "      <td>Slow</td>\n",
       "      <td>70</td>\n",
       "      <td>Delays of seven minutes on Vernon Ave Eastboun...</td>\n",
       "      <td>1/1/2018 0:46</td>\n",
       "      <td>1/1/2018 1:29</td>\n",
       "      <td>US/Pacific</td>\n",
       "      <td>34.003773</td>\n",
       "      <td>...</td>\n",
       "      <td>90037</td>\n",
       "      <td>2018</td>\n",
       "      <td>1</td>\n",
       "      <td>1</td>\n",
       "      <td>0</td>\n",
       "      <td>1</td>\n",
       "      <td>2018010101</td>\n",
       "      <td>43.350000</td>\n",
       "      <td>3</td>\n",
       "      <td>7</td>\n",
       "    </tr>\n",
       "    <tr>\n",
       "      <th>2</th>\n",
       "      <td>2</td>\n",
       "      <td>T-23258220</td>\n",
       "      <td>Congestion</td>\n",
       "      <td>Moderate</td>\n",
       "      <td>73</td>\n",
       "      <td>Delays of two minutes on Santa Monica Fwy East...</td>\n",
       "      <td>1/1/2018 0:55</td>\n",
       "      <td>1/1/2018 1:36</td>\n",
       "      <td>US/Pacific</td>\n",
       "      <td>34.025322</td>\n",
       "      <td>...</td>\n",
       "      <td>90021</td>\n",
       "      <td>2018</td>\n",
       "      <td>1</td>\n",
       "      <td>1</td>\n",
       "      <td>0</td>\n",
       "      <td>1</td>\n",
       "      <td>2018010101</td>\n",
       "      <td>41.366667</td>\n",
       "      <td>2</td>\n",
       "      <td>2</td>\n",
       "    </tr>\n",
       "  </tbody>\n",
       "</table>\n",
       "<p>3 rows × 29 columns</p>\n",
       "</div>"
      ],
      "text/plain": [
       "   Unnamed: 0           a           b         c   d  \\\n",
       "0           0  T-23258213  Congestion  Moderate  72   \n",
       "1           1  T-23258216  Congestion      Slow  70   \n",
       "2           2  T-23258220  Congestion  Moderate  73   \n",
       "\n",
       "                                                   e              f  \\\n",
       "0  Delays increasing and delays of two minutes on...  1/1/2018 0:26   \n",
       "1  Delays of seven minutes on Vernon Ave Eastboun...  1/1/2018 0:46   \n",
       "2  Delays of two minutes on Santa Monica Fwy East...  1/1/2018 0:55   \n",
       "\n",
       "               g           h          i  ...      s  cng_Time_Year  \\\n",
       "0  1/1/2018 1:13  US/Pacific  34.076149  ...  90026           2018   \n",
       "1  1/1/2018 1:29  US/Pacific  34.003773  ...  90037           2018   \n",
       "2  1/1/2018 1:36  US/Pacific  34.025322  ...  90021           2018   \n",
       "\n",
       "  cng_Time_Month  cng_Time_Day cng_Time_Hour cng_2H_pattern cng_Time_index  \\\n",
       "0              1             1             0              1     2018010101   \n",
       "1              1             1             0              1     2018010101   \n",
       "2              1             1             0              1     2018010101   \n",
       "\n",
       "    duration Severity  Delay  \n",
       "0  47.300000        2      2  \n",
       "1  43.350000        3      7  \n",
       "2  41.366667        2      2  \n",
       "\n",
       "[3 rows x 29 columns]"
      ]
     },
     "execution_count": 135,
     "metadata": {},
     "output_type": "execute_result"
    }
   ],
   "source": [
    "df.head(3)"
   ]
  },
  {
   "cell_type": "code",
   "execution_count": 136,
   "metadata": {},
   "outputs": [],
   "source": [
    "df['severity'] = df['Severity']\n",
    "df.drop(['Severity'],axis=1,inplace=True)"
   ]
  },
  {
   "cell_type": "code",
   "execution_count": 137,
   "metadata": {},
   "outputs": [],
   "source": [
    "#columns i & j represent latitude & longitude respectively\n",
    "df['geohash_code5'] = df[['i','j']].apply(lambda x: gh.encode(x['i'],x['j'],precision=5),axis=1)"
   ]
  },
  {
   "cell_type": "code",
   "execution_count": 138,
   "metadata": {},
   "outputs": [
    {
     "name": "stdout",
     "output_type": "stream",
     "text": [
      "160\n",
      "0\n",
      "3604\n",
      "3067\n"
     ]
    }
   ],
   "source": [
    "#outlier treatment\n",
    "print(len(df[\"duration\"].values[(df[\"duration\"].values>df[\"duration\"].mean()+4*df[\"duration\"].std())]))\n",
    "print(len(df[\"severity\"].values[(df[\"severity\"].values>df[\"severity\"].mean()+4*df[\"severity\"].std())]))\n",
    "print(len(df[\"Delay\"].values[(df[\"Delay\"].values>df[\"Delay\"].mean()+4*df[\"Delay\"].std())]))\n",
    "print(len(df[\"k\"].values[(df[\"k\"].values>df[\"k\"].mean()+4*df[\"k\"].std())]))\n",
    "rr=df[(df[\"duration\"].values<df[\"duration\"].mean()+4*df[\"duration\"].std())]\n",
    "rr=rr[(rr[\"Delay\"].values<rr[\"Delay\"].mean()+4*rr[\"Delay\"].std())]\n",
    "rr=rr[(rr[\"k\"].values<rr[\"k\"].mean()+4*rr[\"k\"].std())]\n",
    "rr=rr.sort_values(by=['f'])"
   ]
  },
  {
   "cell_type": "code",
   "execution_count": 140,
   "metadata": {},
   "outputs": [
    {
     "data": {
      "text/plain": [
       "(159654, 31)"
      ]
     },
     "execution_count": 140,
     "metadata": {},
     "output_type": "execute_result"
    }
   ],
   "source": [
    "#consider accident's datasets time interval\n",
    "rr=rr[rr[\"cng_Time_index\"]<=2019080100] \n",
    "rr=rr[rr[\"cng_Time_index\"]>=2018060100]\n",
    "rr=rr.reset_index()\n",
    "rr.shape"
   ]
  },
  {
   "cell_type": "code",
   "execution_count": 141,
   "metadata": {},
   "outputs": [
    {
     "data": {
      "text/plain": [
       "(48159, 4)"
      ]
     },
     "execution_count": 141,
     "metadata": {},
     "output_type": "execute_result"
    }
   ],
   "source": [
    "#extracting input and output features for gamma fitting\n",
    "#please note that \"k\" is Distance\n",
    "dff=rr[['cng_Time_index',\"geohash_code5\",\"severity\",\"k\",\"duration\",\"Delay\"]]\n",
    "dff = dff.loc[:,~dff.columns.duplicated()]\n",
    "#groupby events based on time intervals and geohashs\n",
    "df=dff.groupby(['cng_Time_index',\"geohash_code5\"]).agg({\"severity\":\"sum\",\"k\":\"sum\",\"duration\":\"sum\",\"Delay\":\"sum\"})\n",
    "#outliear elimination\n",
    "rr=df[(df[\"duration\"].values<df[\"duration\"].mean()+4*df[\"duration\"].std())]\n",
    "rr=rr[(rr[\"Delay\"].values<rr[\"Delay\"].mean()+4*rr[\"Delay\"].std())]\n",
    "rr=rr[(rr[\"k\"].values<rr[\"k\"].mean()+4*rr[\"k\"].std())]\n",
    "#normalizing\n",
    "scaler = StandardScaler()\n",
    "scaler.fit(rr)\n",
    "scaled = scaler.transform(rr)\n",
    "scaled.shape"
   ]
  },
  {
   "cell_type": "code",
   "execution_count": 142,
   "metadata": {},
   "outputs": [
    {
     "data": {
      "text/plain": [
       "Text(0, 0.5, 'Frequency')"
      ]
     },
     "execution_count": 142,
     "metadata": {},
     "output_type": "execute_result"
    },
    {
     "data": {
      "image/png": "[encoded data removed]",
      "text/plain": [
       "<Figure size 288x288 with 1 Axes>"
      ]
     },
     "metadata": {},
     "output_type": "display_data"
    }
   ],
   "source": [
    "import matplotlib.pylab as plt\n",
    "\n",
    "plt.figure()\n",
    "plt.hist(scaled[:,0])\n",
    "plt.xlabel(\"Severity\")\n",
    "plt.ylabel(\"Frequency\")\n",
    "# plt.savefig(\"graph.pdf\")"
   ]
  },
  {
   "cell_type": "code",
   "execution_count": 143,
   "metadata": {},
   "outputs": [
    {
     "data": {
      "text/plain": [
       "<function matplotlib.pyplot.show(close=None, block=None)>"
      ]
     },
     "execution_count": 143,
     "metadata": {},
     "output_type": "execute_result"
    },
    {
     "data": {
      "image/png": "[encoded data removed]",
      "text/plain": [
       "<Figure size 288x288 with 2 Axes>"
      ]
     },
     "metadata": {},
     "output_type": "display_data"
    }
   ],
   "source": [
    "cor=pd.DataFrame(scaled,columns=[\"Severity\",\"distance\",\"duration\",\"delay(gamma)\"]).corr(method=\"kendall\")\n",
    "sns.set(rc={'figure.figsize':(4,4)})\n",
    "sns.heatmap(cor,linewidths=.5, cbar_kws={\"shrink\": .5},annot=True,)\n",
    "plt.show"
   ]
  },
  {
   "cell_type": "code",
   "execution_count": 144,
   "metadata": {},
   "outputs": [
    {
     "data": {
      "text/plain": [
       "(48159, 4)"
      ]
     },
     "execution_count": 144,
     "metadata": {},
     "output_type": "execute_result"
    }
   ],
   "source": [
    "scaled.shape"
   ]
  },
  {
   "cell_type": "code",
   "execution_count": 145,
   "metadata": {},
   "outputs": [
    {
     "name": "stdout",
     "output_type": "stream",
     "text": [
      "(41000, 3) (7159, 3)\n"
     ]
    }
   ],
   "source": [
    "from tensorflow.keras.utils import to_categorical\n",
    "x_train=scaled[:41000,:3]\n",
    "y_train=scaled[:41000,3:]\n",
    "x_test=scaled[41000:,:3]\n",
    "y_test=scaled[41000:,3:]\n",
    "print(x_train.shape,x_test.shape)"
   ]
  },
  {
   "cell_type": "markdown",
   "metadata": {},
   "source": [
    "# regression fitting"
   ]
  },
  {
   "cell_type": "code",
   "execution_count": 18,
   "metadata": {},
   "outputs": [
    {
     "name": "stdout",
     "output_type": "stream",
     "text": [
      "mean_squared_error 0.14529736828223622\n",
      "mean_absolute_error 0.24245978242253757\n"
     ]
    }
   ],
   "source": [
    "from sklearn.linear_model import LinearRegression\n",
    "from sklearn.metrics import mean_squared_error, r2_score,mean_absolute_error\n",
    "reg = LinearRegression().fit(x_train,y_train)\n",
    "reg.score(x_test,y_test)\n",
    "y=reg.predict(x_test)\n",
    "print(\"mean_squared_error\",mean_squared_error(y,y_test))\n",
    "print(\"mean_absolute_error\",mean_absolute_error(y,y_test))"
   ]
  },
  {
   "cell_type": "markdown",
   "metadata": {},
   "source": [
    "# Neural Network fitting"
   ]
  },
  {
   "cell_type": "code",
   "execution_count": 19,
   "metadata": {
    "scrolled": true
   },
   "outputs": [
    {
     "name": "stdout",
     "output_type": "stream",
     "text": [
      "Epoch 1/200\n",
      "321/321 - 3s - loss: 0.6392 - mse: 0.6392 - mae: 0.5760 - mape: 118.2949 - val_loss: 0.2056 - val_mse: 0.2056 - val_mae: 0.3642 - val_mape: 116.8117\n",
      "Epoch 2/200\n",
      "321/321 - 0s - loss: 0.2285 - mse: 0.2285 - mae: 0.3461 - mape: 130.2204 - val_loss: 0.1629 - val_mse: 0.1629 - val_mae: 0.2828 - val_mape: 126.2381\n",
      "Epoch 3/200\n",
      "321/321 - 0s - loss: 0.2165 - mse: 0.2165 - mae: 0.3184 - mape: 135.6971 - val_loss: 0.1547 - val_mse: 0.1547 - val_mae: 0.2703 - val_mape: 126.7719\n",
      "Epoch 4/200\n",
      "321/321 - 0s - loss: 0.2109 - mse: 0.2109 - mae: 0.3093 - mape: 134.5190 - val_loss: 0.1491 - val_mse: 0.1491 - val_mae: 0.2610 - val_mape: 124.5779\n",
      "Epoch 5/200\n",
      "321/321 - 0s - loss: 0.2059 - mse: 0.2059 - mae: 0.3011 - mape: 130.8289 - val_loss: 0.1447 - val_mse: 0.1447 - val_mae: 0.2538 - val_mape: 120.4638\n",
      "Epoch 6/200\n",
      "321/321 - 0s - loss: 0.2015 - mse: 0.2015 - mae: 0.2949 - mape: 126.7579 - val_loss: 0.1423 - val_mse: 0.1423 - val_mae: 0.2495 - val_mape: 116.8595\n",
      "Epoch 7/200\n",
      "321/321 - 0s - loss: 0.1987 - mse: 0.1987 - mae: 0.2912 - mape: 123.5289 - val_loss: 0.1413 - val_mse: 0.1413 - val_mae: 0.2468 - val_mape: 114.3367\n",
      "Epoch 8/200\n",
      "321/321 - 0s - loss: 0.1970 - mse: 0.1970 - mae: 0.2890 - mape: 121.5702 - val_loss: 0.1409 - val_mse: 0.1409 - val_mae: 0.2451 - val_mape: 112.8034\n",
      "Epoch 9/200\n",
      "321/321 - 0s - loss: 0.1960 - mse: 0.1960 - mae: 0.2874 - mape: 120.4703 - val_loss: 0.1406 - val_mse: 0.1406 - val_mae: 0.2435 - val_mape: 111.8753\n",
      "Epoch 10/200\n",
      "321/321 - 0s - loss: 0.1949 - mse: 0.1949 - mae: 0.2855 - mape: 119.1752 - val_loss: 0.1402 - val_mse: 0.1402 - val_mae: 0.2416 - val_mape: 110.4120\n",
      "Epoch 11/200\n",
      "321/321 - 0s - loss: 0.1922 - mse: 0.1922 - mae: 0.2812 - mape: 116.5536 - val_loss: 0.1382 - val_mse: 0.1382 - val_mae: 0.2368 - val_mape: 108.0672\n",
      "Epoch 12/200\n",
      "321/321 - 0s - loss: 0.1895 - mse: 0.1895 - mae: 0.2762 - mape: 114.3862 - val_loss: 0.1367 - val_mse: 0.1367 - val_mae: 0.2336 - val_mape: 106.5552\n",
      "Epoch 13/200\n",
      "321/321 - 0s - loss: 0.1878 - mse: 0.1878 - mae: 0.2736 - mape: 113.0659 - val_loss: 0.1356 - val_mse: 0.1356 - val_mae: 0.2318 - val_mape: 105.7702\n",
      "Epoch 14/200\n",
      "321/321 - 0s - loss: 0.1866 - mse: 0.1866 - mae: 0.2719 - mape: 112.3240 - val_loss: 0.1348 - val_mse: 0.1348 - val_mae: 0.2304 - val_mape: 105.2658\n",
      "Epoch 15/200\n",
      "321/321 - 0s - loss: 0.1859 - mse: 0.1859 - mae: 0.2709 - mape: 111.8867 - val_loss: 0.1340 - val_mse: 0.1340 - val_mae: 0.2294 - val_mape: 104.9636\n",
      "Epoch 16/200\n",
      "321/321 - 0s - loss: 0.1854 - mse: 0.1854 - mae: 0.2703 - mape: 111.6432 - val_loss: 0.1335 - val_mse: 0.1335 - val_mae: 0.2289 - val_mape: 104.7836\n",
      "Epoch 17/200\n",
      "321/321 - 0s - loss: 0.1850 - mse: 0.1850 - mae: 0.2699 - mape: 111.5177 - val_loss: 0.1330 - val_mse: 0.1330 - val_mae: 0.2283 - val_mape: 104.5958\n",
      "Epoch 18/200\n",
      "321/321 - 0s - loss: 0.1848 - mse: 0.1848 - mae: 0.2696 - mape: 111.3904 - val_loss: 0.1326 - val_mse: 0.1326 - val_mae: 0.2279 - val_mape: 104.4594\n",
      "Epoch 19/200\n",
      "321/321 - 0s - loss: 0.1846 - mse: 0.1846 - mae: 0.2694 - mape: 111.3139 - val_loss: 0.1323 - val_mse: 0.1323 - val_mae: 0.2275 - val_mape: 104.3271\n",
      "Epoch 20/200\n",
      "321/321 - 0s - loss: 0.1844 - mse: 0.1844 - mae: 0.2692 - mape: 111.2459 - val_loss: 0.1320 - val_mse: 0.1320 - val_mae: 0.2272 - val_mape: 104.2213\n",
      "Epoch 21/200\n",
      "321/321 - 0s - loss: 0.1842 - mse: 0.1842 - mae: 0.2691 - mape: 111.2020 - val_loss: 0.1317 - val_mse: 0.1317 - val_mae: 0.2270 - val_mape: 104.1405\n",
      "Epoch 22/200\n",
      "321/321 - 0s - loss: 0.1841 - mse: 0.1841 - mae: 0.2690 - mape: 111.1642 - val_loss: 0.1315 - val_mse: 0.1315 - val_mae: 0.2267 - val_mape: 104.0725\n",
      "Epoch 23/200\n",
      "321/321 - 0s - loss: 0.1840 - mse: 0.1840 - mae: 0.2689 - mape: 111.1809 - val_loss: 0.1312 - val_mse: 0.1312 - val_mae: 0.2265 - val_mape: 103.9740\n",
      "Epoch 24/200\n",
      "321/321 - 0s - loss: 0.1839 - mse: 0.1839 - mae: 0.2688 - mape: 111.1343 - val_loss: 0.1309 - val_mse: 0.1309 - val_mae: 0.2263 - val_mape: 103.8722\n",
      "Epoch 25/200\n",
      "321/321 - 0s - loss: 0.1838 - mse: 0.1838 - mae: 0.2688 - mape: 111.0988 - val_loss: 0.1307 - val_mse: 0.1307 - val_mae: 0.2261 - val_mape: 103.7819\n",
      "Epoch 26/200\n",
      "321/321 - 0s - loss: 0.1838 - mse: 0.1838 - mae: 0.2688 - mape: 111.0758 - val_loss: 0.1305 - val_mse: 0.1305 - val_mae: 0.2259 - val_mape: 103.6994\n",
      "Epoch 27/200\n",
      "321/321 - 0s - loss: 0.1837 - mse: 0.1837 - mae: 0.2687 - mape: 111.0605 - val_loss: 0.1303 - val_mse: 0.1303 - val_mae: 0.2257 - val_mape: 103.6859\n",
      "Epoch 28/200\n",
      "321/321 - 0s - loss: 0.1836 - mse: 0.1836 - mae: 0.2686 - mape: 111.0460 - val_loss: 0.1301 - val_mse: 0.1301 - val_mae: 0.2255 - val_mape: 103.6232\n",
      "Epoch 29/200\n",
      "321/321 - 0s - loss: 0.1835 - mse: 0.1835 - mae: 0.2686 - mape: 111.0349 - val_loss: 0.1300 - val_mse: 0.1300 - val_mae: 0.2254 - val_mape: 103.5616\n",
      "Epoch 30/200\n",
      "321/321 - 0s - loss: 0.1834 - mse: 0.1834 - mae: 0.2686 - mape: 110.9744 - val_loss: 0.1299 - val_mse: 0.1299 - val_mae: 0.2253 - val_mape: 103.4495\n",
      "Epoch 31/200\n",
      "321/321 - 0s - loss: 0.1834 - mse: 0.1834 - mae: 0.2685 - mape: 110.9485 - val_loss: 0.1298 - val_mse: 0.1298 - val_mae: 0.2252 - val_mape: 103.4106\n",
      "Epoch 32/200\n",
      "321/321 - 0s - loss: 0.1833 - mse: 0.1833 - mae: 0.2685 - mape: 110.9429 - val_loss: 0.1297 - val_mse: 0.1297 - val_mae: 0.2251 - val_mape: 103.4198\n",
      "Epoch 33/200\n",
      "321/321 - 0s - loss: 0.1833 - mse: 0.1833 - mae: 0.2685 - mape: 110.9353 - val_loss: 0.1297 - val_mse: 0.1297 - val_mae: 0.2251 - val_mape: 103.4330\n",
      "Epoch 34/200\n",
      "321/321 - 0s - loss: 0.1832 - mse: 0.1832 - mae: 0.2685 - mape: 110.9448 - val_loss: 0.1297 - val_mse: 0.1297 - val_mae: 0.2250 - val_mape: 103.4039\n",
      "Epoch 35/200\n",
      "321/321 - 0s - loss: 0.1832 - mse: 0.1832 - mae: 0.2684 - mape: 110.9661 - val_loss: 0.1296 - val_mse: 0.1296 - val_mae: 0.2250 - val_mape: 103.5031\n",
      "Epoch 36/200\n",
      "321/321 - 0s - loss: 0.1832 - mse: 0.1832 - mae: 0.2683 - mape: 111.0210 - val_loss: 0.1295 - val_mse: 0.1295 - val_mae: 0.2249 - val_mape: 103.3766\n",
      "Epoch 37/200\n",
      "321/321 - 0s - loss: 0.1831 - mse: 0.1831 - mae: 0.2683 - mape: 110.9782 - val_loss: 0.1295 - val_mse: 0.1295 - val_mae: 0.2248 - val_mape: 103.3090\n",
      "Epoch 38/200\n",
      "321/321 - 0s - loss: 0.1831 - mse: 0.1831 - mae: 0.2683 - mape: 110.9745 - val_loss: 0.1293 - val_mse: 0.1293 - val_mae: 0.2248 - val_mape: 103.2892\n",
      "Epoch 39/200\n",
      "321/321 - 0s - loss: 0.1831 - mse: 0.1831 - mae: 0.2683 - mape: 110.9611 - val_loss: 0.1293 - val_mse: 0.1293 - val_mae: 0.2247 - val_mape: 103.2289\n",
      "Epoch 40/200\n",
      "321/321 - 0s - loss: 0.1830 - mse: 0.1830 - mae: 0.2683 - mape: 110.9672 - val_loss: 0.1292 - val_mse: 0.1292 - val_mae: 0.2246 - val_mape: 103.2223\n",
      "Epoch 41/200\n",
      "321/321 - 0s - loss: 0.1830 - mse: 0.1830 - mae: 0.2683 - mape: 110.9640 - val_loss: 0.1292 - val_mse: 0.1292 - val_mae: 0.2247 - val_mape: 103.2261\n",
      "Epoch 42/200\n",
      "321/321 - 0s - loss: 0.1830 - mse: 0.1830 - mae: 0.2683 - mape: 110.9551 - val_loss: 0.1292 - val_mse: 0.1292 - val_mae: 0.2247 - val_mape: 103.1696\n",
      "Epoch 43/200\n",
      "321/321 - 0s - loss: 0.1830 - mse: 0.1830 - mae: 0.2682 - mape: 110.9484 - val_loss: 0.1291 - val_mse: 0.1291 - val_mae: 0.2246 - val_mape: 103.1807\n",
      "Epoch 44/200\n",
      "321/321 - 0s - loss: 0.1829 - mse: 0.1829 - mae: 0.2682 - mape: 110.9456 - val_loss: 0.1291 - val_mse: 0.1291 - val_mae: 0.2246 - val_mape: 103.1456\n",
      "Epoch 45/200\n",
      "321/321 - 0s - loss: 0.1829 - mse: 0.1829 - mae: 0.2682 - mape: 110.9363 - val_loss: 0.1291 - val_mse: 0.1291 - val_mae: 0.2245 - val_mape: 103.1033\n",
      "Epoch 46/200\n",
      "321/321 - 0s - loss: 0.1829 - mse: 0.1829 - mae: 0.2682 - mape: 110.9304 - val_loss: 0.1291 - val_mse: 0.1291 - val_mae: 0.2245 - val_mape: 103.0793\n",
      "Epoch 47/200\n",
      "321/321 - 0s - loss: 0.1829 - mse: 0.1829 - mae: 0.2682 - mape: 110.9364 - val_loss: 0.1291 - val_mse: 0.1291 - val_mae: 0.2246 - val_mape: 103.0969\n",
      "Epoch 48/200\n",
      "321/321 - 0s - loss: 0.1828 - mse: 0.1828 - mae: 0.2682 - mape: 110.9401 - val_loss: 0.1291 - val_mse: 0.1291 - val_mae: 0.2246 - val_mape: 103.1024\n",
      "Epoch 49/200\n",
      "321/321 - 0s - loss: 0.1828 - mse: 0.1828 - mae: 0.2682 - mape: 110.9458 - val_loss: 0.1291 - val_mse: 0.1291 - val_mae: 0.2246 - val_mape: 103.1166\n",
      "224/224 [==============================] - 0s 631us/step - loss: 0.1291 - mse: 0.1291 - mae: 0.2246 - mape: 103.1167\n",
      "test accuracy:  0.1291075348854065\n"
     ]
    }
   ],
   "source": [
    "from tensorflow import keras\n",
    "from tensorflow.keras.layers import Input \n",
    "from tensorflow.keras.models import Model\n",
    "from tensorflow.keras import layers\n",
    "inputs=Input(shape=(3))\n",
    "d1=layers.Dense(3,activation='relu')(inputs)\n",
    "d2=layers.Dense(3,activation='relu')(d1)\n",
    "d3=layers.Dense(3,activation='relu')(d2)\n",
    "d3=layers.Dense(3,activation='relu')(d3)\n",
    "outputs=layers.Dense(1)(d3)\n",
    "\n",
    "model=Model(inputs=[inputs],outputs=outputs)\n",
    "opt = tf.keras.optimizers.Adam(learning_rate=0.0008)\n",
    "model.compile(optimizer=opt, loss='mse',metrics=[\"mse\",\"mae\",\"mape\"])\n",
    "callback=tf.keras.callbacks.EarlyStopping(monitor=\"val_loss\",patience=3)\n",
    "\n",
    "history=model.fit(x_train, y_train,callbacks=[callback],shuffle=False,epochs=200,batch_size=128,validation_data=(x_test,y_test), verbose=2)\n",
    "print(\"test accuracy: \",model.evaluate(x_test,y_test)[1])"
   ]
  },
  {
   "cell_type": "code",
   "execution_count": 23,
   "metadata": {},
   "outputs": [
    {
     "data": {
      "image/png": "[encoded data removed]",
      "text/plain": [
       "<Figure size 480x360 with 1 Axes>"
      ]
     },
     "metadata": {},
     "output_type": "display_data"
    }
   ],
   "source": [
    "from matplotlib.pyplot import figure\n",
    "\n",
    "figure(figsize=(8, 6), dpi=60)\n",
    "plt.plot(history.history['loss'])\n",
    "plt.plot(history.history['val_loss'])\n",
    "plt.title('model accuracy')\n",
    "plt.ylabel('accuracy')\n",
    "plt.xlabel('epoch')\n",
    "plt.legend(['train', 'val'], loc='upper left')\n",
    "plt.show()"
   ]
  },
  {
   "cell_type": "code",
   "execution_count": 21,
   "metadata": {},
   "outputs": [
    {
     "data": {
      "image/png": "[encoded data removed]",
      "text/plain": [
       "<Figure size 288x288 with 1 Axes>"
      ]
     },
     "metadata": {},
     "output_type": "display_data"
    }
   ],
   "source": [
    "plt.plot(y_train[2000:3000,:],'bo')\n",
    "plt.plot(model.predict(x_train[2000:3000,:], verbose=0),'ro')\n",
    "plt.show()"
   ]
  },
  {
   "cell_type": "code",
   "execution_count": 24,
   "metadata": {},
   "outputs": [
    {
     "data": {
      "image/png": "[encoded data removed]",
      "text/plain": [
       "<Figure size 288x288 with 1 Axes>"
      ]
     },
     "metadata": {},
     "output_type": "display_data"
    }
   ],
   "source": [
    "plt.plot(history.history['mse'])\n",
    "plt.plot(history.history['mae'])\n",
    "plt.show()"
   ]
  },
  {
   "cell_type": "code",
   "execution_count": 25,
   "metadata": {},
   "outputs": [
    {
     "data": {
      "text/plain": [
       "(array([4.864e+03, 1.309e+03, 5.110e+02, 2.250e+02, 1.310e+02, 7.100e+01,\n",
       "        2.200e+01, 1.600e+01, 8.000e+00, 2.000e+00]),\n",
       " array([-0.8203277 , -0.06916718,  0.68199337,  1.4331539 ,  2.1843145 ,\n",
       "         2.9354749 ,  3.6866355 ,  4.437796  ,  5.1889563 ,  5.940117  ,\n",
       "         6.6912775 ], dtype=float32),\n",
       " <BarContainer object of 10 artists>)"
      ]
     },
     "execution_count": 25,
     "metadata": {},
     "output_type": "execute_result"
    },
    {
     "data": {
      "image/png": "[encoded data removed]",
      "text/plain": [
       "<Figure size 288x288 with 1 Axes>"
      ]
     },
     "metadata": {},
     "output_type": "display_data"
    }
   ],
   "source": [
    "#predicted gamma of congestions (used in next blocks)\n",
    "gamma_n=model.predict(x_train)\n",
    "gamma_r=model.predict(x_train)\n",
    "plt.hist(model.predict(x_test))"
   ]
  },
  {
   "cell_type": "markdown",
   "metadata": {},
   "source": [
    "# import accident dataset"
   ]
  },
  {
   "cell_type": "code",
   "execution_count": 111,
   "metadata": {},
   "outputs": [],
   "source": [
    "dfs1 = pd.read_excel(r'E:\\bachelor project/2.xlsx')"
   ]
  },
  {
   "cell_type": "code",
   "execution_count": 112,
   "metadata": {},
   "outputs": [],
   "source": [
    "dfs1 = dfs1[dfs1['Start_Time'].notna()]\n",
    "dfs1[\"Acc_Time_Year\"]=dfs1[\"Start_Time\"].dt.year.astype(int)\n",
    "dfs1[\"Acc_Time_Month\"]=dfs1[\"Start_Time\"].dt.month.astype(int)\n",
    "dfs1[\"Acc_Time_Day\"]=dfs1[\"Start_Time\"].dt.day.astype(int)\n",
    "dfs1[\"Acc_Time_Hour\"]=dfs1[\"Start_Time\"].dt.hour.astype(int)\n",
    "dfs1[\"Acc_Time_Minute\"]=dfs1[\"Start_Time\"].dt.minute.astype(int)\n",
    "\n",
    "dfs1[\"Acc_Time_Month\"] = dfs1[\"Acc_Time_Month\"].replace([1], '01')\n",
    "dfs1[\"Acc_Time_Month\"] = dfs1[\"Acc_Time_Month\"].replace([2], '02')\n",
    "dfs1[\"Acc_Time_Month\"] = dfs1[\"Acc_Time_Month\"].replace([3], '03')\n",
    "dfs1[\"Acc_Time_Month\"] = dfs1[\"Acc_Time_Month\"].replace([4], '04')\n",
    "dfs1[\"Acc_Time_Month\"] = dfs1[\"Acc_Time_Month\"].replace([5], '05')\n",
    "dfs1[\"Acc_Time_Month\"] = dfs1[\"Acc_Time_Month\"].replace([6], '06')\n",
    "dfs1[\"Acc_Time_Month\"] = dfs1[\"Acc_Time_Month\"].replace([7], '07')\n",
    "dfs1[\"Acc_Time_Month\"] = dfs1[\"Acc_Time_Month\"].replace([8], '08')\n",
    "dfs1[\"Acc_Time_Month\"] = dfs1[\"Acc_Time_Month\"].replace([9], '09')\n",
    "\n",
    "#for days\n",
    "dfs1[\"Acc_Time_Day\"] = dfs1[\"Acc_Time_Day\"].replace([1], '01')\n",
    "dfs1[\"Acc_Time_Day\"] = dfs1[\"Acc_Time_Day\"].replace([2], '02')\n",
    "dfs1[\"Acc_Time_Day\"] = dfs1[\"Acc_Time_Day\"].replace([3], '03')\n",
    "dfs1[\"Acc_Time_Day\"] = dfs1[\"Acc_Time_Day\"].replace([4], '04')\n",
    "dfs1[\"Acc_Time_Day\"] = dfs1[\"Acc_Time_Day\"].replace([5], '05')\n",
    "dfs1[\"Acc_Time_Day\"] = dfs1[\"Acc_Time_Day\"].replace([6], '06')\n",
    "dfs1[\"Acc_Time_Day\"] = dfs1[\"Acc_Time_Day\"].replace([7], '07')\n",
    "dfs1[\"Acc_Time_Day\"] = dfs1[\"Acc_Time_Day\"].replace([8], '08')\n",
    "dfs1[\"Acc_Time_Day\"] = dfs1[\"Acc_Time_Day\"].replace([9], '09')\n",
    "\n",
    "#creating new time identifier\n",
    "conditions = [\n",
    "    (dfs1['Acc_Time_Hour'] > 0) & (dfs1['Acc_Time_Hour'] <= 2),\n",
    "    (dfs1['Acc_Time_Hour'] > 2) & (dfs1['Acc_Time_Hour'] <= 4),\n",
    "    (dfs1['Acc_Time_Hour'] > 4) & (dfs1['Acc_Time_Hour'] <= 6),\n",
    "    (dfs1['Acc_Time_Hour'] > 6) & (dfs1['Acc_Time_Hour'] <= 8),\n",
    "    (dfs1['Acc_Time_Hour'] > 8) & (dfs1['Acc_Time_Hour'] <= 10),\n",
    "    (dfs1['Acc_Time_Hour'] > 10) & (dfs1['Acc_Time_Hour'] <= 12),\n",
    "    (dfs1['Acc_Time_Hour'] > 12) & (dfs1['Acc_Time_Hour'] <= 14),\n",
    "    (dfs1['Acc_Time_Hour'] > 14) & (dfs1['Acc_Time_Hour'] <= 16),\n",
    "    (dfs1['Acc_Time_Hour'] > 16) & (dfs1['Acc_Time_Hour'] <= 18),\n",
    "    (dfs1['Acc_Time_Hour'] > 18) & (dfs1['Acc_Time_Hour'] <= 20),\n",
    "    (dfs1['Acc_Time_Hour'] > 20) & (dfs1['Acc_Time_Hour'] <= 22),\n",
    "    (dfs1['Acc_Time_Hour'] > 22) & (dfs1['Acc_Time_Hour'] <= 24),\n",
    "    ]\n",
    "# create a list of the values we want to assign for each condition\n",
    "values = ['01','02','03','04','05','06','07','08','09','10','11','12']\n",
    "# create a new column and use np.select to assign values to it using our lists as arguments\n",
    "dfs1[\"Acc_Time_patern\"] = np.select(conditions, values)\n",
    "\n",
    "# create time representation\n",
    "dfs1[\"Acc_Time1\"]=dfs1[\"Acc_Time_Year\"].astype(str)+dfs1[\"Acc_Time_Month\"].astype(str)+dfs1[\"Acc_Time_Day\"].astype(str)+dfs1[\"Acc_Time_patern\"].astype(str)\n",
    "dfs1[\"Acc_Time1\"]=dfs1[\"Acc_Time1\"].astype(int)"
   ]
  },
  {
   "cell_type": "code",
   "execution_count": 119,
   "metadata": {
    "scrolled": true
   },
   "outputs": [],
   "source": [
    "#creating duration feature\n",
    "dfs1[\"Acc_Time_Day\"]=dfs1[\"Start_Time\"].dt.day.astype(int)\n",
    "dfs1[\"Acc_Time_Hour\"]=dfs1[\"Start_Time\"].dt.hour.astype(int)\n",
    "dfs1[\"Acc_Time_Minute\"]=dfs1[\"Start_Time\"].dt.minute.astype(int)\n",
    "dfs1[\"Acc_Time_Day2\"]=dfs1[\"End_Time\"].dt.day.astype(int)\n",
    "dfs1[\"Acc_Time_Hour2\"]=dfs1[\"End_Time\"].dt.hour.astype(int)\n",
    "dfs1[\"Acc_Time_Minute2\"]=dfs1[\"End_Time\"].dt.minute.astype(int)\n",
    "\n",
    "dfs1[\"duration\"]=(dfs1[\"Acc_Time_Day2\"]-dfs1[\"Acc_Time_Day\"])*60*24+(dfs1[\"Acc_Time_Hour2\"]-dfs1[\"Acc_Time_Hour\"])*60+(dfs1[\"Acc_Time_Minute2\"]-dfs1[\"Acc_Time_Minute\"])\n",
    "dfs1=dfs1[dfs1[\"duration\"]>0]"
   ]
  },
  {
   "cell_type": "code",
   "execution_count": 120,
   "metadata": {},
   "outputs": [],
   "source": [
    "dfs1 = dfs1.sort_values(by=[\"Acc_Time1\"]) \n",
    "dfs1 = dfs1[dfs1[\"Acc_Time1\"]>=2016032210]\n",
    "dfs1 = dfs1[dfs1[\"Acc_Time1\"]<=2020063010]"
   ]
  },
  {
   "cell_type": "code",
   "execution_count": 121,
   "metadata": {},
   "outputs": [],
   "source": [
    "#columns i & j represent latitude & longitude respectively\n",
    "dfs1['geohash_code5'] = dfs1[['Start_Lat','Start_Lng']].apply(lambda x: gh.encode(x['Start_Lat'],x['Start_Lng'],precision=5),axis=1)"
   ]
  },
  {
   "cell_type": "code",
   "execution_count": 122,
   "metadata": {},
   "outputs": [],
   "source": [
    "saved = dfs1.copy()"
   ]
  },
  {
   "cell_type": "code",
   "execution_count": 125,
   "metadata": {},
   "outputs": [
    {
     "data": {
      "text/html": [
       "<div>\n",
       "<style scoped>\n",
       "    .dataframe tbody tr th:only-of-type {\n",
       "        vertical-align: middle;\n",
       "    }\n",
       "\n",
       "    .dataframe tbody tr th {\n",
       "        vertical-align: top;\n",
       "    }\n",
       "\n",
       "    .dataframe thead th {\n",
       "        text-align: right;\n",
       "    }\n",
       "</style>\n",
       "<table border=\"1\" class=\"dataframe\">\n",
       "  <thead>\n",
       "    <tr style=\"text-align: right;\">\n",
       "      <th></th>\n",
       "      <th>ID</th>\n",
       "      <th>Source</th>\n",
       "      <th>TMC</th>\n",
       "      <th>Severity</th>\n",
       "      <th>Start_Time</th>\n",
       "      <th>End_Time</th>\n",
       "      <th>DU</th>\n",
       "      <th>Start_Lat</th>\n",
       "      <th>Start_Lng</th>\n",
       "      <th>End_Lat</th>\n",
       "      <th>...</th>\n",
       "      <th>Acc_Time_Day</th>\n",
       "      <th>Acc_Time_Hour</th>\n",
       "      <th>Acc_Time_Minute</th>\n",
       "      <th>Acc_Time_patern</th>\n",
       "      <th>Acc_Time1</th>\n",
       "      <th>Acc_Time_Day2</th>\n",
       "      <th>Acc_Time_Hour2</th>\n",
       "      <th>Acc_Time_Minute2</th>\n",
       "      <th>duration</th>\n",
       "      <th>geohash_code5</th>\n",
       "    </tr>\n",
       "  </thead>\n",
       "  <tbody>\n",
       "    <tr>\n",
       "      <th>48253</th>\n",
       "      <td>A-97140</td>\n",
       "      <td>MapQuest</td>\n",
       "      <td>1900-07-19 00:00:00</td>\n",
       "      <td>3.0</td>\n",
       "      <td>2016-03-22 20:50:00</td>\n",
       "      <td>2016-03-22 22:25:00</td>\n",
       "      <td>95</td>\n",
       "      <td>33.998714</td>\n",
       "      <td>-118.176270</td>\n",
       "      <td>NaN</td>\n",
       "      <td>...</td>\n",
       "      <td>22</td>\n",
       "      <td>20</td>\n",
       "      <td>50</td>\n",
       "      <td>10</td>\n",
       "      <td>2016032210</td>\n",
       "      <td>22</td>\n",
       "      <td>22</td>\n",
       "      <td>25</td>\n",
       "      <td>95</td>\n",
       "      <td>9q5cq</td>\n",
       "    </tr>\n",
       "    <tr>\n",
       "      <th>48251</th>\n",
       "      <td>A-97146</td>\n",
       "      <td>MapQuest</td>\n",
       "      <td>1900-07-19 00:00:00</td>\n",
       "      <td>2.0</td>\n",
       "      <td>2016-03-22 22:17:00</td>\n",
       "      <td>2016-03-22 23:02:00</td>\n",
       "      <td>45</td>\n",
       "      <td>34.028297</td>\n",
       "      <td>-118.186256</td>\n",
       "      <td>NaN</td>\n",
       "      <td>...</td>\n",
       "      <td>22</td>\n",
       "      <td>22</td>\n",
       "      <td>17</td>\n",
       "      <td>11</td>\n",
       "      <td>2016032211</td>\n",
       "      <td>22</td>\n",
       "      <td>23</td>\n",
       "      <td>2</td>\n",
       "      <td>45</td>\n",
       "      <td>9q5cw</td>\n",
       "    </tr>\n",
       "    <tr>\n",
       "      <th>48252</th>\n",
       "      <td>A-97144</td>\n",
       "      <td>MapQuest</td>\n",
       "      <td>1900-07-19 00:00:00</td>\n",
       "      <td>3.0</td>\n",
       "      <td>2016-03-22 22:09:00</td>\n",
       "      <td>2016-03-22 23:10:00</td>\n",
       "      <td>61</td>\n",
       "      <td>34.031689</td>\n",
       "      <td>-118.418961</td>\n",
       "      <td>NaN</td>\n",
       "      <td>...</td>\n",
       "      <td>22</td>\n",
       "      <td>22</td>\n",
       "      <td>9</td>\n",
       "      <td>11</td>\n",
       "      <td>2016032211</td>\n",
       "      <td>22</td>\n",
       "      <td>23</td>\n",
       "      <td>10</td>\n",
       "      <td>61</td>\n",
       "      <td>9q5c9</td>\n",
       "    </tr>\n",
       "  </tbody>\n",
       "</table>\n",
       "<p>3 rows × 60 columns</p>\n",
       "</div>"
      ],
      "text/plain": [
       "            ID    Source                  TMC  Severity          Start_Time  \\\n",
       "48253  A-97140  MapQuest  1900-07-19 00:00:00       3.0 2016-03-22 20:50:00   \n",
       "48251  A-97146  MapQuest  1900-07-19 00:00:00       2.0 2016-03-22 22:17:00   \n",
       "48252  A-97144  MapQuest  1900-07-19 00:00:00       3.0 2016-03-22 22:09:00   \n",
       "\n",
       "                 End_Time  DU  Start_Lat   Start_Lng  End_Lat  ...  \\\n",
       "48253 2016-03-22 22:25:00  95  33.998714 -118.176270      NaN  ...   \n",
       "48251 2016-03-22 23:02:00  45  34.028297 -118.186256      NaN  ...   \n",
       "48252 2016-03-22 23:10:00  61  34.031689 -118.418961      NaN  ...   \n",
       "\n",
       "       Acc_Time_Day  Acc_Time_Hour  Acc_Time_Minute Acc_Time_patern  \\\n",
       "48253            22             20               50              10   \n",
       "48251            22             22               17              11   \n",
       "48252            22             22                9              11   \n",
       "\n",
       "        Acc_Time1 Acc_Time_Day2 Acc_Time_Hour2 Acc_Time_Minute2  duration  \\\n",
       "48253  2016032210            22             22               25        95   \n",
       "48251  2016032211            22             23                2        45   \n",
       "48252  2016032211            22             23               10        61   \n",
       "\n",
       "      geohash_code5  \n",
       "48253         9q5cq  \n",
       "48251         9q5cw  \n",
       "48252         9q5c9  \n",
       "\n",
       "[3 rows x 60 columns]"
      ]
     },
     "execution_count": 125,
     "metadata": {},
     "output_type": "execute_result"
    }
   ],
   "source": [
    "dfs1.head(3)"
   ]
  },
  {
   "cell_type": "code",
   "execution_count": 126,
   "metadata": {},
   "outputs": [],
   "source": [
    "acc = dfs1[['Acc_Time1', 'geohash_code5', 'duration', 'Distance(mi)', 'Severity']]"
   ]
  },
  {
   "cell_type": "code",
   "execution_count": 127,
   "metadata": {},
   "outputs": [
    {
     "name": "stderr",
     "output_type": "stream",
     "text": [
      "<ipython-input-127-13b01c14420f>:6: FutureWarning: Indexing with multiple keys (implicitly converted to a tuple of keys) will be deprecated, use a list instead.\n",
      "  ac1=acc.groupby(['Acc_Time1',\"geohash_code5\"])[\"time\",'geo'].agg(lambda x: pd.Series.mode(x)[0])\n"
     ]
    },
    {
     "data": {
      "text/plain": [
       "(array([6.3205e+04, 1.0097e+04, 1.0230e+03, 2.0900e+02, 1.2700e+02,\n",
       "        4.0000e+01, 8.0000e+00, 8.0000e+00, 2.0000e+00, 3.0000e+00]),\n",
       " array([ 1. ,  3.7,  6.4,  9.1, 11.8, 14.5, 17.2, 19.9, 22.6, 25.3, 28. ]),\n",
       " <BarContainer object of 10 artists>)"
      ]
     },
     "execution_count": 127,
     "metadata": {},
     "output_type": "execute_result"
    },
    {
     "data": {
      "image/png": "[encoded data removed]",
      "text/plain": [
       "<Figure size 288x288 with 1 Axes>"
      ]
     },
     "metadata": {},
     "output_type": "display_data"
    }
   ],
   "source": [
    "#groupby accident data\n",
    "acc[\"time\"]=acc[\"Acc_Time1\"]\n",
    "acc[\"geo\"]=acc[\"geohash_code5\"]\n",
    "acc[\"acc_count\"]=acc[\"duration\"]\n",
    "ac1=acc.groupby(['Acc_Time1',\"geohash_code5\"])[\"time\",'geo'].agg(lambda x: pd.Series.mode(x)[0])\n",
    "ac2=acc.groupby(['Acc_Time1',\"geohash_code5\"]).agg({\"acc_count\":\"count\",\"duration\":\"sum\", \"Distance(mi)\":\"sum\",\"Severity\":\"sum\"})\n",
    "acc_grouped=pd.concat([ac1,ac2],axis=1)\n",
    "acc_grouped\n",
    "\n",
    "plt.hist(acc_grouped[\"Severity\"])"
   ]
  },
  {
   "cell_type": "code",
   "execution_count": 130,
   "metadata": {},
   "outputs": [
    {
     "data": {
      "text/plain": [
       "(array([[2.2000e+01, 0.0000e+00, 0.0000e+00, 6.8908e+04, 0.0000e+00,\n",
       "         0.0000e+00, 0.0000e+00, 1.9413e+04, 0.0000e+00, 1.2730e+03],\n",
       "        [0.0000e+00, 0.0000e+00, 0.0000e+00, 0.0000e+00, 7.4793e+04,\n",
       "         4.2760e+03, 4.5670e+03, 2.1560e+03, 1.3690e+03, 2.4550e+03],\n",
       "        [0.0000e+00, 0.0000e+00, 0.0000e+00, 3.8293e+04, 3.6302e+04,\n",
       "         4.4490e+03, 1.0700e+03, 4.2900e+02, 2.3900e+02, 8.8340e+03]]),\n",
       " array([-2.69230324, -2.12307292, -1.55384259, -0.98461227, -0.41538195,\n",
       "         0.15384838,  0.7230787 ,  1.29230903,  1.86153935,  2.43076968,\n",
       "         3.        ]),\n",
       " <a list of 3 BarContainer objects>)"
      ]
     },
     "execution_count": 130,
     "metadata": {},
     "output_type": "execute_result"
    },
    {
     "data": {
      "image/png": "[encoded data removed]",
      "text/plain": [
       "<Figure size 288x288 with 1 Axes>"
      ]
     },
     "metadata": {},
     "output_type": "display_data"
    }
   ],
   "source": [
    "acc = dfs1.copy()\n",
    "acc=acc[[\"Severity\",\"Distance(mi)\",\"duration\"]]\n",
    "accscaler = StandardScaler()\n",
    "accscaler.fit(acc)\n",
    "accscaled = accscaler.transform(acc)\n",
    "\n",
    "#outliear treatment\n",
    "a=accscaled[:,0]>3\n",
    "accscaled[a,0]=3\n",
    "\n",
    "a=accscaled[:,1]>3\n",
    "accscaled[a,1]=3\n",
    "\n",
    "a=accscaled[:,2]>3\n",
    "accscaled[a,2]=3\n",
    "plt.hist(accscaled[:,:])"
   ]
  },
  {
   "cell_type": "code",
   "execution_count": 147,
   "metadata": {},
   "outputs": [],
   "source": [
    "#importing accidents with gamma labeled\n",
    "gamma_n_acc = model.predict(accscaled)\n",
    "dfs1[\"gamma_kmeans\"]=gamma_n_acc #note that this columns and the below is filled with gamma's real values\n",
    "# and will be replaced with gamma's class in the next code\n",
    "dfs1[\"gamma_quantile\"]=gamma_n_acc\n",
    "# dfs1['geohash_code5'] = dfs1[['Start_Lat','Start_Lng']].apply(lambda x: gh.encode(x['Start_Lat'],x['Start_Lng'],precision=5),axis=1)\n",
    "#dfs1.to_csv(\"C:/Users/vcc/Desktop/dars/term7/transportation/transportation project/final data/with gamma(new).csv\")"
   ]
  },
  {
   "cell_type": "code",
   "execution_count": 148,
   "metadata": {},
   "outputs": [
    {
     "data": {
      "image/png": "[encoded data removed]",
      "text/plain": [
       "<Figure size 288x288 with 1 Axes>"
      ]
     },
     "metadata": {},
     "output_type": "display_data"
    },
    {
     "data": {
      "image/png": "[encoded data removed]",
      "text/plain": [
       "<Figure size 288x288 with 1 Axes>"
      ]
     },
     "metadata": {},
     "output_type": "display_data"
    }
   ],
   "source": [
    "plt.hist(dfs1[\"gamma_kmeans\"],bins=20)\n",
    "plt.title(\"accident gamma\")\n",
    "\n",
    "plt.show()\n",
    "plt.hist(model.predict(x_test),bins=20)\n",
    "plt.title(\"congestion gamma\")\n",
    "plt.show()"
   ]
  },
  {
   "cell_type": "code",
   "execution_count": 149,
   "metadata": {},
   "outputs": [],
   "source": [
    "#acc = pd.read_csv('C:/Users/vcc/Desktop/dars/term7/transportation/transportation project/final data/with gamma(new).csv')\n",
    "acc=dfs1.copy()\n",
    "acc=acc.sort_values(by=[\"Start_Time\"])\n",
    "acc=acc[acc[\"Acc_Time1\"]>=2018000000]\n",
    "acc=acc[acc[\"Acc_Time1\"]<2020000000]"
   ]
  },
  {
   "cell_type": "code",
   "execution_count": 151,
   "metadata": {},
   "outputs": [
    {
     "data": {
      "text/plain": [
       "(64885, 62)"
      ]
     },
     "execution_count": 151,
     "metadata": {},
     "output_type": "execute_result"
    }
   ],
   "source": [
    "acc.shape"
   ]
  },
  {
   "cell_type": "code",
   "execution_count": 152,
   "metadata": {},
   "outputs": [
    {
     "name": "stderr",
     "output_type": "stream",
     "text": [
      "<ipython-input-152-d79349504f7c>:5: FutureWarning: Indexing with multiple keys (implicitly converted to a tuple of keys) will be deprecated, use a list instead.\n",
      "  ac1=acc.groupby(['Acc_Time1',\"geohash_code5\"])[\"time\",'geo'].agg(lambda x: pd.Series.mode(x)[0])\n"
     ]
    },
    {
     "data": {
      "text/html": [
       "<div>\n",
       "<style scoped>\n",
       "    .dataframe tbody tr th:only-of-type {\n",
       "        vertical-align: middle;\n",
       "    }\n",
       "\n",
       "    .dataframe tbody tr th {\n",
       "        vertical-align: top;\n",
       "    }\n",
       "\n",
       "    .dataframe thead th {\n",
       "        text-align: right;\n",
       "    }\n",
       "</style>\n",
       "<table border=\"1\" class=\"dataframe\">\n",
       "  <thead>\n",
       "    <tr style=\"text-align: right;\">\n",
       "      <th></th>\n",
       "      <th></th>\n",
       "      <th>time</th>\n",
       "      <th>geo</th>\n",
       "      <th>acc_count</th>\n",
       "      <th>duration</th>\n",
       "      <th>Distance(mi)</th>\n",
       "      <th>Severity</th>\n",
       "      <th>Start_Lat</th>\n",
       "      <th>Start_Lng</th>\n",
       "      <th>gamma_kmeans</th>\n",
       "      <th>gamma_quantile</th>\n",
       "    </tr>\n",
       "    <tr>\n",
       "      <th>Acc_Time1</th>\n",
       "      <th>geohash_code5</th>\n",
       "      <th></th>\n",
       "      <th></th>\n",
       "      <th></th>\n",
       "      <th></th>\n",
       "      <th></th>\n",
       "      <th></th>\n",
       "      <th></th>\n",
       "      <th></th>\n",
       "      <th></th>\n",
       "      <th></th>\n",
       "    </tr>\n",
       "  </thead>\n",
       "  <tbody>\n",
       "    <tr>\n",
       "      <th rowspan=\"4\" valign=\"top\">2018010101</th>\n",
       "      <th>9q5dp</th>\n",
       "      <td>2018010101</td>\n",
       "      <td>9q5dp</td>\n",
       "      <td>1</td>\n",
       "      <td>365</td>\n",
       "      <td>2.038</td>\n",
       "      <td>2.0</td>\n",
       "      <td>34.121100</td>\n",
       "      <td>-118.479720</td>\n",
       "      <td>1.758836</td>\n",
       "      <td>1.758836</td>\n",
       "    </tr>\n",
       "    <tr>\n",
       "      <th>9q5f0</th>\n",
       "      <td>2018010101</td>\n",
       "      <td>9q5f0</td>\n",
       "      <td>2</td>\n",
       "      <td>771</td>\n",
       "      <td>3.206</td>\n",
       "      <td>6.0</td>\n",
       "      <td>34.126604</td>\n",
       "      <td>-118.475266</td>\n",
       "      <td>5.268949</td>\n",
       "      <td>5.268949</td>\n",
       "    </tr>\n",
       "    <tr>\n",
       "      <th>9q5f2</th>\n",
       "      <td>2018010101</td>\n",
       "      <td>9q5f2</td>\n",
       "      <td>1</td>\n",
       "      <td>360</td>\n",
       "      <td>0.420</td>\n",
       "      <td>2.0</td>\n",
       "      <td>34.165340</td>\n",
       "      <td>-118.469730</td>\n",
       "      <td>0.336435</td>\n",
       "      <td>0.336435</td>\n",
       "    </tr>\n",
       "    <tr>\n",
       "      <th>9q5fr</th>\n",
       "      <td>2018010101</td>\n",
       "      <td>9q5fr</td>\n",
       "      <td>1</td>\n",
       "      <td>360</td>\n",
       "      <td>0.230</td>\n",
       "      <td>3.0</td>\n",
       "      <td>34.152030</td>\n",
       "      <td>-118.143760</td>\n",
       "      <td>1.111829</td>\n",
       "      <td>1.111829</td>\n",
       "    </tr>\n",
       "    <tr>\n",
       "      <th>2018010102</th>\n",
       "      <th>9q5by</th>\n",
       "      <td>2018010102</td>\n",
       "      <td>9q5by</td>\n",
       "      <td>2</td>\n",
       "      <td>720</td>\n",
       "      <td>0.684</td>\n",
       "      <td>6.0</td>\n",
       "      <td>33.915467</td>\n",
       "      <td>-118.188607</td>\n",
       "      <td>2.154596</td>\n",
       "      <td>2.154596</td>\n",
       "    </tr>\n",
       "    <tr>\n",
       "      <th>...</th>\n",
       "      <th>...</th>\n",
       "      <td>...</td>\n",
       "      <td>...</td>\n",
       "      <td>...</td>\n",
       "      <td>...</td>\n",
       "      <td>...</td>\n",
       "      <td>...</td>\n",
       "      <td>...</td>\n",
       "      <td>...</td>\n",
       "      <td>...</td>\n",
       "      <td>...</td>\n",
       "    </tr>\n",
       "    <tr>\n",
       "      <th rowspan=\"5\" valign=\"top\">2019123111</th>\n",
       "      <th>9q5cx</th>\n",
       "      <td>2019123111</td>\n",
       "      <td>9q5cx</td>\n",
       "      <td>1</td>\n",
       "      <td>54</td>\n",
       "      <td>0.000</td>\n",
       "      <td>2.0</td>\n",
       "      <td>34.016994</td>\n",
       "      <td>-118.141115</td>\n",
       "      <td>-0.486194</td>\n",
       "      <td>-0.486194</td>\n",
       "    </tr>\n",
       "    <tr>\n",
       "      <th>9q5dr</th>\n",
       "      <td>2019123111</td>\n",
       "      <td>9q5dr</td>\n",
       "      <td>1</td>\n",
       "      <td>115</td>\n",
       "      <td>0.000</td>\n",
       "      <td>2.0</td>\n",
       "      <td>34.170535</td>\n",
       "      <td>-118.501090</td>\n",
       "      <td>-0.256197</td>\n",
       "      <td>-0.256197</td>\n",
       "    </tr>\n",
       "    <tr>\n",
       "      <th>9q5f3</th>\n",
       "      <td>2019123111</td>\n",
       "      <td>9q5f3</td>\n",
       "      <td>1</td>\n",
       "      <td>53</td>\n",
       "      <td>0.000</td>\n",
       "      <td>2.0</td>\n",
       "      <td>34.156661</td>\n",
       "      <td>-118.413771</td>\n",
       "      <td>-0.492480</td>\n",
       "      <td>-0.492480</td>\n",
       "    </tr>\n",
       "    <tr>\n",
       "      <th>9q5f5</th>\n",
       "      <td>2019123111</td>\n",
       "      <td>9q5f5</td>\n",
       "      <td>1</td>\n",
       "      <td>73</td>\n",
       "      <td>0.000</td>\n",
       "      <td>2.0</td>\n",
       "      <td>34.101681</td>\n",
       "      <td>-118.316495</td>\n",
       "      <td>-0.366769</td>\n",
       "      <td>-0.366769</td>\n",
       "    </tr>\n",
       "    <tr>\n",
       "      <th>9qh38</th>\n",
       "      <td>2019123111</td>\n",
       "      <td>9qh38</td>\n",
       "      <td>3</td>\n",
       "      <td>153</td>\n",
       "      <td>0.010</td>\n",
       "      <td>6.0</td>\n",
       "      <td>34.023881</td>\n",
       "      <td>-117.753415</td>\n",
       "      <td>-1.315124</td>\n",
       "      <td>-1.315124</td>\n",
       "    </tr>\n",
       "  </tbody>\n",
       "</table>\n",
       "<p>52948 rows × 10 columns</p>\n",
       "</div>"
      ],
      "text/plain": [
       "                                time    geo  acc_count  duration  \\\n",
       "Acc_Time1  geohash_code5                                           \n",
       "2018010101 9q5dp          2018010101  9q5dp          1       365   \n",
       "           9q5f0          2018010101  9q5f0          2       771   \n",
       "           9q5f2          2018010101  9q5f2          1       360   \n",
       "           9q5fr          2018010101  9q5fr          1       360   \n",
       "2018010102 9q5by          2018010102  9q5by          2       720   \n",
       "...                              ...    ...        ...       ...   \n",
       "2019123111 9q5cx          2019123111  9q5cx          1        54   \n",
       "           9q5dr          2019123111  9q5dr          1       115   \n",
       "           9q5f3          2019123111  9q5f3          1        53   \n",
       "           9q5f5          2019123111  9q5f5          1        73   \n",
       "           9qh38          2019123111  9qh38          3       153   \n",
       "\n",
       "                          Distance(mi)  Severity  Start_Lat   Start_Lng  \\\n",
       "Acc_Time1  geohash_code5                                                  \n",
       "2018010101 9q5dp                 2.038       2.0  34.121100 -118.479720   \n",
       "           9q5f0                 3.206       6.0  34.126604 -118.475266   \n",
       "           9q5f2                 0.420       2.0  34.165340 -118.469730   \n",
       "           9q5fr                 0.230       3.0  34.152030 -118.143760   \n",
       "2018010102 9q5by                 0.684       6.0  33.915467 -118.188607   \n",
       "...                                ...       ...        ...         ...   \n",
       "2019123111 9q5cx                 0.000       2.0  34.016994 -118.141115   \n",
       "           9q5dr                 0.000       2.0  34.170535 -118.501090   \n",
       "           9q5f3                 0.000       2.0  34.156661 -118.413771   \n",
       "           9q5f5                 0.000       2.0  34.101681 -118.316495   \n",
       "           9qh38                 0.010       6.0  34.023881 -117.753415   \n",
       "\n",
       "                          gamma_kmeans  gamma_quantile  \n",
       "Acc_Time1  geohash_code5                                \n",
       "2018010101 9q5dp              1.758836        1.758836  \n",
       "           9q5f0              5.268949        5.268949  \n",
       "           9q5f2              0.336435        0.336435  \n",
       "           9q5fr              1.111829        1.111829  \n",
       "2018010102 9q5by              2.154596        2.154596  \n",
       "...                                ...             ...  \n",
       "2019123111 9q5cx             -0.486194       -0.486194  \n",
       "           9q5dr             -0.256197       -0.256197  \n",
       "           9q5f3             -0.492480       -0.492480  \n",
       "           9q5f5             -0.366769       -0.366769  \n",
       "           9qh38             -1.315124       -1.315124  \n",
       "\n",
       "[52948 rows x 10 columns]"
      ]
     },
     "execution_count": 152,
     "metadata": {},
     "output_type": "execute_result"
    }
   ],
   "source": [
    "#groupby accident data\n",
    "acc[\"time\"]=acc[\"Acc_Time1\"]\n",
    "acc[\"geo\"]=acc[\"geohash_code5\"]\n",
    "acc[\"acc_count\"]=acc[\"duration\"]\n",
    "ac1=acc.groupby(['Acc_Time1',\"geohash_code5\"])[\"time\",'geo'].agg(lambda x: pd.Series.mode(x)[0])\n",
    "ac2=acc.groupby(['Acc_Time1',\"geohash_code5\"]).agg({\"acc_count\":\"count\",\"duration\":\"sum\",\n",
    "                                                       \"Distance(mi)\":\"sum\",\"Severity\":\"sum\",\"Start_Lat\":\"mean\",\n",
    "                                                       \"Start_Lng\":\"mean\",\"gamma_kmeans\":\"sum\",\"gamma_quantile\":\"sum\"})\n",
    "acc_grouped=pd.concat([ac1,ac2],axis=1)\n",
    "acc_grouped"
   ]
  },
  {
   "cell_type": "code",
   "execution_count": 52,
   "metadata": {},
   "outputs": [],
   "source": [
    "dfs1['gamma_kmeans'] = dfs1['gamma_kmeans'].fillna(0)"
   ]
  },
  {
   "cell_type": "code",
   "execution_count": 156,
   "metadata": {},
   "outputs": [],
   "source": [
    "def gamma_quantile_classification(gamma):\n",
    "    gamma=np.sort(gamma)\n",
    "    conditions = [\n",
    "    (gamma <= np.percentile(gamma,[50])[0]),\n",
    "    (gamma > np.percentile(gamma,[50])[0])\n",
    "    ]\n",
    "    values = [1,2]\n",
    "    gamma_class1 = np.select(conditions, values)\n",
    "    return gamma_class1"
   ]
  },
  {
   "cell_type": "code",
   "execution_count": 154,
   "metadata": {},
   "outputs": [
    {
     "name": "stdout",
     "output_type": "stream",
     "text": [
      "gamma         -0.430354\n",
      "class gamma    0.000000\n",
      "dtype: float64\n",
      "gamma          0.962005\n",
      "class gamma    1.000000\n",
      "dtype: float64\n"
     ]
    },
    {
     "data": {
      "text/plain": [
       "(array([63134.,     0.,     0.,     0.,     0.,     0.,     0.,     0.,\n",
       "            0., 26482.]),\n",
       " array([0. , 0.1, 0.2, 0.3, 0.4, 0.5, 0.6, 0.7, 0.8, 0.9, 1. ]),\n",
       " <BarContainer object of 10 artists>)"
      ]
     },
     "execution_count": 154,
     "metadata": {},
     "output_type": "execute_result"
    },
    {
     "data": {
      "image/png": "[encoded data removed]",
      "text/plain": [
       "<Figure size 288x288 with 1 Axes>"
      ]
     },
     "metadata": {},
     "output_type": "display_data"
    }
   ],
   "source": [
    "#kmeans classification\n",
    "from sklearn.cluster import KMeans\n",
    "kmeans = KMeans(n_clusters=2)\n",
    "kmeans.fit(dfs1[\"gamma_kmeans\"].values.reshape(-1,1))\n",
    "gamma_class2=kmeans.labels_\n",
    "#برای اینکه مطمئن شویم عددی که به کلاس هر گاما داده میشود متناسب با مقدار عددی گاما باشد\n",
    "#مثلا میانگین مقادیر گاما با کلاس 0 بزرگتر از  میانگین مقادیر گاما با کلاس 1 نباشد\n",
    "gamma_class2=gamma_class2.reshape(-1)\n",
    "gamma_n=dfs1[\"gamma_kmeans\"].values.reshape(-1,1).reshape(-1)\n",
    "df=pd.DataFrame()\n",
    "df[\"gamma\"]=gamma_n\n",
    "df[\"class gamma\"]=gamma_class2\n",
    "print(df[df[\"class gamma\"]==0].mean())\n",
    "print(df[df[\"class gamma\"]==1].mean())\n",
    "# print(df[df[\"class gamma\"]==2].mean())\n",
    "plt.hist(df[\"class gamma\"])"
   ]
  },
  {
   "cell_type": "code",
   "execution_count": 157,
   "metadata": {},
   "outputs": [
    {
     "data": {
      "image/png": "[encoded data removed]",
      "text/plain": [
       "<Figure size 288x288 with 1 Axes>"
      ]
     },
     "metadata": {},
     "output_type": "display_data"
    },
    {
     "data": {
      "image/png": "[encoded data removed]",
      "text/plain": [
       "<Figure size 288x288 with 1 Axes>"
      ]
     },
     "metadata": {},
     "output_type": "display_data"
    }
   ],
   "source": [
    "dfs1[\"gamma_value\"]=dfs1[\"gamma_kmeans\"]\n",
    "dfs1[\"gamma_kmeans\"]=df[\"class gamma\"].values+1 #به علاوه یک میکنیم تا کلاس ها 1و2 باشند\n",
    "dfs1[\"gamma_quantile\"]=gamma_quantile_classification(dfs1[\"gamma_quantile\"].values.reshape(-1,1))\n",
    "plt.hist(dfs1[\"gamma_kmeans\"])\n",
    "plt.show()\n",
    "plt.hist(dfs1[\"gamma_quantile\"])\n",
    "plt.show()"
   ]
  },
  {
   "cell_type": "code",
   "execution_count": 1,
   "metadata": {},
   "outputs": [],
   "source": [
    "dfs1.drop(['Acc_Time_Year', 'Acc_Time_Month','Acc_Time_Day', 'Acc_Time_Hour', 'Acc_Time_Minute', 'Acc_Time_patern', \n",
    "           'Acc_Time_Hour2', 'Acc_Time_Minute2', 'Acc_Time_Day2'],axis=1,inplace=True)"
   ]
  },
  {
   "cell_type": "code",
   "execution_count": 168,
   "metadata": {},
   "outputs": [
    {
     "data": {
      "text/html": [
       "<div>\n",
       "<style scoped>\n",
       "    .dataframe tbody tr th:only-of-type {\n",
       "        vertical-align: middle;\n",
       "    }\n",
       "\n",
       "    .dataframe tbody tr th {\n",
       "        vertical-align: top;\n",
       "    }\n",
       "\n",
       "    .dataframe thead th {\n",
       "        text-align: right;\n",
       "    }\n",
       "</style>\n",
       "<table border=\"1\" class=\"dataframe\">\n",
       "  <thead>\n",
       "    <tr style=\"text-align: right;\">\n",
       "      <th></th>\n",
       "      <th>ID</th>\n",
       "      <th>Source</th>\n",
       "      <th>TMC</th>\n",
       "      <th>Severity</th>\n",
       "      <th>Start_Time</th>\n",
       "      <th>End_Time</th>\n",
       "      <th>DU</th>\n",
       "      <th>Start_Lat</th>\n",
       "      <th>Start_Lng</th>\n",
       "      <th>End_Lat</th>\n",
       "      <th>...</th>\n",
       "      <th>Sunrise_Sunset</th>\n",
       "      <th>Civil_Twilight</th>\n",
       "      <th>Nautical_Twilight</th>\n",
       "      <th>Astronomical_Twilight</th>\n",
       "      <th>Acc_Time1</th>\n",
       "      <th>duration</th>\n",
       "      <th>geohash_code5</th>\n",
       "      <th>gamma_kmeans</th>\n",
       "      <th>gamma_quantile</th>\n",
       "      <th>gamma_value</th>\n",
       "    </tr>\n",
       "  </thead>\n",
       "  <tbody>\n",
       "    <tr>\n",
       "      <th>48253</th>\n",
       "      <td>A-97140</td>\n",
       "      <td>MapQuest</td>\n",
       "      <td>1900-07-19 00:00:00</td>\n",
       "      <td>3.0</td>\n",
       "      <td>2016-03-22 20:50:00</td>\n",
       "      <td>2016-03-22 22:25:00</td>\n",
       "      <td>95</td>\n",
       "      <td>33.998714</td>\n",
       "      <td>-118.176270</td>\n",
       "      <td>NaN</td>\n",
       "      <td>...</td>\n",
       "      <td>Night</td>\n",
       "      <td>Night</td>\n",
       "      <td>Night</td>\n",
       "      <td>Night</td>\n",
       "      <td>2016032210</td>\n",
       "      <td>95</td>\n",
       "      <td>9q5cq</td>\n",
       "      <td>2</td>\n",
       "      <td>2</td>\n",
       "      <td>1.074274</td>\n",
       "    </tr>\n",
       "    <tr>\n",
       "      <th>48251</th>\n",
       "      <td>A-97146</td>\n",
       "      <td>MapQuest</td>\n",
       "      <td>1900-07-19 00:00:00</td>\n",
       "      <td>2.0</td>\n",
       "      <td>2016-03-22 22:17:00</td>\n",
       "      <td>2016-03-22 23:02:00</td>\n",
       "      <td>45</td>\n",
       "      <td>34.028297</td>\n",
       "      <td>-118.186256</td>\n",
       "      <td>NaN</td>\n",
       "      <td>...</td>\n",
       "      <td>Night</td>\n",
       "      <td>Night</td>\n",
       "      <td>Night</td>\n",
       "      <td>Night</td>\n",
       "      <td>2016032211</td>\n",
       "      <td>45</td>\n",
       "      <td>9q5cw</td>\n",
       "      <td>1</td>\n",
       "      <td>1</td>\n",
       "      <td>-0.542764</td>\n",
       "    </tr>\n",
       "    <tr>\n",
       "      <th>48252</th>\n",
       "      <td>A-97144</td>\n",
       "      <td>MapQuest</td>\n",
       "      <td>1900-07-19 00:00:00</td>\n",
       "      <td>3.0</td>\n",
       "      <td>2016-03-22 22:09:00</td>\n",
       "      <td>2016-03-22 23:10:00</td>\n",
       "      <td>61</td>\n",
       "      <td>34.031689</td>\n",
       "      <td>-118.418961</td>\n",
       "      <td>NaN</td>\n",
       "      <td>...</td>\n",
       "      <td>Night</td>\n",
       "      <td>Night</td>\n",
       "      <td>Night</td>\n",
       "      <td>Night</td>\n",
       "      <td>2016032211</td>\n",
       "      <td>61</td>\n",
       "      <td>9q5c9</td>\n",
       "      <td>2</td>\n",
       "      <td>2</td>\n",
       "      <td>0.860566</td>\n",
       "    </tr>\n",
       "    <tr>\n",
       "      <th>48250</th>\n",
       "      <td>A-97173</td>\n",
       "      <td>MapQuest</td>\n",
       "      <td>1900-07-19 00:00:00</td>\n",
       "      <td>2.0</td>\n",
       "      <td>2016-03-23 07:08:00</td>\n",
       "      <td>2016-03-23 07:53:00</td>\n",
       "      <td>45</td>\n",
       "      <td>33.918877</td>\n",
       "      <td>-118.278282</td>\n",
       "      <td>NaN</td>\n",
       "      <td>...</td>\n",
       "      <td>Day</td>\n",
       "      <td>Day</td>\n",
       "      <td>Day</td>\n",
       "      <td>Day</td>\n",
       "      <td>2016032304</td>\n",
       "      <td>45</td>\n",
       "      <td>9q5bu</td>\n",
       "      <td>1</td>\n",
       "      <td>1</td>\n",
       "      <td>-0.542764</td>\n",
       "    </tr>\n",
       "    <tr>\n",
       "      <th>48249</th>\n",
       "      <td>A-97210</td>\n",
       "      <td>MapQuest</td>\n",
       "      <td>1900-07-19 00:00:00</td>\n",
       "      <td>3.0</td>\n",
       "      <td>2016-03-23 12:08:00</td>\n",
       "      <td>2016-03-23 12:38:00</td>\n",
       "      <td>30</td>\n",
       "      <td>34.055008</td>\n",
       "      <td>-118.214218</td>\n",
       "      <td>NaN</td>\n",
       "      <td>...</td>\n",
       "      <td>Day</td>\n",
       "      <td>Day</td>\n",
       "      <td>Day</td>\n",
       "      <td>Day</td>\n",
       "      <td>2016032306</td>\n",
       "      <td>30</td>\n",
       "      <td>9q5ct</td>\n",
       "      <td>2</td>\n",
       "      <td>2</td>\n",
       "      <td>0.749829</td>\n",
       "    </tr>\n",
       "    <tr>\n",
       "      <th>...</th>\n",
       "      <td>...</td>\n",
       "      <td>...</td>\n",
       "      <td>...</td>\n",
       "      <td>...</td>\n",
       "      <td>...</td>\n",
       "      <td>...</td>\n",
       "      <td>...</td>\n",
       "      <td>...</td>\n",
       "      <td>...</td>\n",
       "      <td>...</td>\n",
       "      <td>...</td>\n",
       "      <td>...</td>\n",
       "      <td>...</td>\n",
       "      <td>...</td>\n",
       "      <td>...</td>\n",
       "      <td>...</td>\n",
       "      <td>...</td>\n",
       "      <td>...</td>\n",
       "      <td>...</td>\n",
       "      <td>...</td>\n",
       "      <td>...</td>\n",
       "    </tr>\n",
       "    <tr>\n",
       "      <th>4</th>\n",
       "      <td>A-561584</td>\n",
       "      <td>MapQuest</td>\n",
       "      <td>1900-07-19 00:00:00</td>\n",
       "      <td>2.0</td>\n",
       "      <td>2020-06-30 09:21:00</td>\n",
       "      <td>2020-06-30 10:35:00</td>\n",
       "      <td>74</td>\n",
       "      <td>33.993782</td>\n",
       "      <td>-118.182968</td>\n",
       "      <td>NaN</td>\n",
       "      <td>...</td>\n",
       "      <td>Day</td>\n",
       "      <td>Day</td>\n",
       "      <td>Day</td>\n",
       "      <td>Day</td>\n",
       "      <td>2020063005</td>\n",
       "      <td>74</td>\n",
       "      <td>9q5cq</td>\n",
       "      <td>1</td>\n",
       "      <td>2</td>\n",
       "      <td>-0.360483</td>\n",
       "    </tr>\n",
       "    <tr>\n",
       "      <th>3</th>\n",
       "      <td>A-561615</td>\n",
       "      <td>MapQuest</td>\n",
       "      <td>1900-07-19 00:00:00</td>\n",
       "      <td>3.0</td>\n",
       "      <td>2020-06-30 16:40:00</td>\n",
       "      <td>2020-06-30 17:10:00</td>\n",
       "      <td>30</td>\n",
       "      <td>33.959728</td>\n",
       "      <td>-118.280655</td>\n",
       "      <td>NaN</td>\n",
       "      <td>...</td>\n",
       "      <td>Day</td>\n",
       "      <td>Day</td>\n",
       "      <td>Day</td>\n",
       "      <td>Day</td>\n",
       "      <td>2020063008</td>\n",
       "      <td>30</td>\n",
       "      <td>9q5ch</td>\n",
       "      <td>2</td>\n",
       "      <td>2</td>\n",
       "      <td>0.734145</td>\n",
       "    </tr>\n",
       "    <tr>\n",
       "      <th>2</th>\n",
       "      <td>A-561628</td>\n",
       "      <td>MapQuest</td>\n",
       "      <td>1900-07-19 00:00:00</td>\n",
       "      <td>3.0</td>\n",
       "      <td>2020-06-30 19:09:00</td>\n",
       "      <td>2020-06-30 19:55:00</td>\n",
       "      <td>46</td>\n",
       "      <td>33.930126</td>\n",
       "      <td>-118.280563</td>\n",
       "      <td>NaN</td>\n",
       "      <td>...</td>\n",
       "      <td>Day</td>\n",
       "      <td>Day</td>\n",
       "      <td>Day</td>\n",
       "      <td>Day</td>\n",
       "      <td>2020063010</td>\n",
       "      <td>46</td>\n",
       "      <td>9q5ch</td>\n",
       "      <td>2</td>\n",
       "      <td>2</td>\n",
       "      <td>0.768608</td>\n",
       "    </tr>\n",
       "    <tr>\n",
       "      <th>1</th>\n",
       "      <td>A-561630</td>\n",
       "      <td>MapQuest</td>\n",
       "      <td>1900-07-19 00:00:00</td>\n",
       "      <td>3.0</td>\n",
       "      <td>2020-06-30 19:11:00</td>\n",
       "      <td>2020-06-30 20:11:00</td>\n",
       "      <td>60</td>\n",
       "      <td>34.032688</td>\n",
       "      <td>-118.219986</td>\n",
       "      <td>NaN</td>\n",
       "      <td>...</td>\n",
       "      <td>Day</td>\n",
       "      <td>Day</td>\n",
       "      <td>Day</td>\n",
       "      <td>Day</td>\n",
       "      <td>2020063010</td>\n",
       "      <td>60</td>\n",
       "      <td>9q5ct</td>\n",
       "      <td>2</td>\n",
       "      <td>2</td>\n",
       "      <td>0.856606</td>\n",
       "    </tr>\n",
       "    <tr>\n",
       "      <th>0</th>\n",
       "      <td>A-561636</td>\n",
       "      <td>MapQuest</td>\n",
       "      <td>1900-07-19 00:00:00</td>\n",
       "      <td>2.0</td>\n",
       "      <td>2020-06-30 20:57:00</td>\n",
       "      <td>2020-06-30 22:11:00</td>\n",
       "      <td>74</td>\n",
       "      <td>34.093311</td>\n",
       "      <td>-118.206268</td>\n",
       "      <td>NaN</td>\n",
       "      <td>...</td>\n",
       "      <td>Night</td>\n",
       "      <td>Night</td>\n",
       "      <td>Day</td>\n",
       "      <td>Day</td>\n",
       "      <td>2020063010</td>\n",
       "      <td>74</td>\n",
       "      <td>9q5cy</td>\n",
       "      <td>1</td>\n",
       "      <td>2</td>\n",
       "      <td>-0.360483</td>\n",
       "    </tr>\n",
       "  </tbody>\n",
       "</table>\n",
       "<p>89616 rows × 54 columns</p>\n",
       "</div>"
      ],
      "text/plain": [
       "             ID    Source                  TMC  Severity          Start_Time  \\\n",
       "48253   A-97140  MapQuest  1900-07-19 00:00:00       3.0 2016-03-22 20:50:00   \n",
       "48251   A-97146  MapQuest  1900-07-19 00:00:00       2.0 2016-03-22 22:17:00   \n",
       "48252   A-97144  MapQuest  1900-07-19 00:00:00       3.0 2016-03-22 22:09:00   \n",
       "48250   A-97173  MapQuest  1900-07-19 00:00:00       2.0 2016-03-23 07:08:00   \n",
       "48249   A-97210  MapQuest  1900-07-19 00:00:00       3.0 2016-03-23 12:08:00   \n",
       "...         ...       ...                  ...       ...                 ...   \n",
       "4      A-561584  MapQuest  1900-07-19 00:00:00       2.0 2020-06-30 09:21:00   \n",
       "3      A-561615  MapQuest  1900-07-19 00:00:00       3.0 2020-06-30 16:40:00   \n",
       "2      A-561628  MapQuest  1900-07-19 00:00:00       3.0 2020-06-30 19:09:00   \n",
       "1      A-561630  MapQuest  1900-07-19 00:00:00       3.0 2020-06-30 19:11:00   \n",
       "0      A-561636  MapQuest  1900-07-19 00:00:00       2.0 2020-06-30 20:57:00   \n",
       "\n",
       "                 End_Time  DU  Start_Lat   Start_Lng  End_Lat  ...  \\\n",
       "48253 2016-03-22 22:25:00  95  33.998714 -118.176270      NaN  ...   \n",
       "48251 2016-03-22 23:02:00  45  34.028297 -118.186256      NaN  ...   \n",
       "48252 2016-03-22 23:10:00  61  34.031689 -118.418961      NaN  ...   \n",
       "48250 2016-03-23 07:53:00  45  33.918877 -118.278282      NaN  ...   \n",
       "48249 2016-03-23 12:38:00  30  34.055008 -118.214218      NaN  ...   \n",
       "...                   ...  ..        ...         ...      ...  ...   \n",
       "4     2020-06-30 10:35:00  74  33.993782 -118.182968      NaN  ...   \n",
       "3     2020-06-30 17:10:00  30  33.959728 -118.280655      NaN  ...   \n",
       "2     2020-06-30 19:55:00  46  33.930126 -118.280563      NaN  ...   \n",
       "1     2020-06-30 20:11:00  60  34.032688 -118.219986      NaN  ...   \n",
       "0     2020-06-30 22:11:00  74  34.093311 -118.206268      NaN  ...   \n",
       "\n",
       "       Sunrise_Sunset  Civil_Twilight  Nautical_Twilight  \\\n",
       "48253           Night           Night              Night   \n",
       "48251           Night           Night              Night   \n",
       "48252           Night           Night              Night   \n",
       "48250             Day             Day                Day   \n",
       "48249             Day             Day                Day   \n",
       "...               ...             ...                ...   \n",
       "4                 Day             Day                Day   \n",
       "3                 Day             Day                Day   \n",
       "2                 Day             Day                Day   \n",
       "1                 Day             Day                Day   \n",
       "0               Night           Night                Day   \n",
       "\n",
       "      Astronomical_Twilight   Acc_Time1 duration geohash_code5 gamma_kmeans  \\\n",
       "48253                 Night  2016032210       95         9q5cq            2   \n",
       "48251                 Night  2016032211       45         9q5cw            1   \n",
       "48252                 Night  2016032211       61         9q5c9            2   \n",
       "48250                   Day  2016032304       45         9q5bu            1   \n",
       "48249                   Day  2016032306       30         9q5ct            2   \n",
       "...                     ...         ...      ...           ...          ...   \n",
       "4                       Day  2020063005       74         9q5cq            1   \n",
       "3                       Day  2020063008       30         9q5ch            2   \n",
       "2                       Day  2020063010       46         9q5ch            2   \n",
       "1                       Day  2020063010       60         9q5ct            2   \n",
       "0                       Day  2020063010       74         9q5cy            1   \n",
       "\n",
       "       gamma_quantile gamma_value  \n",
       "48253               2    1.074274  \n",
       "48251               1   -0.542764  \n",
       "48252               2    0.860566  \n",
       "48250               1   -0.542764  \n",
       "48249               2    0.749829  \n",
       "...               ...         ...  \n",
       "4                   2   -0.360483  \n",
       "3                   2    0.734145  \n",
       "2                   2    0.768608  \n",
       "1                   2    0.856606  \n",
       "0                   2   -0.360483  \n",
       "\n",
       "[89616 rows x 54 columns]"
      ]
     },
     "execution_count": 168,
     "metadata": {},
     "output_type": "execute_result"
    }
   ],
   "source": [
    "dfs1"
   ]
  },
  {
   "cell_type": "code",
   "execution_count": 169,
   "metadata": {},
   "outputs": [],
   "source": [
    "dfs1.to_csv(r'E:\\bachelor project\\accident_dataset with gamma.csv')"
   ]
  },
  {
   "cell_type": "code",
   "execution_count": null,
   "metadata": {},
   "outputs": [],
   "source": []
  }
 ],
 "metadata": {
  "kernelspec": {
   "display_name": "Python 3",
   "language": "python",
   "name": "python3"
  },
  "language_info": {
   "codemirror_mode": {
    "name": "ipython",
    "version": 3
   },
   "file_extension": ".py",
   "mimetype": "text/x-python",
   "name": "python",
   "nbconvert_exporter": "python",
   "pygments_lexer": "ipython3",
   "version": "3.8.3"
  }
 },
 "nbformat": 4,
 "nbformat_minor": 4
}
