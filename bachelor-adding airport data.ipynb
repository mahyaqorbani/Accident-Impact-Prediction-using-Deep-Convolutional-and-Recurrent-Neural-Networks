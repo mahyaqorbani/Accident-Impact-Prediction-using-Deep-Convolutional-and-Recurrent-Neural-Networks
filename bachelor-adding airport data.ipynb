{
 "cells": [
  {
   "cell_type": "code",
   "execution_count": 1,
   "metadata": {},
   "outputs": [],
   "source": [
    "import pandas as pd\n",
    "import numpy as np\n",
    "import matplotlib.pyplot as plt\n",
    "import pygeohash as pgh"
   ]
  },
  {
   "cell_type": "code",
   "execution_count": 2,
   "metadata": {},
   "outputs": [
    {
     "name": "stderr",
     "output_type": "stream",
     "text": [
      "D:\\apps\\anaconda\\lib\\site-packages\\IPython\\core\\interactiveshell.py:3145: DtypeWarning: Columns (11) have mixed types.Specify dtype option on import or set low_memory=False.\n",
      "  has_raised = await self.run_ast_nodes(code_ast.body, cell_name,\n"
     ]
    }
   ],
   "source": [
    "df= pd.read_csv('E:\\download/LA_County_Weather\\KBUR.csv')"
   ]
  },
  {
   "cell_type": "code",
   "execution_count": 4,
   "metadata": {},
   "outputs": [],
   "source": [
    "dc1= pd.read_excel(r'E:\\bachelor project\\time index1.xlsx', sheet_name='index12_1' )\n",
    "dc2= pd.read_excel(r'E:\\bachelor project\\time index1.xlsx', sheet_name='index12_2' )\n",
    "\n",
    "dc = dc1.append(dc2)"
   ]
  },
  {
   "cell_type": "markdown",
   "metadata": {},
   "source": [
    "GEO means geohash (5km*5km squares)"
   ]
  },
  {
   "cell_type": "code",
   "execution_count": 5,
   "metadata": {},
   "outputs": [],
   "source": [
    "geo = list(dc['geohash'].unique())\n",
    "geo = pd.DataFrame(geo)\n",
    "geo['lat']= geo[0]\n",
    "geo['lon'] = geo[0]"
   ]
  },
  {
   "cell_type": "code",
   "execution_count": 9,
   "metadata": {},
   "outputs": [],
   "source": [
    "for i in range(len(geo)):\n",
    "    geo['lat'][i] = (pgh.decode(geo[0][i]))[0]\n",
    "    geo['lon'][i] = (pgh.decode(geo[0][i]))[1]"
   ]
  },
  {
   "cell_type": "code",
   "execution_count": 10,
   "metadata": {},
   "outputs": [],
   "source": [
    "merged = pd.merge(left=dc, right=geo, how='left', left_on=['geohash'], right_on=[0])"
   ]
  },
  {
   "cell_type": "code",
   "execution_count": 11,
   "metadata": {},
   "outputs": [
    {
     "data": {
      "text/html": [
       "<div>\n",
       "<style scoped>\n",
       "    .dataframe tbody tr th:only-of-type {\n",
       "        vertical-align: middle;\n",
       "    }\n",
       "\n",
       "    .dataframe tbody tr th {\n",
       "        vertical-align: top;\n",
       "    }\n",
       "\n",
       "    .dataframe thead th {\n",
       "        text-align: right;\n",
       "    }\n",
       "</style>\n",
       "<table border=\"1\" class=\"dataframe\">\n",
       "  <thead>\n",
       "    <tr style=\"text-align: right;\">\n",
       "      <th></th>\n",
       "      <th>twelve</th>\n",
       "      <th>geohash</th>\n",
       "      <th>0</th>\n",
       "      <th>lat</th>\n",
       "      <th>lon</th>\n",
       "    </tr>\n",
       "  </thead>\n",
       "  <tbody>\n",
       "    <tr>\n",
       "      <th>0</th>\n",
       "      <td>2018010101</td>\n",
       "      <td>9q5cv</td>\n",
       "      <td>9q5cv</td>\n",
       "      <td>34.1</td>\n",
       "      <td>-118.2</td>\n",
       "    </tr>\n",
       "    <tr>\n",
       "      <th>1</th>\n",
       "      <td>2018010102</td>\n",
       "      <td>9q5cv</td>\n",
       "      <td>9q5cv</td>\n",
       "      <td>34.1</td>\n",
       "      <td>-118.2</td>\n",
       "    </tr>\n",
       "    <tr>\n",
       "      <th>2</th>\n",
       "      <td>2018010103</td>\n",
       "      <td>9q5cv</td>\n",
       "      <td>9q5cv</td>\n",
       "      <td>34.1</td>\n",
       "      <td>-118.2</td>\n",
       "    </tr>\n",
       "    <tr>\n",
       "      <th>3</th>\n",
       "      <td>2018010104</td>\n",
       "      <td>9q5cv</td>\n",
       "      <td>9q5cv</td>\n",
       "      <td>34.1</td>\n",
       "      <td>-118.2</td>\n",
       "    </tr>\n",
       "    <tr>\n",
       "      <th>4</th>\n",
       "      <td>2018010105</td>\n",
       "      <td>9q5cv</td>\n",
       "      <td>9q5cv</td>\n",
       "      <td>34.1</td>\n",
       "      <td>-118.2</td>\n",
       "    </tr>\n",
       "    <tr>\n",
       "      <th>...</th>\n",
       "      <td>...</td>\n",
       "      <td>...</td>\n",
       "      <td>...</td>\n",
       "      <td>...</td>\n",
       "      <td>...</td>\n",
       "    </tr>\n",
       "    <tr>\n",
       "      <th>1339195</th>\n",
       "      <td>2019123108</td>\n",
       "      <td>9q5uw</td>\n",
       "      <td>9q5uw</td>\n",
       "      <td>34.6</td>\n",
       "      <td>-118.2</td>\n",
       "    </tr>\n",
       "    <tr>\n",
       "      <th>1339196</th>\n",
       "      <td>2019123109</td>\n",
       "      <td>9q5uw</td>\n",
       "      <td>9q5uw</td>\n",
       "      <td>34.6</td>\n",
       "      <td>-118.2</td>\n",
       "    </tr>\n",
       "    <tr>\n",
       "      <th>1339197</th>\n",
       "      <td>2019123110</td>\n",
       "      <td>9q5uw</td>\n",
       "      <td>9q5uw</td>\n",
       "      <td>34.6</td>\n",
       "      <td>-118.2</td>\n",
       "    </tr>\n",
       "    <tr>\n",
       "      <th>1339198</th>\n",
       "      <td>2019123111</td>\n",
       "      <td>9q5uw</td>\n",
       "      <td>9q5uw</td>\n",
       "      <td>34.6</td>\n",
       "      <td>-118.2</td>\n",
       "    </tr>\n",
       "    <tr>\n",
       "      <th>1339199</th>\n",
       "      <td>2019123112</td>\n",
       "      <td>9q5uw</td>\n",
       "      <td>9q5uw</td>\n",
       "      <td>34.6</td>\n",
       "      <td>-118.2</td>\n",
       "    </tr>\n",
       "  </tbody>\n",
       "</table>\n",
       "<p>1339200 rows × 5 columns</p>\n",
       "</div>"
      ],
      "text/plain": [
       "             twelve geohash      0   lat    lon\n",
       "0        2018010101   9q5cv  9q5cv  34.1 -118.2\n",
       "1        2018010102   9q5cv  9q5cv  34.1 -118.2\n",
       "2        2018010103   9q5cv  9q5cv  34.1 -118.2\n",
       "3        2018010104   9q5cv  9q5cv  34.1 -118.2\n",
       "4        2018010105   9q5cv  9q5cv  34.1 -118.2\n",
       "...             ...     ...    ...   ...    ...\n",
       "1339195  2019123108   9q5uw  9q5uw  34.6 -118.2\n",
       "1339196  2019123109   9q5uw  9q5uw  34.6 -118.2\n",
       "1339197  2019123110   9q5uw  9q5uw  34.6 -118.2\n",
       "1339198  2019123111   9q5uw  9q5uw  34.6 -118.2\n",
       "1339199  2019123112   9q5uw  9q5uw  34.6 -118.2\n",
       "\n",
       "[1339200 rows x 5 columns]"
      ]
     },
     "execution_count": 11,
     "metadata": {},
     "output_type": "execute_result"
    }
   ],
   "source": [
    "merged"
   ]
  },
  {
   "cell_type": "code",
   "execution_count": 12,
   "metadata": {},
   "outputs": [],
   "source": [
    "dc = merged.drop(0, axis = 1)"
   ]
  },
  {
   "cell_type": "code",
   "execution_count": 13,
   "metadata": {},
   "outputs": [],
   "source": [
    "# slice inorder to be able to save a huge data in one excel file\n",
    "dc1 = dc[:int(1339200/2)]\n",
    "dc2 = dc[int(1339200/2) :]"
   ]
  },
  {
   "cell_type": "code",
   "execution_count": 19,
   "metadata": {},
   "outputs": [],
   "source": [
    "with pd.ExcelWriter(r'E:\\bachelor project\\dc.xlsx') as writer:\n",
    "    dc1.to_excel(writer, sheet_name='dc1')\n",
    "    dc2.to_excel(writer, sheet_name='dc2')"
   ]
  },
  {
   "cell_type": "code",
   "execution_count": 5,
   "metadata": {},
   "outputs": [],
   "source": [
    "dc1= pd.read_excel(r'E:\\bachelor project\\dc.xlsx', sheet_name='dc1' )\n",
    "dc2= pd.read_excel(r'E:\\bachelor project\\dc.xlsx', sheet_name='dc2' )"
   ]
  },
  {
   "cell_type": "code",
   "execution_count": 6,
   "metadata": {},
   "outputs": [],
   "source": [
    "dc = dc1.append(dc2)"
   ]
  },
  {
   "cell_type": "code",
   "execution_count": 14,
   "metadata": {
    "scrolled": true
   },
   "outputs": [
    {
     "name": "stdout",
     "output_type": "stream",
     "text": [
      "0\n"
     ]
    },
    {
     "name": "stderr",
     "output_type": "stream",
     "text": [
      "D:\\apps\\anaconda\\lib\\site-packages\\pandas\\core\\indexing.py:670: SettingWithCopyWarning: \n",
      "A value is trying to be set on a copy of a slice from a DataFrame\n",
      "\n",
      "See the caveats in the documentation: https://pandas.pydata.org/pandas-docs/stable/user_guide/indexing.html#returning-a-view-versus-a-copy\n",
      "  iloc._setitem_with_indexer(indexer, value)\n"
     ]
    },
    {
     "name": "stdout",
     "output_type": "stream",
     "text": [
      "20000\n",
      "40000\n",
      "60000\n",
      "80000\n",
      "100000\n",
      "120000\n",
      "140000\n",
      "160000\n",
      "180000\n",
      "200000\n",
      "220000\n",
      "240000\n",
      "260000\n",
      "280000\n",
      "300000\n",
      "320000\n",
      "340000\n",
      "360000\n",
      "380000\n",
      "400000\n",
      "420000\n",
      "440000\n",
      "460000\n",
      "480000\n",
      "500000\n",
      "520000\n",
      "540000\n",
      "560000\n",
      "580000\n",
      "600000\n",
      "620000\n",
      "640000\n",
      "660000\n",
      "680000\n",
      "700000\n",
      "720000\n",
      "740000\n",
      "760000\n",
      "780000\n",
      "800000\n",
      "820000\n",
      "840000\n",
      "860000\n",
      "880000\n",
      "900000\n",
      "920000\n",
      "940000\n",
      "960000\n",
      "980000\n",
      "1000000\n",
      "1020000\n",
      "1040000\n",
      "1060000\n",
      "1080000\n",
      "1100000\n",
      "1120000\n",
      "1140000\n",
      "1160000\n",
      "1180000\n",
      "1200000\n",
      "1220000\n",
      "1240000\n",
      "1260000\n",
      "1280000\n",
      "1300000\n",
      "1320000\n"
     ]
    }
   ],
   "source": [
    "import haversine as hs\n",
    "dc[\"dis_1\"]=0\n",
    "dc[\"AP\"]=0\n",
    "dc[\"dis_2\"]=0\n",
    "dc[\"dis_3\"]=0\n",
    "dc[\"dis_4\"]=0\n",
    "#Air ports' latitudes & longitudes\n",
    "locAP1=(33.9382, -118.3865)\n",
    "locAP2=(34.1997,-118.3654)\n",
    "locAP3=(34.2156, -118.4917)\n",
    "locAP4=(34.2593, -118.4134)\n",
    "\n",
    "for i in range (dc.shape[0]):\n",
    "    if i % 20000==0:\n",
    "        print(i)\n",
    "    locc=(dc[\"lat\"].iloc[i],dc[\"lon\"].iloc[i])\n",
    "    dc[\"dis_1\"].iloc[i]=hs.haversine(locc,locAP1)\n",
    "    dc[\"dis_2\"].iloc[i]=hs.haversine(locc,locAP2)\n",
    "    dc[\"dis_3\"].iloc[i]=hs.haversine(locc,locAP3)\n",
    "    dc[\"dis_4\"].iloc[i]=hs.haversine(locc,locAP4)\n",
    "    min=np.min((dc[\"dis_1\"].iloc[i],dc[\"dis_2\"].iloc[i],dc[\"dis_3\"].iloc[i],dc[\"dis_4\"].iloc[i]))\n",
    "    if min==dc[\"dis_1\"].iloc[i]:\n",
    "        dc[\"AP\"].iloc[i]=1\n",
    "    elif min==dc[\"dis_2\"].iloc[i]:\n",
    "        dc[\"AP\"].iloc[i]=2\n",
    "    elif min==dc[\"dis_3\"].iloc[i]:\n",
    "        dc[\"AP\"].iloc[i]=3\n",
    "    else:\n",
    "        dc[\"AP\"].iloc[i]=4  "
   ]
  },
  {
   "cell_type": "code",
   "execution_count": 15,
   "metadata": {},
   "outputs": [
    {
     "data": {
      "text/plain": [
       "(array([589248.,      0.,      0., 410688.,      0.,      0., 133920.,\n",
       "             0.,      0., 205344.]),\n",
       " array([1. , 1.3, 1.6, 1.9, 2.2, 2.5, 2.8, 3.1, 3.4, 3.7, 4. ]),\n",
       " <BarContainer object of 10 artists>)"
      ]
     },
     "execution_count": 15,
     "metadata": {},
     "output_type": "execute_result"
    },
    {
     "data": {
      "image/png": "[encoded data removed]",
      "text/plain": [
       "<Figure size 432x288 with 1 Axes>"
      ]
     },
     "metadata": {
      "needs_background": "light"
     },
     "output_type": "display_data"
    }
   ],
   "source": [
    "plt.hist(dc[\"AP\"])"
   ]
  },
  {
   "cell_type": "markdown",
   "metadata": {},
   "source": [
    "# AirPort preprocessing section"
   ]
  },
  {
   "cell_type": "code",
   "execution_count": null,
   "metadata": {},
   "outputs": [],
   "source": [
    "#Run the below code for every airport data by just change the name of the file. Please follow the order:\n",
    "#KLAX\n",
    "#KBUR\n",
    "#KVNY\n",
    "#KWHP"
   ]
  },
  {
   "cell_type": "code",
   "execution_count": 52,
   "metadata": {},
   "outputs": [
    {
     "name": "stderr",
     "output_type": "stream",
     "text": [
      "D:\\apps\\anaconda\\lib\\site-packages\\IPython\\core\\interactiveshell.py:3145: DtypeWarning: Columns (11) have mixed types.Specify dtype option on import or set low_memory=False.\n",
      "  has_raised = await self.run_ast_nodes(code_ast.body, cell_name,\n"
     ]
    }
   ],
   "source": [
    "ap1= pd.read_csv('E:\\download/LA_County_Weather\\KLAX.csv')#هربار عوضش میکنیم\n",
    "ap1['WindSpeed'] =ap1['WindSpeed'].replace([-1000],0)\n",
    "ap1['Temp'] =ap1['Temp'].replace([-1000],0)\n",
    "ap1['Humd'] =ap1['Humd'].replace([-1000],0)\n",
    "ap1['Pressure'] =ap1['Pressure'].replace([-1000],0)\n",
    "ap1['Visib'] =ap1['Visib'].replace([-1000],0)\n"
   ]
  },
  {
   "cell_type": "code",
   "execution_count": 53,
   "metadata": {},
   "outputs": [
    {
     "data": {
      "text/html": [
       "<div>\n",
       "<style scoped>\n",
       "    .dataframe tbody tr th:only-of-type {\n",
       "        vertical-align: middle;\n",
       "    }\n",
       "\n",
       "    .dataframe tbody tr th {\n",
       "        vertical-align: top;\n",
       "    }\n",
       "\n",
       "    .dataframe thead th {\n",
       "        text-align: right;\n",
       "    }\n",
       "</style>\n",
       "<table border=\"1\" class=\"dataframe\">\n",
       "  <thead>\n",
       "    <tr style=\"text-align: right;\">\n",
       "      <th></th>\n",
       "      <th>Airport</th>\n",
       "      <th>Date</th>\n",
       "      <th>Hour</th>\n",
       "      <th>Temp</th>\n",
       "      <th>WindChill</th>\n",
       "      <th>Humd</th>\n",
       "      <th>Pressure</th>\n",
       "      <th>Visib</th>\n",
       "      <th>WindSpeed</th>\n",
       "      <th>WindDir</th>\n",
       "      <th>...</th>\n",
       "      <th>Conditions</th>\n",
       "      <th>Unnamed: 13</th>\n",
       "      <th>day</th>\n",
       "      <th>month</th>\n",
       "      <th>year</th>\n",
       "      <th>hour</th>\n",
       "      <th>patern</th>\n",
       "      <th>Day</th>\n",
       "      <th>Month</th>\n",
       "      <th>Acc_Time1</th>\n",
       "    </tr>\n",
       "  </thead>\n",
       "  <tbody>\n",
       "    <tr>\n",
       "      <th>0</th>\n",
       "      <td>KLAX</td>\n",
       "      <td>8/11/2016</td>\n",
       "      <td>9:53 PM</td>\n",
       "      <td>68.0</td>\n",
       "      <td>-1000.0</td>\n",
       "      <td>81</td>\n",
       "      <td>30.01</td>\n",
       "      <td>10.0</td>\n",
       "      <td>12.7</td>\n",
       "      <td>West</td>\n",
       "      <td>...</td>\n",
       "      <td>Scattered Clouds</td>\n",
       "      <td>NaN</td>\n",
       "      <td>11</td>\n",
       "      <td>08</td>\n",
       "      <td>2016</td>\n",
       "      <td>21</td>\n",
       "      <td>11</td>\n",
       "      <td>11</td>\n",
       "      <td>08</td>\n",
       "      <td>2016081111</td>\n",
       "    </tr>\n",
       "    <tr>\n",
       "      <th>1</th>\n",
       "      <td>KLAX</td>\n",
       "      <td>8/11/2016</td>\n",
       "      <td>11:53 PM</td>\n",
       "      <td>66.9</td>\n",
       "      <td>-1000.0</td>\n",
       "      <td>81</td>\n",
       "      <td>30.02</td>\n",
       "      <td>10.0</td>\n",
       "      <td>9.2</td>\n",
       "      <td>West</td>\n",
       "      <td>...</td>\n",
       "      <td>Mostly Cloudy</td>\n",
       "      <td>NaN</td>\n",
       "      <td>11</td>\n",
       "      <td>08</td>\n",
       "      <td>2016</td>\n",
       "      <td>23</td>\n",
       "      <td>12</td>\n",
       "      <td>11</td>\n",
       "      <td>08</td>\n",
       "      <td>2016081112</td>\n",
       "    </tr>\n",
       "    <tr>\n",
       "      <th>2</th>\n",
       "      <td>KLAX</td>\n",
       "      <td>8/11/2016</td>\n",
       "      <td>2:53 PM</td>\n",
       "      <td>75.9</td>\n",
       "      <td>-1000.0</td>\n",
       "      <td>56</td>\n",
       "      <td>30.00</td>\n",
       "      <td>10.0</td>\n",
       "      <td>13.8</td>\n",
       "      <td>WSW</td>\n",
       "      <td>...</td>\n",
       "      <td>Partly Cloudy</td>\n",
       "      <td>NaN</td>\n",
       "      <td>11</td>\n",
       "      <td>08</td>\n",
       "      <td>2016</td>\n",
       "      <td>14</td>\n",
       "      <td>08</td>\n",
       "      <td>11</td>\n",
       "      <td>08</td>\n",
       "      <td>2016081108</td>\n",
       "    </tr>\n",
       "    <tr>\n",
       "      <th>3</th>\n",
       "      <td>KLAX</td>\n",
       "      <td>8/11/2016</td>\n",
       "      <td>4:53 PM</td>\n",
       "      <td>72.0</td>\n",
       "      <td>-1000.0</td>\n",
       "      <td>68</td>\n",
       "      <td>29.97</td>\n",
       "      <td>10.0</td>\n",
       "      <td>17.3</td>\n",
       "      <td>West</td>\n",
       "      <td>...</td>\n",
       "      <td>Partly Cloudy</td>\n",
       "      <td>NaN</td>\n",
       "      <td>11</td>\n",
       "      <td>08</td>\n",
       "      <td>2016</td>\n",
       "      <td>16</td>\n",
       "      <td>09</td>\n",
       "      <td>11</td>\n",
       "      <td>08</td>\n",
       "      <td>2016081109</td>\n",
       "    </tr>\n",
       "    <tr>\n",
       "      <th>4</th>\n",
       "      <td>KLAX</td>\n",
       "      <td>8/11/2016</td>\n",
       "      <td>10:08 PM</td>\n",
       "      <td>68.0</td>\n",
       "      <td>-1000.0</td>\n",
       "      <td>81</td>\n",
       "      <td>30.02</td>\n",
       "      <td>10.0</td>\n",
       "      <td>12.7</td>\n",
       "      <td>West</td>\n",
       "      <td>...</td>\n",
       "      <td>Mostly Cloudy</td>\n",
       "      <td>NaN</td>\n",
       "      <td>11</td>\n",
       "      <td>08</td>\n",
       "      <td>2016</td>\n",
       "      <td>22</td>\n",
       "      <td>12</td>\n",
       "      <td>11</td>\n",
       "      <td>08</td>\n",
       "      <td>2016081112</td>\n",
       "    </tr>\n",
       "    <tr>\n",
       "      <th>...</th>\n",
       "      <td>...</td>\n",
       "      <td>...</td>\n",
       "      <td>...</td>\n",
       "      <td>...</td>\n",
       "      <td>...</td>\n",
       "      <td>...</td>\n",
       "      <td>...</td>\n",
       "      <td>...</td>\n",
       "      <td>...</td>\n",
       "      <td>...</td>\n",
       "      <td>...</td>\n",
       "      <td>...</td>\n",
       "      <td>...</td>\n",
       "      <td>...</td>\n",
       "      <td>...</td>\n",
       "      <td>...</td>\n",
       "      <td>...</td>\n",
       "      <td>...</td>\n",
       "      <td>...</td>\n",
       "      <td>...</td>\n",
       "      <td>...</td>\n",
       "    </tr>\n",
       "    <tr>\n",
       "      <th>49942</th>\n",
       "      <td>KLAX</td>\n",
       "      <td>12/31/2020</td>\n",
       "      <td>7:53 PM</td>\n",
       "      <td>59.0</td>\n",
       "      <td>59.0</td>\n",
       "      <td>32</td>\n",
       "      <td>29.81</td>\n",
       "      <td>10.0</td>\n",
       "      <td>13.0</td>\n",
       "      <td>NW</td>\n",
       "      <td>...</td>\n",
       "      <td>Fair</td>\n",
       "      <td>NaN</td>\n",
       "      <td>31</td>\n",
       "      <td>12</td>\n",
       "      <td>2020</td>\n",
       "      <td>19</td>\n",
       "      <td>10</td>\n",
       "      <td>31</td>\n",
       "      <td>12</td>\n",
       "      <td>2020123110</td>\n",
       "    </tr>\n",
       "    <tr>\n",
       "      <th>49943</th>\n",
       "      <td>KLAX</td>\n",
       "      <td>12/31/2020</td>\n",
       "      <td>8:53 PM</td>\n",
       "      <td>59.0</td>\n",
       "      <td>59.0</td>\n",
       "      <td>33</td>\n",
       "      <td>29.82</td>\n",
       "      <td>10.0</td>\n",
       "      <td>9.0</td>\n",
       "      <td>NNW</td>\n",
       "      <td>...</td>\n",
       "      <td>Fair</td>\n",
       "      <td>NaN</td>\n",
       "      <td>31</td>\n",
       "      <td>12</td>\n",
       "      <td>2020</td>\n",
       "      <td>20</td>\n",
       "      <td>11</td>\n",
       "      <td>31</td>\n",
       "      <td>12</td>\n",
       "      <td>2020123111</td>\n",
       "    </tr>\n",
       "    <tr>\n",
       "      <th>49944</th>\n",
       "      <td>KLAX</td>\n",
       "      <td>12/31/2020</td>\n",
       "      <td>9:53 PM</td>\n",
       "      <td>58.0</td>\n",
       "      <td>58.0</td>\n",
       "      <td>33</td>\n",
       "      <td>29.84</td>\n",
       "      <td>10.0</td>\n",
       "      <td>10.0</td>\n",
       "      <td>NNW</td>\n",
       "      <td>...</td>\n",
       "      <td>Partly Cloudy</td>\n",
       "      <td>NaN</td>\n",
       "      <td>31</td>\n",
       "      <td>12</td>\n",
       "      <td>2020</td>\n",
       "      <td>21</td>\n",
       "      <td>11</td>\n",
       "      <td>31</td>\n",
       "      <td>12</td>\n",
       "      <td>2020123111</td>\n",
       "    </tr>\n",
       "    <tr>\n",
       "      <th>49945</th>\n",
       "      <td>KLAX</td>\n",
       "      <td>12/31/2020</td>\n",
       "      <td>10:53 PM</td>\n",
       "      <td>57.0</td>\n",
       "      <td>57.0</td>\n",
       "      <td>36</td>\n",
       "      <td>29.85</td>\n",
       "      <td>10.0</td>\n",
       "      <td>3.0</td>\n",
       "      <td>VAR</td>\n",
       "      <td>...</td>\n",
       "      <td>Partly Cloudy</td>\n",
       "      <td>NaN</td>\n",
       "      <td>31</td>\n",
       "      <td>12</td>\n",
       "      <td>2020</td>\n",
       "      <td>22</td>\n",
       "      <td>12</td>\n",
       "      <td>31</td>\n",
       "      <td>12</td>\n",
       "      <td>2020123112</td>\n",
       "    </tr>\n",
       "    <tr>\n",
       "      <th>49946</th>\n",
       "      <td>KLAX</td>\n",
       "      <td>12/31/2020</td>\n",
       "      <td>11:53 PM</td>\n",
       "      <td>54.0</td>\n",
       "      <td>54.0</td>\n",
       "      <td>41</td>\n",
       "      <td>29.86</td>\n",
       "      <td>10.0</td>\n",
       "      <td>3.0</td>\n",
       "      <td>N</td>\n",
       "      <td>...</td>\n",
       "      <td>Fair</td>\n",
       "      <td>NaN</td>\n",
       "      <td>31</td>\n",
       "      <td>12</td>\n",
       "      <td>2020</td>\n",
       "      <td>23</td>\n",
       "      <td>12</td>\n",
       "      <td>31</td>\n",
       "      <td>12</td>\n",
       "      <td>2020123112</td>\n",
       "    </tr>\n",
       "  </tbody>\n",
       "</table>\n",
       "<p>49947 rows × 22 columns</p>\n",
       "</div>"
      ],
      "text/plain": [
       "      Airport        Date      Hour  Temp  WindChill  Humd  Pressure  Visib  \\\n",
       "0        KLAX   8/11/2016   9:53 PM  68.0    -1000.0    81     30.01   10.0   \n",
       "1        KLAX   8/11/2016  11:53 PM  66.9    -1000.0    81     30.02   10.0   \n",
       "2        KLAX   8/11/2016   2:53 PM  75.9    -1000.0    56     30.00   10.0   \n",
       "3        KLAX   8/11/2016   4:53 PM  72.0    -1000.0    68     29.97   10.0   \n",
       "4        KLAX   8/11/2016  10:08 PM  68.0    -1000.0    81     30.02   10.0   \n",
       "...       ...         ...       ...   ...        ...   ...       ...    ...   \n",
       "49942    KLAX  12/31/2020   7:53 PM  59.0       59.0    32     29.81   10.0   \n",
       "49943    KLAX  12/31/2020   8:53 PM  59.0       59.0    33     29.82   10.0   \n",
       "49944    KLAX  12/31/2020   9:53 PM  58.0       58.0    33     29.84   10.0   \n",
       "49945    KLAX  12/31/2020  10:53 PM  57.0       57.0    36     29.85   10.0   \n",
       "49946    KLAX  12/31/2020  11:53 PM  54.0       54.0    41     29.86   10.0   \n",
       "\n",
       "       WindSpeed WindDir  ...        Conditions Unnamed: 13 day  month  year  \\\n",
       "0           12.7    West  ...  Scattered Clouds         NaN  11     08  2016   \n",
       "1            9.2    West  ...     Mostly Cloudy         NaN  11     08  2016   \n",
       "2           13.8     WSW  ...     Partly Cloudy         NaN  11     08  2016   \n",
       "3           17.3    West  ...     Partly Cloudy         NaN  11     08  2016   \n",
       "4           12.7    West  ...     Mostly Cloudy         NaN  11     08  2016   \n",
       "...          ...     ...  ...               ...         ...  ..    ...   ...   \n",
       "49942       13.0      NW  ...              Fair         NaN  31     12  2020   \n",
       "49943        9.0     NNW  ...              Fair         NaN  31     12  2020   \n",
       "49944       10.0     NNW  ...     Partly Cloudy         NaN  31     12  2020   \n",
       "49945        3.0     VAR  ...     Partly Cloudy         NaN  31     12  2020   \n",
       "49946        3.0       N  ...              Fair         NaN  31     12  2020   \n",
       "\n",
       "      hour  patern  Day Month   Acc_Time1  \n",
       "0       21      11   11    08  2016081111  \n",
       "1       23      12   11    08  2016081112  \n",
       "2       14      08   11    08  2016081108  \n",
       "3       16      09   11    08  2016081109  \n",
       "4       22      12   11    08  2016081112  \n",
       "...    ...     ...  ...   ...         ...  \n",
       "49942   19      10   31    12  2020123110  \n",
       "49943   20      11   31    12  2020123111  \n",
       "49944   21      11   31    12  2020123111  \n",
       "49945   22      12   31    12  2020123112  \n",
       "49946   23      12   31    12  2020123112  \n",
       "\n",
       "[49947 rows x 22 columns]"
      ]
     },
     "execution_count": 53,
     "metadata": {},
     "output_type": "execute_result"
    }
   ],
   "source": [
    "conditions = [\n",
    "    (ap1['hour'] >= 0) & (ap1['hour'] < 2),\n",
    "    (ap1['hour'] >= 2) & (ap1['hour'] < 4),\n",
    "    (ap1['hour'] >= 4) & (ap1['hour'] < 6),\n",
    "    (ap1['hour'] >= 6) & (ap1['hour'] < 8),\n",
    "    (ap1['hour'] >= 8) & (ap1['hour'] < 10),\n",
    "    (ap1['hour'] >= 10) & (ap1['hour'] < 12),\n",
    "    (ap1['hour'] >= 12) & (ap1['hour'] < 14),\n",
    "    (ap1['hour'] >= 14) & (ap1['hour'] < 16),\n",
    "    (ap1['hour'] >= 16) & (ap1['hour'] < 18),\n",
    "    (ap1['hour'] >= 18) & (ap1['hour'] < 20),\n",
    "    (ap1['hour'] >= 20) & (ap1['hour'] < 22),\n",
    "    (ap1['hour'] >= 22) & (ap1['hour'] < 24),\n",
    "    ]\n",
    "# create a list of the values we want to assign for each condition\n",
    "values = ['01','02','03','04','05','06','07','08','09','10','11','12']\n",
    "# create a new column and use np.select to assign values to it using our lists as arguments\n",
    "ap1[\"patern\"] = np.select(conditions, values)\n",
    "\n",
    "#for months\n",
    "ap1[\"month\"] = ap1[\"month\"].replace([1], '01')\n",
    "ap1[\"month\"] = ap1[\"month\"].replace([2], '02')\n",
    "ap1[\"month\"] = ap1[\"month\"].replace([3], '03')\n",
    "ap1[\"month\"] = ap1[\"month\"].replace([4], '04')\n",
    "ap1[\"month\"] = ap1[\"month\"].replace([5], '05')\n",
    "ap1[\"month\"] = ap1[\"month\"].replace([6], '06')\n",
    "ap1[\"month\"] = ap1[\"month\"].replace([7], '07')\n",
    "ap1[\"month\"] = ap1[\"month\"].replace([8], '08')\n",
    "ap1[\"month\"] = ap1[\"month\"].replace([9], '09')\n",
    "\n",
    "\n",
    "#for months\n",
    "ap1[\"day\"] = ap1[\"day\"].replace([1], '01')\n",
    "ap1[\"day\"] = ap1[\"day\"].replace([2], '02')\n",
    "ap1[\"day\"] = ap1[\"day\"].replace([3], '03')\n",
    "ap1[\"day\"] = ap1[\"day\"].replace([4], '04')\n",
    "ap1[\"day\"] = ap1[\"day\"].replace([5], '05')\n",
    "ap1[\"day\"] = ap1[\"day\"].replace([6], '06')\n",
    "ap1[\"day\"] = ap1[\"day\"].replace([7], '07')\n",
    "ap1[\"day\"] = ap1[\"day\"].replace([8], '08')\n",
    "ap1[\"day\"] = ap1[\"day\"].replace([9], '09')\n",
    "\n",
    "ap1[\"Day\"]=ap1[\"day\"]\n",
    "ap1[\"Month\"]=ap1[\"month\"]\n",
    "ap1[\"Acc_Time1\"]=ap1[\"year\"].astype(str)+ap1[\"Month\"].astype(str)+ap1[\"Day\"].astype(str)+ap1[\"patern\"].astype(str)\n",
    "ap1[\"Acc_Time1\"]=ap1[\"Acc_Time1\"].astype(int)\n",
    "ap1"
   ]
  },
  {
   "cell_type": "code",
   "execution_count": 54,
   "metadata": {},
   "outputs": [],
   "source": [
    "ap1=ap1.sort_values(by=[\"Acc_Time1\"])"
   ]
  },
  {
   "cell_type": "code",
   "execution_count": 55,
   "metadata": {},
   "outputs": [],
   "source": [
    "ap1=ap1.sort_values(by=[\"Acc_Time1\"])\n",
    "dc1=dc[dc[\"AP\"]==1]# اینو به ترتیب واسه هر فایل از 1 تا 4 عوض میکنیم"
   ]
  },
  {
   "cell_type": "code",
   "execution_count": 56,
   "metadata": {},
   "outputs": [
    {
     "name": "stderr",
     "output_type": "stream",
     "text": [
      "D:\\apps\\anaconda\\lib\\site-packages\\pandas\\core\\algorithms.py:892: UserWarning: Unable to sort modes: '<' not supported between instances of 'str' and 'int'\n",
      "  warn(f\"Unable to sort modes: {err}\")\n",
      "D:\\apps\\anaconda\\lib\\site-packages\\pandas\\core\\algorithms.py:892: UserWarning: Unable to sort modes: '<' not supported between instances of 'int' and 'str'\n",
      "  warn(f\"Unable to sort modes: {err}\")\n"
     ]
    }
   ],
   "source": [
    "#dc1=dc1.groupby(['Acc_Time1']).agg({\"congestion_count\":\"count\"})\n",
    "ap1[\"WindDir\"]=ap1[\"WindDir\"].fillna(-1000)\n",
    "ap1[\"time\"]=ap1[\"Acc_Time1\"]\n",
    "ap11=ap1.groupby(['Acc_Time1']).agg({\"time\":\"mean\",\"Temp\":\"mean\",\"Humd\":\"mean\",\"Pressure\":\"mean\",\"Visib\":\"mean\",\n",
    "                                    \"WindSpeed\":\"mean\"})\n",
    "ap12=ap1.groupby(['Acc_Time1'])[\"Conditions\"].agg(lambda x: pd.Series.mode(x))\n",
    "ap13=ap1.groupby(['Acc_Time1'])[\"WindDir\"].agg(lambda x: pd.Series.mode(x)[0])\n",
    "ap1=pd.concat([ap11,ap12],axis=1)\n",
    "ap1=pd.concat([ap1,ap13],axis=1)\n"
   ]
  },
  {
   "cell_type": "code",
   "execution_count": 57,
   "metadata": {},
   "outputs": [],
   "source": [
    "merged_left1 = pd.merge(left=dc1, right=ap1, how='left', left_on=['twelve'], right_on=['Acc_Time1'])"
   ]
  },
  {
   "cell_type": "code",
   "execution_count": 62,
   "metadata": {
    "scrolled": true
   },
   "outputs": [],
   "source": [
    "cn=pd.concat([merged_left1,merged_left2,merged_left3,merged_left4],axis=0)"
   ]
  },
  {
   "cell_type": "code",
   "execution_count": 64,
   "metadata": {},
   "outputs": [
    {
     "data": {
      "text/plain": [
       "(1598112, 17)"
      ]
     },
     "execution_count": 64,
     "metadata": {},
     "output_type": "execute_result"
    }
   ],
   "source": [
    "cn.shape"
   ]
  },
  {
   "cell_type": "code",
   "execution_count": 66,
   "metadata": {},
   "outputs": [],
   "source": [
    "# again slice to save \n",
    "cn1 = cn[: int(1598112/2)]\n",
    "cn2 = cn[int(1598112/2):]"
   ]
  },
  {
   "cell_type": "code",
   "execution_count": 67,
   "metadata": {},
   "outputs": [],
   "source": [
    "with pd.ExcelWriter(r'E:\\bachelor project\\bachelorweather for 2018-2019- 12parts.xlsx') as writer:\n",
    "    cn1.to_excel(writer, sheet_name='index12_1')\n",
    "    cn2.to_excel(writer, sheet_name='index12_2')"
   ]
  },
  {
   "cell_type": "markdown",
   "metadata": {},
   "source": [
    "# continue"
   ]
  },
  {
   "cell_type": "code",
   "execution_count": 3,
   "metadata": {},
   "outputs": [],
   "source": [
    "dc1= pd.read_excel(r'E:\\paper\\weather for 2018-2019- 12parts.xlsx', sheet_name='index12_1' )\n",
    "dc2= pd.read_excel(r'E:\\paper\\weather for 2018-2019- 12parts.xlsx', sheet_name='index12_2' )"
   ]
  },
  {
   "cell_type": "code",
   "execution_count": 4,
   "metadata": {},
   "outputs": [],
   "source": [
    "dc = dc1.append(dc2, ignore_index=True)"
   ]
  },
  {
   "cell_type": "code",
   "execution_count": 5,
   "metadata": {},
   "outputs": [
    {
     "data": {
      "text/plain": [
       "150"
      ]
     },
     "execution_count": 5,
     "metadata": {},
     "output_type": "execute_result"
    }
   ],
   "source": [
    "dc['geohash'].nunique()"
   ]
  },
  {
   "cell_type": "code",
   "execution_count": 6,
   "metadata": {},
   "outputs": [
    {
     "name": "stderr",
     "output_type": "stream",
     "text": [
      "<ipython-input-6-856273680142>:5: SettingWithCopyWarning: \n",
      "A value is trying to be set on a copy of a slice from a DataFrame\n",
      "\n",
      "See the caveats in the documentation: https://pandas.pydata.org/pandas-docs/stable/user_guide/indexing.html#returning-a-view-versus-a-copy\n",
      "  dc['Conditions'][i] = a[1]\n"
     ]
    }
   ],
   "source": [
    "for i in range(len(dc)):\n",
    "    if type(dc['Conditions'][i]) == str:\n",
    "        a = (dc['Conditions'][i]).split(\"'\")\n",
    "        if len(a)>1:\n",
    "            dc['Conditions'][i] = a[1]"
   ]
  },
  {
   "cell_type": "code",
   "execution_count": 8,
   "metadata": {},
   "outputs": [],
   "source": [
    "dc = dc.replace(to_replace=['Fair / Windy'], value='Fair', regex=True)\n",
    "dc = dc.replace(to_replace=['Light Rain / Windy'], value='Light Rain', regex=True)\n",
    "dc = dc.replace(to_replace=['Rain / Windy'], value='Rain', regex=True)\n",
    "dc = dc.replace(to_replace=['Cloudy / Windy'], value='Cloudy', regex=True)\n",
    "dc = dc.replace(to_replace=['Smoke / Windy'], value='Smoke', regex=True)\n",
    "dc = dc.replace(to_replace=['Haze / Windy'], value='Haze', regex=True)\n",
    "dc = dc.replace(to_replace=['Partly Cloudy / Windy'], value='Partly Cloudy', regex=True)\n",
    "dc = dc.replace(to_replace=['Mostly Cloudy / Windy'], value='Mostly Cloudy', regex=True)\n",
    "# dc = dc.replace(to_replace=['[]'], value='Clear', regex=True)"
   ]
  },
  {
   "cell_type": "code",
   "execution_count": 13,
   "metadata": {
    "scrolled": true
   },
   "outputs": [
    {
     "data": {
      "text/plain": [
       "Clear            367626\n",
       "Fair             256086\n",
       "Partly Cloudy    183702\n",
       "Mostly Cloudy    181862\n",
       "Cloudy            96956\n",
       "Overcast          82774\n",
       "Light Rain        34078\n",
       "Haze              30920\n",
       "Fog               14886\n",
       "Heavy Rain         3216\n",
       "Smoke              2992\n",
       "Mist               1998\n",
       "Unknown             182\n",
       "Thunder              66\n",
       "[]                   48\n",
       "Name: Conditions, dtype: int64"
      ]
     },
     "execution_count": 13,
     "metadata": {},
     "output_type": "execute_result"
    }
   ],
   "source": [
    "dc['Conditions'].value_counts()"
   ]
  },
  {
   "cell_type": "code",
   "execution_count": 10,
   "metadata": {},
   "outputs": [],
   "source": [
    "dc = dc.replace(to_replace=['Scattered Clouds'], value='Partly Cloudy', regex=True)\n",
    "dc = dc.replace(to_replace=['Patches of Fog'], value='Fog', regex=True)\n",
    "dc = dc.replace(to_replace=['Rain'], value='Light Rain', regex=True)\n",
    "dc = dc.replace(to_replace=['Light Drizzle'], value='Light Rain', regex=True)\n",
    "dc = dc.replace(to_replace=['Shallow Fog'], value='Fog', regex=True)\n",
    "dc = dc.replace(to_replace=['Thunderstorm'], value='Heavy Rain', regex=True)\n",
    "dc = dc.replace(to_replace=['Drizzle'], value='Light Rain', regex=True)\n",
    "dc = dc.replace(to_replace=['Heavy Thunderstorms and Rain'], value='Heavy Rain', regex=True)\n",
    "dc = dc.replace(to_replace=['T-Storm'], value='Heavy Rain', regex=True)\n",
    "dc = dc.replace(to_replace=['Light Thunderstorms and Rain'], value='Light Rain', regex=True)\n",
    "dc = dc.replace(to_replace=['Light Rain with Thunder'], value='Light Rain', regex=True)\n",
    "dc = dc.replace(to_replace=['Thunderstorms and Rain'], value='Heavy Rain', regex=True)\n",
    "dc = dc.replace(to_replace=['Blowing Dust / Windy'], value='Mist', regex=True)\n",
    "dc = dc.replace(to_replace=['Blowing Dust'], value='Mist', regex=True)"
   ]
  },
  {
   "cell_type": "code",
   "execution_count": 12,
   "metadata": {},
   "outputs": [],
   "source": [
    "dc = dc.replace(to_replace=['Light Light Rain'], value='Light Rain', regex=True)\n",
    "dc = dc.replace(to_replace=['Heavy Light Rain'], value='Heavy Rain', regex=True)\n",
    "dc = dc.replace(to_replace=['Heavy Heavy Rains and Light Rain'], value='Heavy Rain', regex=True)\n",
    "dc = dc.replace(to_replace=['Light Heavy Rains and Light Rain'], value='Light Rain', regex=True)\n",
    "dc = dc.replace(to_replace=['Heavy Rains and Light Rain'], value='Heavy Rain', regex=True)"
   ]
  },
  {
   "cell_type": "code",
   "execution_count": 16,
   "metadata": {},
   "outputs": [],
   "source": [
    "dc.shape\n",
    "dc1 = dc[: int(1339200/2)]\n",
    "dc2 = dc[int(1339200/2):]"
   ]
  },
  {
   "cell_type": "code",
   "execution_count": 17,
   "metadata": {},
   "outputs": [],
   "source": [
    "with pd.ExcelWriter(r'E:\\bachelor project\\bachelorweather for 2018-2019- 12parts.xlsx') as writer:\n",
    "    dc1.to_excel(writer, sheet_name='index12_1')\n",
    "    dc2.to_excel(writer, sheet_name='index12_2')"
   ]
  },
  {
   "cell_type": "code",
   "execution_count": null,
   "metadata": {},
   "outputs": [],
   "source": []
  }
 ],
 "metadata": {
  "kernelspec": {
   "display_name": "Python 3",
   "language": "python",
   "name": "python3"
  },
  "language_info": {
   "codemirror_mode": {
    "name": "ipython",
    "version": 3
   },
   "file_extension": ".py",
   "mimetype": "text/x-python",
   "name": "python",
   "nbconvert_exporter": "python",
   "pygments_lexer": "ipython3",
   "version": "3.8.3"
  }
 },
 "nbformat": 4,
 "nbformat_minor": 4
}
